{
 "cells": [
  {
   "attachments": {},
   "cell_type": "markdown",
   "id": "7c7b709c",
   "metadata": {},
   "source": [
    "## Python. Mini-project 1"
   ]
  },
  {
   "attachments": {},
   "cell_type": "markdown",
   "id": "889f750e",
   "metadata": {},
   "source": [
    "Tasks\n",
    "\n",
    "1. Import the pandas library as pd.\n",
    "2. Upload bookings.csv dataset with ; separator.\n",
    "3. Check the table size, variable types, and then print the first 7 lines to look at the data.\n",
    "4. Change the column names to lowercase and replace spaces with underscores.\n",
    "5. Users from which countries have made the most successful bookings? Specify the top 5.\n",
    "6. How many nights do hotels of different types book on average?\n",
    "7. Sometimes the type of room received by the client (assigned_room_type) differs from the one originally booked (reserved_room_type). This can happen, for example, due to overbooking. How many such observations were found in the dataset?\n",
    "8. Review your planned arrival dates. – What month was the most successful booking in 2016? Did the most popular month change in 2017? - Group the data by years and check which month City Hotel bookings were canceled most often in each period\n",
    "9. Look at the numerical characteristics of the three variables: adults, children and babies. Which one has the largest average value?\n",
    "10. Create a total_kids column by concatenating children and babies. For which type of hotels did the average value of the variable turn out to be the largest?\n",
    "11. Create a has_kids variable that takes the value True if the client specified at least one child during the booking (total_kids), otherwise False. Calculate the ratio of the number of users who left to the total number of customers, expressed as a percentage (churn rate). Indicate which group has the highest rate.\n",
    "\n",
    "\n",
    "## Data Description\n",
    "**There are the following variables:**\n",
    "\n",
    "- Hotel - type of hotel (City Hotel or Resort Hotel)\n",
    "- Is canceled – the booking was canceled (1) or not (0); not canceled is considered successful\n",
    "- Lead time - the number of days elapsed between the date of booking and the date of arrival\n",
    "- Arrival full date - full date of arrival\n",
    "- Arrival date year - year of arrival\n",
    "- Arrival date month - month of arrival\n",
    "- Arrival date week number - arrival week number\n",
    "- Arrival date day of month - the day of arrival\n",
    "- Stays in weekend nights - the number of days off (Saturday or Sunday) that the guest has booked to stay at the hotel\n",
    "- Stays in week nights - the number of days (from Monday to Friday) that the guest has booked to stay at the hotel\n",
    "- Stays total nights - the total number of nights booked (the sum of the two previous columns)\n",
    "- Adults - number of adults\n",
    "- Children - number of children\n",
    "- Babies - the number of babies\n",
    "- Meal - the selected type of food\n",
    "- Country - country of origin of the client\n",
    "- Reserved room type - reserved room type\n",
    "- Assigned room type - the type of room received (may differ from the booked one)\n",
    "- Customer type - booking type\n",
    "- Reservation status - the value of the last reservation status: Canceled - was canceled by the client; Check-Out - the client has checked in, but has already left the hotel; No-Show - the client did not register and informed the hotel administration the reason\n",
    "- Reservation status date - status update date"
   ]
  },
  {
   "attachments": {},
   "cell_type": "markdown",
   "id": "acf5a8c8",
   "metadata": {},
   "source": [
    "# Task 1 - 4"
   ]
  },
  {
   "cell_type": "code",
   "execution_count": 1,
   "id": "a1fe8496",
   "metadata": {},
   "outputs": [],
   "source": [
    "import pandas as pd"
   ]
  },
  {
   "cell_type": "code",
   "execution_count": 2,
   "id": "d861712e",
   "metadata": {},
   "outputs": [],
   "source": [
    "# dataset with unique user ids\n",
    "df = pd.read_csv('./2_bookings.csv', sep=';')\n"
   ]
  },
  {
   "cell_type": "code",
   "execution_count": 4,
   "id": "84717e49",
   "metadata": {},
   "outputs": [
    {
     "name": "stdout",
     "output_type": "stream",
     "text": [
      "rows = 119390, cols = 21\n"
     ]
    }
   ],
   "source": [
    "# dataset size\n",
    "rows, cols = df.shape\n",
    "print(f'{rows = }, {cols = }')"
   ]
  },
  {
   "cell_type": "code",
   "execution_count": 5,
   "id": "fc18108f",
   "metadata": {},
   "outputs": [
    {
     "data": {
      "text/plain": [
       "Hotel                         object\n",
       "Is Canceled                    int64\n",
       "Lead Time                      int64\n",
       "arrival full date             object\n",
       "Arrival Date Year              int64\n",
       "Arrival Date Month            object\n",
       "Arrival Date Week Number       int64\n",
       "Arrival Date Day of Month      int64\n",
       "Stays in Weekend nights        int64\n",
       "Stays in week nights           int64\n",
       "stays total nights             int64\n",
       "Adults                         int64\n",
       "Children                     float64\n",
       "Babies                         int64\n",
       "Meal                          object\n",
       "Country                       object\n",
       "Reserved Room Type            object\n",
       "Assigned room type            object\n",
       "customer type                 object\n",
       "Reservation Status            object\n",
       "Reservation status_date       object\n",
       "dtype: object"
      ]
     },
     "execution_count": 5,
     "metadata": {},
     "output_type": "execute_result"
    }
   ],
   "source": [
    "# data types in the dataset\n",
    "df.dtypes"
   ]
  },
  {
   "cell_type": "code",
   "execution_count": 6,
   "id": "f2d57010",
   "metadata": {},
   "outputs": [
    {
     "name": "stdout",
     "output_type": "stream",
     "text": [
      "<class 'pandas.core.frame.DataFrame'>\n",
      "RangeIndex: 119390 entries, 0 to 119389\n",
      "Data columns (total 21 columns):\n",
      " #   Column                     Non-Null Count   Dtype  \n",
      "---  ------                     --------------   -----  \n",
      " 0   Hotel                      119390 non-null  object \n",
      " 1   Is Canceled                119390 non-null  int64  \n",
      " 2   Lead Time                  119390 non-null  int64  \n",
      " 3   arrival full date          119390 non-null  object \n",
      " 4   Arrival Date Year          119390 non-null  int64  \n",
      " 5   Arrival Date Month         119390 non-null  object \n",
      " 6   Arrival Date Week Number   119390 non-null  int64  \n",
      " 7   Arrival Date Day of Month  119390 non-null  int64  \n",
      " 8   Stays in Weekend nights    119390 non-null  int64  \n",
      " 9   Stays in week nights       119390 non-null  int64  \n",
      " 10  stays total nights         119390 non-null  int64  \n",
      " 11  Adults                     119390 non-null  int64  \n",
      " 12  Children                   119386 non-null  float64\n",
      " 13  Babies                     119390 non-null  int64  \n",
      " 14  Meal                       119390 non-null  object \n",
      " 15  Country                    118902 non-null  object \n",
      " 16  Reserved Room Type         119390 non-null  object \n",
      " 17  Assigned room type         119390 non-null  object \n",
      " 18  customer type              119390 non-null  object \n",
      " 19  Reservation Status         119390 non-null  object \n",
      " 20  Reservation status_date    119390 non-null  object \n",
      "dtypes: float64(1), int64(10), object(10)\n",
      "memory usage: 19.1+ MB\n"
     ]
    }
   ],
   "source": [
    "df.info() # counts how many columns belong to a particular type"
   ]
  },
  {
   "cell_type": "code",
   "execution_count": 7,
   "id": "37db4729",
   "metadata": {},
   "outputs": [
    {
     "data": {
      "text/html": [
       "<div>\n",
       "<style scoped>\n",
       "    .dataframe tbody tr th:only-of-type {\n",
       "        vertical-align: middle;\n",
       "    }\n",
       "\n",
       "    .dataframe tbody tr th {\n",
       "        vertical-align: top;\n",
       "    }\n",
       "\n",
       "    .dataframe thead th {\n",
       "        text-align: right;\n",
       "    }\n",
       "</style>\n",
       "<table border=\"1\" class=\"dataframe\">\n",
       "  <thead>\n",
       "    <tr style=\"text-align: right;\">\n",
       "      <th></th>\n",
       "      <th>Hotel</th>\n",
       "      <th>Is Canceled</th>\n",
       "      <th>Lead Time</th>\n",
       "      <th>arrival full date</th>\n",
       "      <th>Arrival Date Year</th>\n",
       "      <th>Arrival Date Month</th>\n",
       "      <th>Arrival Date Week Number</th>\n",
       "      <th>Arrival Date Day of Month</th>\n",
       "      <th>Stays in Weekend nights</th>\n",
       "      <th>Stays in week nights</th>\n",
       "      <th>...</th>\n",
       "      <th>Adults</th>\n",
       "      <th>Children</th>\n",
       "      <th>Babies</th>\n",
       "      <th>Meal</th>\n",
       "      <th>Country</th>\n",
       "      <th>Reserved Room Type</th>\n",
       "      <th>Assigned room type</th>\n",
       "      <th>customer type</th>\n",
       "      <th>Reservation Status</th>\n",
       "      <th>Reservation status_date</th>\n",
       "    </tr>\n",
       "  </thead>\n",
       "  <tbody>\n",
       "    <tr>\n",
       "      <th>0</th>\n",
       "      <td>Resort Hotel</td>\n",
       "      <td>0</td>\n",
       "      <td>342</td>\n",
       "      <td>2015-07-01</td>\n",
       "      <td>2015</td>\n",
       "      <td>July</td>\n",
       "      <td>27</td>\n",
       "      <td>1</td>\n",
       "      <td>0</td>\n",
       "      <td>0</td>\n",
       "      <td>...</td>\n",
       "      <td>2</td>\n",
       "      <td>0.0</td>\n",
       "      <td>0</td>\n",
       "      <td>BB</td>\n",
       "      <td>PRT</td>\n",
       "      <td>C</td>\n",
       "      <td>C</td>\n",
       "      <td>Transient</td>\n",
       "      <td>Check-Out</td>\n",
       "      <td>2015-07-01</td>\n",
       "    </tr>\n",
       "    <tr>\n",
       "      <th>1</th>\n",
       "      <td>Resort Hotel</td>\n",
       "      <td>0</td>\n",
       "      <td>737</td>\n",
       "      <td>2015-07-01</td>\n",
       "      <td>2015</td>\n",
       "      <td>July</td>\n",
       "      <td>27</td>\n",
       "      <td>1</td>\n",
       "      <td>0</td>\n",
       "      <td>0</td>\n",
       "      <td>...</td>\n",
       "      <td>2</td>\n",
       "      <td>0.0</td>\n",
       "      <td>0</td>\n",
       "      <td>BB</td>\n",
       "      <td>PRT</td>\n",
       "      <td>C</td>\n",
       "      <td>C</td>\n",
       "      <td>Transient</td>\n",
       "      <td>Check-Out</td>\n",
       "      <td>2015-07-01</td>\n",
       "    </tr>\n",
       "    <tr>\n",
       "      <th>2</th>\n",
       "      <td>Resort Hotel</td>\n",
       "      <td>0</td>\n",
       "      <td>7</td>\n",
       "      <td>2015-07-01</td>\n",
       "      <td>2015</td>\n",
       "      <td>July</td>\n",
       "      <td>27</td>\n",
       "      <td>1</td>\n",
       "      <td>0</td>\n",
       "      <td>1</td>\n",
       "      <td>...</td>\n",
       "      <td>1</td>\n",
       "      <td>0.0</td>\n",
       "      <td>0</td>\n",
       "      <td>BB</td>\n",
       "      <td>GBR</td>\n",
       "      <td>A</td>\n",
       "      <td>C</td>\n",
       "      <td>Transient</td>\n",
       "      <td>Check-Out</td>\n",
       "      <td>2015-07-02</td>\n",
       "    </tr>\n",
       "    <tr>\n",
       "      <th>3</th>\n",
       "      <td>Resort Hotel</td>\n",
       "      <td>0</td>\n",
       "      <td>13</td>\n",
       "      <td>2015-07-01</td>\n",
       "      <td>2015</td>\n",
       "      <td>July</td>\n",
       "      <td>27</td>\n",
       "      <td>1</td>\n",
       "      <td>0</td>\n",
       "      <td>1</td>\n",
       "      <td>...</td>\n",
       "      <td>1</td>\n",
       "      <td>0.0</td>\n",
       "      <td>0</td>\n",
       "      <td>BB</td>\n",
       "      <td>GBR</td>\n",
       "      <td>A</td>\n",
       "      <td>A</td>\n",
       "      <td>Transient</td>\n",
       "      <td>Check-Out</td>\n",
       "      <td>2015-07-02</td>\n",
       "    </tr>\n",
       "    <tr>\n",
       "      <th>4</th>\n",
       "      <td>Resort Hotel</td>\n",
       "      <td>0</td>\n",
       "      <td>14</td>\n",
       "      <td>2015-07-01</td>\n",
       "      <td>2015</td>\n",
       "      <td>July</td>\n",
       "      <td>27</td>\n",
       "      <td>1</td>\n",
       "      <td>0</td>\n",
       "      <td>2</td>\n",
       "      <td>...</td>\n",
       "      <td>2</td>\n",
       "      <td>0.0</td>\n",
       "      <td>0</td>\n",
       "      <td>BB</td>\n",
       "      <td>GBR</td>\n",
       "      <td>A</td>\n",
       "      <td>A</td>\n",
       "      <td>Transient</td>\n",
       "      <td>Check-Out</td>\n",
       "      <td>2015-07-03</td>\n",
       "    </tr>\n",
       "    <tr>\n",
       "      <th>5</th>\n",
       "      <td>Resort Hotel</td>\n",
       "      <td>0</td>\n",
       "      <td>14</td>\n",
       "      <td>2015-07-01</td>\n",
       "      <td>2015</td>\n",
       "      <td>July</td>\n",
       "      <td>27</td>\n",
       "      <td>1</td>\n",
       "      <td>0</td>\n",
       "      <td>2</td>\n",
       "      <td>...</td>\n",
       "      <td>2</td>\n",
       "      <td>0.0</td>\n",
       "      <td>0</td>\n",
       "      <td>BB</td>\n",
       "      <td>GBR</td>\n",
       "      <td>A</td>\n",
       "      <td>A</td>\n",
       "      <td>Transient</td>\n",
       "      <td>Check-Out</td>\n",
       "      <td>2015-07-03</td>\n",
       "    </tr>\n",
       "    <tr>\n",
       "      <th>6</th>\n",
       "      <td>Resort Hotel</td>\n",
       "      <td>0</td>\n",
       "      <td>0</td>\n",
       "      <td>2015-07-01</td>\n",
       "      <td>2015</td>\n",
       "      <td>July</td>\n",
       "      <td>27</td>\n",
       "      <td>1</td>\n",
       "      <td>0</td>\n",
       "      <td>2</td>\n",
       "      <td>...</td>\n",
       "      <td>2</td>\n",
       "      <td>0.0</td>\n",
       "      <td>0</td>\n",
       "      <td>BB</td>\n",
       "      <td>PRT</td>\n",
       "      <td>C</td>\n",
       "      <td>C</td>\n",
       "      <td>Transient</td>\n",
       "      <td>Check-Out</td>\n",
       "      <td>2015-07-03</td>\n",
       "    </tr>\n",
       "  </tbody>\n",
       "</table>\n",
       "<p>7 rows × 21 columns</p>\n",
       "</div>"
      ],
      "text/plain": [
       "          Hotel  Is Canceled  Lead Time arrival full date  Arrival Date Year  \\\n",
       "0  Resort Hotel            0        342        2015-07-01               2015   \n",
       "1  Resort Hotel            0        737        2015-07-01               2015   \n",
       "2  Resort Hotel            0          7        2015-07-01               2015   \n",
       "3  Resort Hotel            0         13        2015-07-01               2015   \n",
       "4  Resort Hotel            0         14        2015-07-01               2015   \n",
       "5  Resort Hotel            0         14        2015-07-01               2015   \n",
       "6  Resort Hotel            0          0        2015-07-01               2015   \n",
       "\n",
       "  Arrival Date Month  Arrival Date Week Number  Arrival Date Day of Month  \\\n",
       "0               July                        27                          1   \n",
       "1               July                        27                          1   \n",
       "2               July                        27                          1   \n",
       "3               July                        27                          1   \n",
       "4               July                        27                          1   \n",
       "5               July                        27                          1   \n",
       "6               July                        27                          1   \n",
       "\n",
       "   Stays in Weekend nights  Stays in week nights  ...  Adults  Children  \\\n",
       "0                        0                     0  ...       2       0.0   \n",
       "1                        0                     0  ...       2       0.0   \n",
       "2                        0                     1  ...       1       0.0   \n",
       "3                        0                     1  ...       1       0.0   \n",
       "4                        0                     2  ...       2       0.0   \n",
       "5                        0                     2  ...       2       0.0   \n",
       "6                        0                     2  ...       2       0.0   \n",
       "\n",
       "   Babies  Meal Country Reserved Room Type Assigned room type customer type  \\\n",
       "0       0    BB     PRT                  C                  C     Transient   \n",
       "1       0    BB     PRT                  C                  C     Transient   \n",
       "2       0    BB     GBR                  A                  C     Transient   \n",
       "3       0    BB     GBR                  A                  A     Transient   \n",
       "4       0    BB     GBR                  A                  A     Transient   \n",
       "5       0    BB     GBR                  A                  A     Transient   \n",
       "6       0    BB     PRT                  C                  C     Transient   \n",
       "\n",
       "  Reservation Status Reservation status_date  \n",
       "0          Check-Out              2015-07-01  \n",
       "1          Check-Out              2015-07-01  \n",
       "2          Check-Out              2015-07-02  \n",
       "3          Check-Out              2015-07-02  \n",
       "4          Check-Out              2015-07-03  \n",
       "5          Check-Out              2015-07-03  \n",
       "6          Check-Out              2015-07-03  \n",
       "\n",
       "[7 rows x 21 columns]"
      ]
     },
     "execution_count": 7,
     "metadata": {},
     "output_type": "execute_result"
    }
   ],
   "source": [
    "# output the first seven lines\n",
    "df.head(7)"
   ]
  },
  {
   "attachments": {},
   "cell_type": "markdown",
   "id": "1fb3a84b",
   "metadata": {},
   "source": [
    "As you may have noticed, a small error occurred while collecting the dataset, and the column names were written in a format that is inconvenient for further work.\n",
    "Correct the situation by converting the column names to lowercase and replacing spaces with underscores. For example: **Is Canceled -> is_canceled**"
   ]
  },
  {
   "cell_type": "code",
   "execution_count": 8,
   "id": "ae678176",
   "metadata": {},
   "outputs": [
    {
     "data": {
      "text/plain": [
       "Index(['Hotel', 'Is Canceled', 'Lead Time', 'arrival full date',\n",
       "       'Arrival Date Year', 'Arrival Date Month', 'Arrival Date Week Number',\n",
       "       'Arrival Date Day of Month', 'Stays in Weekend nights',\n",
       "       'Stays in week nights', 'stays total nights', 'Adults', 'Children',\n",
       "       'Babies', 'Meal', 'Country', 'Reserved Room Type', 'Assigned room type',\n",
       "       'customer type', 'Reservation Status', 'Reservation status_date'],\n",
       "      dtype='object')"
      ]
     },
     "execution_count": 8,
     "metadata": {},
     "output_type": "execute_result"
    }
   ],
   "source": [
    "df.columns #columns - attribute"
   ]
  },
  {
   "cell_type": "code",
   "execution_count": 9,
   "id": "6b3d71a0",
   "metadata": {},
   "outputs": [],
   "source": [
    "# change column names\n",
    "rename_columns = {}\n",
    "for col in df.columns:\n",
    "    rename_columns[col] = col.replace(' ', '_').lower()"
   ]
  },
  {
   "cell_type": "code",
   "execution_count": 10,
   "id": "d03c2fed",
   "metadata": {},
   "outputs": [
    {
     "data": {
      "text/plain": [
       "{'Hotel': 'hotel',\n",
       " 'Is Canceled': 'is_canceled',\n",
       " 'Lead Time': 'lead_time',\n",
       " 'arrival full date': 'arrival_full_date',\n",
       " 'Arrival Date Year': 'arrival_date_year',\n",
       " 'Arrival Date Month': 'arrival_date_month',\n",
       " 'Arrival Date Week Number': 'arrival_date_week_number',\n",
       " 'Arrival Date Day of Month': 'arrival_date_day_of_month',\n",
       " 'Stays in Weekend nights': 'stays_in_weekend_nights',\n",
       " 'Stays in week nights': 'stays_in_week_nights',\n",
       " 'stays total nights': 'stays_total_nights',\n",
       " 'Adults': 'adults',\n",
       " 'Children': 'children',\n",
       " 'Babies': 'babies',\n",
       " 'Meal': 'meal',\n",
       " 'Country': 'country',\n",
       " 'Reserved Room Type': 'reserved_room_type',\n",
       " 'Assigned room type': 'assigned_room_type',\n",
       " 'customer type': 'customer_type',\n",
       " 'Reservation Status': 'reservation_status',\n",
       " 'Reservation status_date': 'reservation_status_date'}"
      ]
     },
     "execution_count": 10,
     "metadata": {},
     "output_type": "execute_result"
    }
   ],
   "source": [
    "rename_columns"
   ]
  },
  {
   "cell_type": "code",
   "execution_count": 11,
   "id": "ac7fc094",
   "metadata": {},
   "outputs": [
    {
     "data": {
      "text/html": [
       "<div>\n",
       "<style scoped>\n",
       "    .dataframe tbody tr th:only-of-type {\n",
       "        vertical-align: middle;\n",
       "    }\n",
       "\n",
       "    .dataframe tbody tr th {\n",
       "        vertical-align: top;\n",
       "    }\n",
       "\n",
       "    .dataframe thead th {\n",
       "        text-align: right;\n",
       "    }\n",
       "</style>\n",
       "<table border=\"1\" class=\"dataframe\">\n",
       "  <thead>\n",
       "    <tr style=\"text-align: right;\">\n",
       "      <th></th>\n",
       "      <th>hotel</th>\n",
       "      <th>is_canceled</th>\n",
       "      <th>lead_time</th>\n",
       "      <th>arrival_full_date</th>\n",
       "      <th>arrival_date_year</th>\n",
       "      <th>arrival_date_month</th>\n",
       "      <th>arrival_date_week_number</th>\n",
       "      <th>arrival_date_day_of_month</th>\n",
       "      <th>stays_in_weekend_nights</th>\n",
       "      <th>stays_in_week_nights</th>\n",
       "      <th>...</th>\n",
       "      <th>adults</th>\n",
       "      <th>children</th>\n",
       "      <th>babies</th>\n",
       "      <th>meal</th>\n",
       "      <th>country</th>\n",
       "      <th>reserved_room_type</th>\n",
       "      <th>assigned_room_type</th>\n",
       "      <th>customer_type</th>\n",
       "      <th>reservation_status</th>\n",
       "      <th>reservation_status_date</th>\n",
       "    </tr>\n",
       "  </thead>\n",
       "  <tbody>\n",
       "    <tr>\n",
       "      <th>0</th>\n",
       "      <td>Resort Hotel</td>\n",
       "      <td>0</td>\n",
       "      <td>342</td>\n",
       "      <td>2015-07-01</td>\n",
       "      <td>2015</td>\n",
       "      <td>July</td>\n",
       "      <td>27</td>\n",
       "      <td>1</td>\n",
       "      <td>0</td>\n",
       "      <td>0</td>\n",
       "      <td>...</td>\n",
       "      <td>2</td>\n",
       "      <td>0.0</td>\n",
       "      <td>0</td>\n",
       "      <td>BB</td>\n",
       "      <td>PRT</td>\n",
       "      <td>C</td>\n",
       "      <td>C</td>\n",
       "      <td>Transient</td>\n",
       "      <td>Check-Out</td>\n",
       "      <td>2015-07-01</td>\n",
       "    </tr>\n",
       "    <tr>\n",
       "      <th>1</th>\n",
       "      <td>Resort Hotel</td>\n",
       "      <td>0</td>\n",
       "      <td>737</td>\n",
       "      <td>2015-07-01</td>\n",
       "      <td>2015</td>\n",
       "      <td>July</td>\n",
       "      <td>27</td>\n",
       "      <td>1</td>\n",
       "      <td>0</td>\n",
       "      <td>0</td>\n",
       "      <td>...</td>\n",
       "      <td>2</td>\n",
       "      <td>0.0</td>\n",
       "      <td>0</td>\n",
       "      <td>BB</td>\n",
       "      <td>PRT</td>\n",
       "      <td>C</td>\n",
       "      <td>C</td>\n",
       "      <td>Transient</td>\n",
       "      <td>Check-Out</td>\n",
       "      <td>2015-07-01</td>\n",
       "    </tr>\n",
       "  </tbody>\n",
       "</table>\n",
       "<p>2 rows × 21 columns</p>\n",
       "</div>"
      ],
      "text/plain": [
       "          hotel  is_canceled  lead_time arrival_full_date  arrival_date_year  \\\n",
       "0  Resort Hotel            0        342        2015-07-01               2015   \n",
       "1  Resort Hotel            0        737        2015-07-01               2015   \n",
       "\n",
       "  arrival_date_month  arrival_date_week_number  arrival_date_day_of_month  \\\n",
       "0               July                        27                          1   \n",
       "1               July                        27                          1   \n",
       "\n",
       "   stays_in_weekend_nights  stays_in_week_nights  ...  adults  children  \\\n",
       "0                        0                     0  ...       2       0.0   \n",
       "1                        0                     0  ...       2       0.0   \n",
       "\n",
       "   babies  meal country reserved_room_type assigned_room_type customer_type  \\\n",
       "0       0    BB     PRT                  C                  C     Transient   \n",
       "1       0    BB     PRT                  C                  C     Transient   \n",
       "\n",
       "  reservation_status reservation_status_date  \n",
       "0          Check-Out              2015-07-01  \n",
       "1          Check-Out              2015-07-01  \n",
       "\n",
       "[2 rows x 21 columns]"
      ]
     },
     "execution_count": 11,
     "metadata": {},
     "output_type": "execute_result"
    }
   ],
   "source": [
    "# save new names\n",
    "df = df.rename(columns=rename_columns)\n",
    "df.head(2)"
   ]
  },
  {
   "attachments": {},
   "cell_type": "markdown",
   "id": "25478439",
   "metadata": {},
   "source": [
    "# Task 5"
   ]
  },
  {
   "attachments": {},
   "cell_type": "markdown",
   "id": "07b07405",
   "metadata": {},
   "source": [
    "Users from which countries have made the most successful bookings?\n",
    "The booking is considered successful if it has not been canceled in the future (variable is_canceled).\n",
    "As an answer, select the countries in the top 5.\n",
    "\n",
    "*NB: is_canceled == 0*"
   ]
  },
  {
   "cell_type": "code",
   "execution_count": 12,
   "id": "53b2a938",
   "metadata": {},
   "outputs": [
    {
     "data": {
      "text/plain": [
       "PRT    21071\n",
       "GBR     9676\n",
       "FRA     8481\n",
       "ESP     6391\n",
       "DEU     6069\n",
       "Name: country, dtype: int64"
      ]
     },
     "execution_count": 12,
     "metadata": {},
     "output_type": "execute_result"
    }
   ],
   "source": [
    "df.loc[df.is_canceled == 0].country.value_counts().head(5)"
   ]
  },
  {
   "attachments": {},
   "cell_type": "markdown",
   "id": "b6d450ed",
   "metadata": {},
   "source": [
    "# Task 6"
   ]
  },
  {
   "attachments": {},
   "cell_type": "markdown",
   "id": "8d3a8c82",
   "metadata": {},
   "source": [
    "For how many nights (stays_total_nights) are City Hotels booked on average? resort hotel?\n",
    "Write the obtained values ​​in the gaps with an accuracy of 2 decimal places."
   ]
  },
  {
   "cell_type": "code",
   "execution_count": 13,
   "id": "2ce47023",
   "metadata": {},
   "outputs": [
    {
     "data": {
      "text/plain": [
       "hotel\n",
       "City Hotel      2.98\n",
       "Resort Hotel    4.32\n",
       "Name: stays_total_nights, dtype: float64"
      ]
     },
     "execution_count": 13,
     "metadata": {},
     "output_type": "execute_result"
    }
   ],
   "source": [
    "df.groupby('hotel').stays_total_nights.mean().round(2)"
   ]
  },
  {
   "attachments": {},
   "cell_type": "markdown",
   "id": "d9412773",
   "metadata": {},
   "source": [
    "# Task 7\n",
    "\n",
    "### search for errors in the data on the booking example\n"
   ]
  },
  {
   "attachments": {},
   "cell_type": "markdown",
   "id": "cc0ab670",
   "metadata": {},
   "source": [
    "\n",
    "Sometimes the type of room assigned to the client (assigned_room_type) differs from the one originally booked (reserved_room_type). This can happen, for example, due to overbooking.\n",
    "How many such observations were found in the dataset?"
   ]
  },
  {
   "cell_type": "code",
   "execution_count": 14,
   "id": "3c371343",
   "metadata": {},
   "outputs": [
    {
     "data": {
      "text/html": [
       "<div>\n",
       "<style scoped>\n",
       "    .dataframe tbody tr th:only-of-type {\n",
       "        vertical-align: middle;\n",
       "    }\n",
       "\n",
       "    .dataframe tbody tr th {\n",
       "        vertical-align: top;\n",
       "    }\n",
       "\n",
       "    .dataframe thead th {\n",
       "        text-align: right;\n",
       "    }\n",
       "</style>\n",
       "<table border=\"1\" class=\"dataframe\">\n",
       "  <thead>\n",
       "    <tr style=\"text-align: right;\">\n",
       "      <th></th>\n",
       "      <th>hotel</th>\n",
       "      <th>is_canceled</th>\n",
       "      <th>lead_time</th>\n",
       "      <th>arrival_full_date</th>\n",
       "      <th>arrival_date_year</th>\n",
       "      <th>arrival_date_month</th>\n",
       "      <th>arrival_date_week_number</th>\n",
       "      <th>arrival_date_day_of_month</th>\n",
       "      <th>stays_in_weekend_nights</th>\n",
       "      <th>stays_in_week_nights</th>\n",
       "      <th>...</th>\n",
       "      <th>adults</th>\n",
       "      <th>children</th>\n",
       "      <th>babies</th>\n",
       "      <th>meal</th>\n",
       "      <th>country</th>\n",
       "      <th>reserved_room_type</th>\n",
       "      <th>assigned_room_type</th>\n",
       "      <th>customer_type</th>\n",
       "      <th>reservation_status</th>\n",
       "      <th>reservation_status_date</th>\n",
       "    </tr>\n",
       "  </thead>\n",
       "  <tbody>\n",
       "    <tr>\n",
       "      <th>2</th>\n",
       "      <td>Resort Hotel</td>\n",
       "      <td>0</td>\n",
       "      <td>7</td>\n",
       "      <td>2015-07-01</td>\n",
       "      <td>2015</td>\n",
       "      <td>July</td>\n",
       "      <td>27</td>\n",
       "      <td>1</td>\n",
       "      <td>0</td>\n",
       "      <td>1</td>\n",
       "      <td>...</td>\n",
       "      <td>1</td>\n",
       "      <td>0.0</td>\n",
       "      <td>0</td>\n",
       "      <td>BB</td>\n",
       "      <td>GBR</td>\n",
       "      <td>A</td>\n",
       "      <td>C</td>\n",
       "      <td>Transient</td>\n",
       "      <td>Check-Out</td>\n",
       "      <td>2015-07-02</td>\n",
       "    </tr>\n",
       "    <tr>\n",
       "      <th>12</th>\n",
       "      <td>Resort Hotel</td>\n",
       "      <td>0</td>\n",
       "      <td>68</td>\n",
       "      <td>2015-07-01</td>\n",
       "      <td>2015</td>\n",
       "      <td>July</td>\n",
       "      <td>27</td>\n",
       "      <td>1</td>\n",
       "      <td>0</td>\n",
       "      <td>4</td>\n",
       "      <td>...</td>\n",
       "      <td>2</td>\n",
       "      <td>0.0</td>\n",
       "      <td>0</td>\n",
       "      <td>BB</td>\n",
       "      <td>USA</td>\n",
       "      <td>D</td>\n",
       "      <td>E</td>\n",
       "      <td>Transient</td>\n",
       "      <td>Check-Out</td>\n",
       "      <td>2015-07-05</td>\n",
       "    </tr>\n",
       "    <tr>\n",
       "      <th>15</th>\n",
       "      <td>Resort Hotel</td>\n",
       "      <td>0</td>\n",
       "      <td>68</td>\n",
       "      <td>2015-07-01</td>\n",
       "      <td>2015</td>\n",
       "      <td>July</td>\n",
       "      <td>27</td>\n",
       "      <td>1</td>\n",
       "      <td>0</td>\n",
       "      <td>4</td>\n",
       "      <td>...</td>\n",
       "      <td>2</td>\n",
       "      <td>0.0</td>\n",
       "      <td>0</td>\n",
       "      <td>BB</td>\n",
       "      <td>IRL</td>\n",
       "      <td>D</td>\n",
       "      <td>E</td>\n",
       "      <td>Transient</td>\n",
       "      <td>Check-Out</td>\n",
       "      <td>2015-07-05</td>\n",
       "    </tr>\n",
       "    <tr>\n",
       "      <th>17</th>\n",
       "      <td>Resort Hotel</td>\n",
       "      <td>0</td>\n",
       "      <td>12</td>\n",
       "      <td>2015-07-01</td>\n",
       "      <td>2015</td>\n",
       "      <td>July</td>\n",
       "      <td>27</td>\n",
       "      <td>1</td>\n",
       "      <td>0</td>\n",
       "      <td>1</td>\n",
       "      <td>...</td>\n",
       "      <td>2</td>\n",
       "      <td>0.0</td>\n",
       "      <td>0</td>\n",
       "      <td>BB</td>\n",
       "      <td>IRL</td>\n",
       "      <td>A</td>\n",
       "      <td>E</td>\n",
       "      <td>Transient</td>\n",
       "      <td>Check-Out</td>\n",
       "      <td>2015-07-02</td>\n",
       "    </tr>\n",
       "    <tr>\n",
       "      <th>18</th>\n",
       "      <td>Resort Hotel</td>\n",
       "      <td>0</td>\n",
       "      <td>0</td>\n",
       "      <td>2015-07-01</td>\n",
       "      <td>2015</td>\n",
       "      <td>July</td>\n",
       "      <td>27</td>\n",
       "      <td>1</td>\n",
       "      <td>0</td>\n",
       "      <td>1</td>\n",
       "      <td>...</td>\n",
       "      <td>2</td>\n",
       "      <td>0.0</td>\n",
       "      <td>0</td>\n",
       "      <td>BB</td>\n",
       "      <td>FRA</td>\n",
       "      <td>A</td>\n",
       "      <td>G</td>\n",
       "      <td>Transient</td>\n",
       "      <td>Check-Out</td>\n",
       "      <td>2015-07-02</td>\n",
       "    </tr>\n",
       "    <tr>\n",
       "      <th>...</th>\n",
       "      <td>...</td>\n",
       "      <td>...</td>\n",
       "      <td>...</td>\n",
       "      <td>...</td>\n",
       "      <td>...</td>\n",
       "      <td>...</td>\n",
       "      <td>...</td>\n",
       "      <td>...</td>\n",
       "      <td>...</td>\n",
       "      <td>...</td>\n",
       "      <td>...</td>\n",
       "      <td>...</td>\n",
       "      <td>...</td>\n",
       "      <td>...</td>\n",
       "      <td>...</td>\n",
       "      <td>...</td>\n",
       "      <td>...</td>\n",
       "      <td>...</td>\n",
       "      <td>...</td>\n",
       "      <td>...</td>\n",
       "      <td>...</td>\n",
       "    </tr>\n",
       "    <tr>\n",
       "      <th>119273</th>\n",
       "      <td>City Hotel</td>\n",
       "      <td>0</td>\n",
       "      <td>213</td>\n",
       "      <td>2017-08-28</td>\n",
       "      <td>2017</td>\n",
       "      <td>August</td>\n",
       "      <td>35</td>\n",
       "      <td>28</td>\n",
       "      <td>1</td>\n",
       "      <td>3</td>\n",
       "      <td>...</td>\n",
       "      <td>1</td>\n",
       "      <td>0.0</td>\n",
       "      <td>0</td>\n",
       "      <td>HB</td>\n",
       "      <td>PRT</td>\n",
       "      <td>A</td>\n",
       "      <td>K</td>\n",
       "      <td>Transient-Party</td>\n",
       "      <td>Check-Out</td>\n",
       "      <td>2017-09-01</td>\n",
       "    </tr>\n",
       "    <tr>\n",
       "      <th>119274</th>\n",
       "      <td>City Hotel</td>\n",
       "      <td>0</td>\n",
       "      <td>213</td>\n",
       "      <td>2017-08-28</td>\n",
       "      <td>2017</td>\n",
       "      <td>August</td>\n",
       "      <td>35</td>\n",
       "      <td>28</td>\n",
       "      <td>1</td>\n",
       "      <td>3</td>\n",
       "      <td>...</td>\n",
       "      <td>1</td>\n",
       "      <td>0.0</td>\n",
       "      <td>0</td>\n",
       "      <td>HB</td>\n",
       "      <td>PRT</td>\n",
       "      <td>A</td>\n",
       "      <td>K</td>\n",
       "      <td>Transient-Party</td>\n",
       "      <td>Check-Out</td>\n",
       "      <td>2017-09-01</td>\n",
       "    </tr>\n",
       "    <tr>\n",
       "      <th>119289</th>\n",
       "      <td>City Hotel</td>\n",
       "      <td>0</td>\n",
       "      <td>25</td>\n",
       "      <td>2017-08-30</td>\n",
       "      <td>2017</td>\n",
       "      <td>August</td>\n",
       "      <td>35</td>\n",
       "      <td>30</td>\n",
       "      <td>0</td>\n",
       "      <td>3</td>\n",
       "      <td>...</td>\n",
       "      <td>3</td>\n",
       "      <td>0.0</td>\n",
       "      <td>0</td>\n",
       "      <td>BB</td>\n",
       "      <td>ITA</td>\n",
       "      <td>E</td>\n",
       "      <td>F</td>\n",
       "      <td>Transient</td>\n",
       "      <td>Check-Out</td>\n",
       "      <td>2017-09-02</td>\n",
       "    </tr>\n",
       "    <tr>\n",
       "      <th>119297</th>\n",
       "      <td>City Hotel</td>\n",
       "      <td>0</td>\n",
       "      <td>332</td>\n",
       "      <td>2017-08-31</td>\n",
       "      <td>2017</td>\n",
       "      <td>August</td>\n",
       "      <td>35</td>\n",
       "      <td>31</td>\n",
       "      <td>0</td>\n",
       "      <td>2</td>\n",
       "      <td>...</td>\n",
       "      <td>2</td>\n",
       "      <td>0.0</td>\n",
       "      <td>0</td>\n",
       "      <td>BB</td>\n",
       "      <td>GBR</td>\n",
       "      <td>D</td>\n",
       "      <td>F</td>\n",
       "      <td>Transient</td>\n",
       "      <td>Check-Out</td>\n",
       "      <td>2017-09-02</td>\n",
       "    </tr>\n",
       "    <tr>\n",
       "      <th>119357</th>\n",
       "      <td>City Hotel</td>\n",
       "      <td>0</td>\n",
       "      <td>47</td>\n",
       "      <td>2017-08-31</td>\n",
       "      <td>2017</td>\n",
       "      <td>August</td>\n",
       "      <td>35</td>\n",
       "      <td>31</td>\n",
       "      <td>1</td>\n",
       "      <td>3</td>\n",
       "      <td>...</td>\n",
       "      <td>1</td>\n",
       "      <td>0.0</td>\n",
       "      <td>0</td>\n",
       "      <td>SC</td>\n",
       "      <td>PRT</td>\n",
       "      <td>A</td>\n",
       "      <td>D</td>\n",
       "      <td>Transient</td>\n",
       "      <td>Check-Out</td>\n",
       "      <td>2017-09-04</td>\n",
       "    </tr>\n",
       "  </tbody>\n",
       "</table>\n",
       "<p>14917 rows × 21 columns</p>\n",
       "</div>"
      ],
      "text/plain": [
       "               hotel  is_canceled  lead_time arrival_full_date  \\\n",
       "2       Resort Hotel            0          7        2015-07-01   \n",
       "12      Resort Hotel            0         68        2015-07-01   \n",
       "15      Resort Hotel            0         68        2015-07-01   \n",
       "17      Resort Hotel            0         12        2015-07-01   \n",
       "18      Resort Hotel            0          0        2015-07-01   \n",
       "...              ...          ...        ...               ...   \n",
       "119273    City Hotel            0        213        2017-08-28   \n",
       "119274    City Hotel            0        213        2017-08-28   \n",
       "119289    City Hotel            0         25        2017-08-30   \n",
       "119297    City Hotel            0        332        2017-08-31   \n",
       "119357    City Hotel            0         47        2017-08-31   \n",
       "\n",
       "        arrival_date_year arrival_date_month  arrival_date_week_number  \\\n",
       "2                    2015               July                        27   \n",
       "12                   2015               July                        27   \n",
       "15                   2015               July                        27   \n",
       "17                   2015               July                        27   \n",
       "18                   2015               July                        27   \n",
       "...                   ...                ...                       ...   \n",
       "119273               2017             August                        35   \n",
       "119274               2017             August                        35   \n",
       "119289               2017             August                        35   \n",
       "119297               2017             August                        35   \n",
       "119357               2017             August                        35   \n",
       "\n",
       "        arrival_date_day_of_month  stays_in_weekend_nights  \\\n",
       "2                               1                        0   \n",
       "12                              1                        0   \n",
       "15                              1                        0   \n",
       "17                              1                        0   \n",
       "18                              1                        0   \n",
       "...                           ...                      ...   \n",
       "119273                         28                        1   \n",
       "119274                         28                        1   \n",
       "119289                         30                        0   \n",
       "119297                         31                        0   \n",
       "119357                         31                        1   \n",
       "\n",
       "        stays_in_week_nights  ...  adults  children  babies  meal country  \\\n",
       "2                          1  ...       1       0.0       0    BB     GBR   \n",
       "12                         4  ...       2       0.0       0    BB     USA   \n",
       "15                         4  ...       2       0.0       0    BB     IRL   \n",
       "17                         1  ...       2       0.0       0    BB     IRL   \n",
       "18                         1  ...       2       0.0       0    BB     FRA   \n",
       "...                      ...  ...     ...       ...     ...   ...     ...   \n",
       "119273                     3  ...       1       0.0       0    HB     PRT   \n",
       "119274                     3  ...       1       0.0       0    HB     PRT   \n",
       "119289                     3  ...       3       0.0       0    BB     ITA   \n",
       "119297                     2  ...       2       0.0       0    BB     GBR   \n",
       "119357                     3  ...       1       0.0       0    SC     PRT   \n",
       "\n",
       "       reserved_room_type assigned_room_type    customer_type  \\\n",
       "2                       A                  C        Transient   \n",
       "12                      D                  E        Transient   \n",
       "15                      D                  E        Transient   \n",
       "17                      A                  E        Transient   \n",
       "18                      A                  G        Transient   \n",
       "...                   ...                ...              ...   \n",
       "119273                  A                  K  Transient-Party   \n",
       "119274                  A                  K  Transient-Party   \n",
       "119289                  E                  F        Transient   \n",
       "119297                  D                  F        Transient   \n",
       "119357                  A                  D        Transient   \n",
       "\n",
       "       reservation_status reservation_status_date  \n",
       "2               Check-Out              2015-07-02  \n",
       "12              Check-Out              2015-07-05  \n",
       "15              Check-Out              2015-07-05  \n",
       "17              Check-Out              2015-07-02  \n",
       "18              Check-Out              2015-07-02  \n",
       "...                   ...                     ...  \n",
       "119273          Check-Out              2017-09-01  \n",
       "119274          Check-Out              2017-09-01  \n",
       "119289          Check-Out              2017-09-02  \n",
       "119297          Check-Out              2017-09-02  \n",
       "119357          Check-Out              2017-09-04  \n",
       "\n",
       "[14917 rows x 21 columns]"
      ]
     },
     "execution_count": 14,
     "metadata": {},
     "output_type": "execute_result"
    }
   ],
   "source": [
    "df.loc[df.assigned_room_type != df.reserved_room_type]"
   ]
  },
  {
   "cell_type": "code",
   "execution_count": 15,
   "id": "6b26d224",
   "metadata": {},
   "outputs": [
    {
     "data": {
      "text/plain": [
       "14917"
      ]
     },
     "execution_count": 15,
     "metadata": {},
     "output_type": "execute_result"
    }
   ],
   "source": [
    "len(df.loc[df.assigned_room_type != df.reserved_room_type])"
   ]
  },
  {
   "attachments": {},
   "cell_type": "markdown",
   "id": "abfca61b",
   "metadata": {},
   "source": [
    "# Task 8"
   ]
  },
  {
   "attachments": {},
   "cell_type": "markdown",
   "id": "c9c5ee8c",
   "metadata": {},
   "source": [
    "\n",
    "Now parse the scheduled arrival dates (arrival_date_year).\n",
    "\n",
    "What was the most frequent booking month in 2016?\n",
    "Has the most popular month changed in 2017?"
   ]
  },
  {
   "cell_type": "code",
   "execution_count": 16,
   "id": "f88aa6dd",
   "metadata": {},
   "outputs": [
    {
     "data": {
      "text/plain": [
       "arrival_date_year\n",
       "2015    September\n",
       "2016      October\n",
       "2017          May\n",
       "Name: arrival_date_month, dtype: object"
      ]
     },
     "execution_count": 16,
     "metadata": {},
     "output_type": "execute_result"
    }
   ],
   "source": [
    "df.groupby('arrival_date_year').arrival_date_month.agg(pd.Series.mode)"
   ]
  },
  {
   "attachments": {},
   "cell_type": "markdown",
   "id": "594fad84",
   "metadata": {},
   "source": [
    "Conclusion: **The most popular month changed in 2017 is May. The most popular month changed in 2016 is October.** "
   ]
  },
  {
   "attachments": {},
   "cell_type": "markdown",
   "id": "e58549f2",
   "metadata": {},
   "source": [
    "Group the data by years and then check for which month (arrival_date_month)\n",
    "What were the most canceled bookings for City Hotel in 2015? 2016? 2017?"
   ]
  },
  {
   "cell_type": "code",
   "execution_count": 17,
   "id": "03349cc9",
   "metadata": {},
   "outputs": [
    {
     "data": {
      "text/plain": [
       "arrival_date_year  arrival_date_month\n",
       "2015               August                1598\n",
       "                   December               973\n",
       "                   July                  1259\n",
       "                   November               486\n",
       "                   October               1732\n",
       "                   September             2094\n",
       "2016               April                 2061\n",
       "                   August                1825\n",
       "                   December              1398\n",
       "                   February              1337\n",
       "                   January                557\n",
       "                   July                  1499\n",
       "                   June                  2096\n",
       "                   March                 1477\n",
       "                   May                   1915\n",
       "                   November              1636\n",
       "                   October               2514\n",
       "                   September             2022\n",
       "2017               April                 2463\n",
       "                   August                1816\n",
       "                   February              1359\n",
       "                   January               1250\n",
       "                   July                  1984\n",
       "                   June                  2439\n",
       "                   March                 1672\n",
       "                   May                   2762\n",
       "Name: is_canceled, dtype: int64"
      ]
     },
     "execution_count": 17,
     "metadata": {},
     "output_type": "execute_result"
    }
   ],
   "source": [
    "df.groupby(['arrival_date_year', 'arrival_date_month']).is_canceled.sum()"
   ]
  },
  {
   "cell_type": "code",
   "execution_count": 18,
   "id": "6962df47",
   "metadata": {},
   "outputs": [
    {
     "data": {
      "text/plain": [
       "arrival_date_year  arrival_date_year  arrival_date_month\n",
       "2015               2015               September             2094\n",
       "2016               2016               October               2514\n",
       "2017               2017               May                   2762\n",
       "Name: is_canceled, dtype: int64"
      ]
     },
     "execution_count": 18,
     "metadata": {},
     "output_type": "execute_result"
    }
   ],
   "source": [
    "df.groupby(['arrival_date_year', 'arrival_date_month']).is_canceled.sum().groupby(['arrival_date_year']).nlargest(1)"
   ]
  },
  {
   "cell_type": "code",
   "execution_count": 19,
   "id": "075e35b4",
   "metadata": {},
   "outputs": [
    {
     "data": {
      "text/plain": [
       "arrival_date_year  arrival_date_month\n",
       "2017               May                   2762\n",
       "Name: is_canceled, dtype: int64"
      ]
     },
     "execution_count": 19,
     "metadata": {},
     "output_type": "execute_result"
    }
   ],
   "source": [
    "df.groupby(['arrival_date_year', 'arrival_date_month']).is_canceled.sum().nlargest(1) # useful"
   ]
  },
  {
   "attachments": {},
   "cell_type": "markdown",
   "id": "22eea0db",
   "metadata": {},
   "source": [
    "# Task 9"
   ]
  },
  {
   "attachments": {},
   "cell_type": "markdown",
   "id": "54731615",
   "metadata": {},
   "source": [
    "\n",
    "\n",
    "For which type of hotels did the average value of the variable turn out to be the largest?\n",
    "\n",
    "City hotel - the hotel is located in the city\n",
    "Resort hotel - resort hotel\n",
    "Give the highest average of total_kids as your answer, rounded to 2 decimal places.\n"
   ]
  },
  {
   "cell_type": "code",
   "execution_count": 20,
   "id": "e0a1014c",
   "metadata": {},
   "outputs": [],
   "source": [
    "# Create the total_kids column by concatenating the children and babies columns.\n",
    "df['total_kids'] = df.children + df.babies"
   ]
  },
  {
   "cell_type": "code",
   "execution_count": 21,
   "id": "b57318fd",
   "metadata": {},
   "outputs": [
    {
     "data": {
      "text/plain": [
       "hotel\n",
       "City Hotel      0.10\n",
       "Resort Hotel    0.14\n",
       "Name: total_kids, dtype: float64"
      ]
     },
     "execution_count": 21,
     "metadata": {},
     "output_type": "execute_result"
    }
   ],
   "source": [
    "# calc average\n",
    "df.groupby('hotel').total_kids.mean().round(2)"
   ]
  },
  {
   "cell_type": "code",
   "execution_count": 22,
   "id": "62119544",
   "metadata": {},
   "outputs": [
    {
     "data": {
      "text/plain": [
       "hotel\n",
       "Resort Hotel    0.14\n",
       "Name: total_kids, dtype: float64"
      ]
     },
     "execution_count": 22,
     "metadata": {},
     "output_type": "execute_result"
    }
   ],
   "source": [
    "# highest average value\n",
    "df.groupby('hotel').total_kids.mean().round(2).nlargest(1)"
   ]
  },
  {
   "attachments": {},
   "cell_type": "markdown",
   "id": "44331ebb",
   "metadata": {},
   "source": [
    "# Task 10"
   ]
  },
  {
   "attachments": {},
   "cell_type": "markdown",
   "id": "a151d071",
   "metadata": {},
   "source": [
    "Not all bookings were successful (is_canceled), so you can count how many customers were lost in the process.\n",
    "\n",
    "calculate a metric called Churn Rate. Churn rate (outflow, churn rate) is the percentage of subscribers (for example, to push notifications from the site) who unsubscribed from the communication channel, abandoned the services of the service during a certain period of time.\n",
    "\n",
    "is the ratio of the number of users who left to the total number of users, expressed as a percentage. In our case, the Churn Rate is the percentage of customers who canceled their booking. Let's see how this metric relates to customers having children!\n",
    "\n",
    "Create a has_kids variable that takes the value True if the client specified at least one child during the booking (total_kids), otherwise False. Next, check which user group has the highest churn rate.\n",
    "\n",
    "As an answer, indicate the largest % outflow, rounded to 2 decimal places (that is, the share of 0.24563 will be 24.56% and 24.56 will go in response)"
   ]
  },
  {
   "cell_type": "code",
   "execution_count": 23,
   "id": "d2c89407",
   "metadata": {},
   "outputs": [],
   "source": [
    "# create a function, which is then applied to the total_kids column\n",
    "# the function will take row by row the values ​​in the given column and assign True False"
   ]
  },
  {
   "cell_type": "code",
   "execution_count": 24,
   "id": "e4d9a083",
   "metadata": {},
   "outputs": [],
   "source": [
    "def has_kids(x):\n",
    "    if x > 0:\n",
    "        return True\n",
    "    else:\n",
    "        return False"
   ]
  },
  {
   "cell_type": "code",
   "execution_count": 25,
   "id": "19f0a7a7",
   "metadata": {},
   "outputs": [],
   "source": [
    "df['has_kids'] = df.total_kids.apply(has_kids)"
   ]
  },
  {
   "cell_type": "code",
   "execution_count": 27,
   "id": "53c12b3d",
   "metadata": {},
   "outputs": [
    {
     "data": {
      "text/plain": [
       "False    110058\n",
       "True       9332\n",
       "Name: has_kids, dtype: int64"
      ]
     },
     "execution_count": 27,
     "metadata": {},
     "output_type": "execute_result"
    }
   ],
   "source": [
    "df['has_kids'].value_counts()"
   ]
  },
  {
   "cell_type": "code",
   "execution_count": 28,
   "id": "a9fcdd25",
   "metadata": {},
   "outputs": [
    {
     "data": {
      "text/plain": [
       "has_kids  is_canceled\n",
       "False     0              62.778717\n",
       "          1              37.221283\n",
       "True      0              65.077154\n",
       "          1              34.922846\n",
       "dtype: float64"
      ]
     },
     "execution_count": 28,
     "metadata": {},
     "output_type": "execute_result"
    }
   ],
   "source": [
    "df[['has_kids', 'is_canceled']].value_counts() / df[['has_kids']].value_counts()*100"
   ]
  },
  {
   "cell_type": "code",
   "execution_count": 29,
   "id": "be16a373",
   "metadata": {},
   "outputs": [
    {
     "data": {
      "text/plain": [
       "has_kids  is_canceled\n",
       "False     0              62.78\n",
       "          1              37.22\n",
       "True      0              65.08\n",
       "          1              34.92\n",
       "Name: is_canceled, dtype: float64"
      ]
     },
     "execution_count": 29,
     "metadata": {},
     "output_type": "execute_result"
    }
   ],
   "source": [
    "# True if greater than or equal to 1, False if less than\n",
    "df['has_kids'] = df['total_kids'] >= 1\n",
    "\n",
    "# group by the required field, for each group we take the is_canceled column\n",
    "# use value_counts with the parameter normalize=True to show the share in %\n",
    "rates = df.groupby('has_kids')['is_canceled'].value_counts(normalize=True)\n",
    "\n",
    "# round and show result\n",
    "round(rates * 100, 2)"
   ]
  },
  {
   "cell_type": "code",
   "execution_count": null,
   "id": "778c8afd",
   "metadata": {},
   "outputs": [],
   "source": []
  }
 ],
 "metadata": {
  "kernelspec": {
   "display_name": "Python 3 (ipykernel)",
   "language": "python",
   "name": "python3"
  },
  "language_info": {
   "codemirror_mode": {
    "name": "ipython",
    "version": 3
   },
   "file_extension": ".py",
   "mimetype": "text/x-python",
   "name": "python",
   "nbconvert_exporter": "python",
   "pygments_lexer": "ipython3",
   "version": "3.11.1"
  }
 },
 "nbformat": 4,
 "nbformat_minor": 5
}
