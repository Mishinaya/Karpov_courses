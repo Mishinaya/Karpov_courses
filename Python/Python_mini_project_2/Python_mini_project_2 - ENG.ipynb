{
 "cells": [
  {
   "attachments": {},
   "cell_type": "markdown",
   "id": "dc042883",
   "metadata": {},
   "source": [
    "# Python. Mini-project 2\n"
   ]
  },
  {
   "attachments": {},
   "cell_type": "markdown",
   "id": "dad48ef0",
   "metadata": {},
   "source": [
    "1. Import the pandas library as pd. Download two datasets user_data and logs. Check table size, variable types, missing values, descriptive statistics.\n",
    "\n",
    "2. Which client has made the most successful transactions? (success==True)\n",
    "\n",
    "3. Which platform has the highest number of successful transactions?\n",
    "\n",
    "4. Which platform do premium customers prefer?\n",
    "\n",
    "5. Visualize the age distribution of customers depending on the type of customer (premium or not)\n",
    "\n",
    "6. Plot the distribution of the number of successful operations\n",
    "\n",
    "7. Visualize the number of successful operations made on the computer platform as a function of age using sns.countplot (x is age, y is the number of successful operations). What age group of clients had the highest number of successful actions?"
   ]
  },
  {
   "attachments": {},
   "cell_type": "markdown",
   "id": "71a4e8ed",
   "metadata": {},
   "source": [
    "### Data Description\n",
    "**user_data:**\n",
    "\n",
    "- client - user ID\n",
    "- premium - whether the client is a premium\n",
    "-age - age\n",
    "\n",
    "**logs:**\n",
    "\n",
    "- client - user ID\n",
    "- success - result (success - 1, no - 0)\n",
    "- platform - platform\n",
    "- time - time in Unix format"
   ]
  },
  {
   "cell_type": "code",
   "execution_count": 48,
   "id": "18e55ad0",
   "metadata": {},
   "outputs": [],
   "source": [
    "import pandas as pd\n",
    "import seaborn as sns\n",
    "import matplotlib.pyplot as plt"
   ]
  },
  {
   "attachments": {},
   "cell_type": "markdown",
   "id": "9fe13e66",
   "metadata": {},
   "source": [
    "# Task 1\n",
    "\n",
    "Import the pandas library as pd. Download two datasets user_data and logs.\n",
    "Check table size, variable types, look at descriptive statistics.\n",
    "\n",
    "Question: How many unique values ​​does the platform variable take?"
   ]
  },
  {
   "cell_type": "code",
   "execution_count": 49,
   "id": "425a6c42",
   "metadata": {},
   "outputs": [
    {
     "data": {
      "text/html": [
       "<div>\n",
       "<style scoped>\n",
       "    .dataframe tbody tr th:only-of-type {\n",
       "        vertical-align: middle;\n",
       "    }\n",
       "\n",
       "    .dataframe tbody tr th {\n",
       "        vertical-align: top;\n",
       "    }\n",
       "\n",
       "    .dataframe thead th {\n",
       "        text-align: right;\n",
       "    }\n",
       "</style>\n",
       "<table border=\"1\" class=\"dataframe\">\n",
       "  <thead>\n",
       "    <tr style=\"text-align: right;\">\n",
       "      <th></th>\n",
       "      <th>client</th>\n",
       "      <th>premium</th>\n",
       "      <th>age</th>\n",
       "    </tr>\n",
       "  </thead>\n",
       "  <tbody>\n",
       "    <tr>\n",
       "      <th>0</th>\n",
       "      <td>46346</td>\n",
       "      <td>False</td>\n",
       "      <td>58</td>\n",
       "    </tr>\n",
       "    <tr>\n",
       "      <th>1</th>\n",
       "      <td>4391</td>\n",
       "      <td>False</td>\n",
       "      <td>55</td>\n",
       "    </tr>\n",
       "    <tr>\n",
       "      <th>2</th>\n",
       "      <td>27372</td>\n",
       "      <td>False</td>\n",
       "      <td>64</td>\n",
       "    </tr>\n",
       "    <tr>\n",
       "      <th>3</th>\n",
       "      <td>11989</td>\n",
       "      <td>False</td>\n",
       "      <td>44</td>\n",
       "    </tr>\n",
       "    <tr>\n",
       "      <th>4</th>\n",
       "      <td>60664</td>\n",
       "      <td>False</td>\n",
       "      <td>49</td>\n",
       "    </tr>\n",
       "  </tbody>\n",
       "</table>\n",
       "</div>"
      ],
      "text/plain": [
       "   client  premium  age\n",
       "0   46346    False   58\n",
       "1    4391    False   55\n",
       "2   27372    False   64\n",
       "3   11989    False   44\n",
       "4   60664    False   49"
      ]
     },
     "execution_count": 49,
     "metadata": {},
     "output_type": "execute_result"
    }
   ],
   "source": [
    "# table with unique user ids\n",
    "df_users = pd.read_csv('./3_user_data.csv')\n",
    "df_users.head()"
   ]
  },
  {
   "cell_type": "code",
   "execution_count": 50,
   "id": "2089d81a",
   "metadata": {},
   "outputs": [
    {
     "data": {
      "text/html": [
       "<div>\n",
       "<style scoped>\n",
       "    .dataframe tbody tr th:only-of-type {\n",
       "        vertical-align: middle;\n",
       "    }\n",
       "\n",
       "    .dataframe tbody tr th {\n",
       "        vertical-align: top;\n",
       "    }\n",
       "\n",
       "    .dataframe thead th {\n",
       "        text-align: right;\n",
       "    }\n",
       "</style>\n",
       "<table border=\"1\" class=\"dataframe\">\n",
       "  <thead>\n",
       "    <tr style=\"text-align: right;\">\n",
       "      <th></th>\n",
       "      <th>client</th>\n",
       "      <th>success</th>\n",
       "      <th>platform</th>\n",
       "      <th>time</th>\n",
       "    </tr>\n",
       "  </thead>\n",
       "  <tbody>\n",
       "    <tr>\n",
       "      <th>0</th>\n",
       "      <td>40177</td>\n",
       "      <td>True</td>\n",
       "      <td>phone</td>\n",
       "      <td>1585412212</td>\n",
       "    </tr>\n",
       "    <tr>\n",
       "      <th>1</th>\n",
       "      <td>61468</td>\n",
       "      <td>True</td>\n",
       "      <td>phone</td>\n",
       "      <td>1585425658</td>\n",
       "    </tr>\n",
       "    <tr>\n",
       "      <th>2</th>\n",
       "      <td>35604</td>\n",
       "      <td>False</td>\n",
       "      <td>phone</td>\n",
       "      <td>1585459894</td>\n",
       "    </tr>\n",
       "    <tr>\n",
       "      <th>3</th>\n",
       "      <td>9961</td>\n",
       "      <td>True</td>\n",
       "      <td>phone</td>\n",
       "      <td>1585400189</td>\n",
       "    </tr>\n",
       "    <tr>\n",
       "      <th>4</th>\n",
       "      <td>10931</td>\n",
       "      <td>True</td>\n",
       "      <td>computer</td>\n",
       "      <td>1585468629</td>\n",
       "    </tr>\n",
       "  </tbody>\n",
       "</table>\n",
       "</div>"
      ],
      "text/plain": [
       "   client  success  platform        time\n",
       "0   40177     True     phone  1585412212\n",
       "1   61468     True     phone  1585425658\n",
       "2   35604    False     phone  1585459894\n",
       "3    9961     True     phone  1585400189\n",
       "4   10931     True  computer  1585468629"
      ]
     },
     "execution_count": 50,
     "metadata": {},
     "output_type": "execute_result"
    }
   ],
   "source": [
    "df_log = pd.read_csv('./3_logs.csv')\n",
    "df_log.head()"
   ]
  },
  {
   "cell_type": "code",
   "execution_count": 51,
   "id": "27dc441b",
   "metadata": {},
   "outputs": [
    {
     "data": {
      "text/plain": [
       "(2954, 3)"
      ]
     },
     "execution_count": 51,
     "metadata": {},
     "output_type": "execute_result"
    }
   ],
   "source": [
    "df_users.shape"
   ]
  },
  {
   "cell_type": "code",
   "execution_count": 52,
   "id": "09fa1cfa",
   "metadata": {},
   "outputs": [
    {
     "data": {
      "text/plain": [
       "(4500, 4)"
      ]
     },
     "execution_count": 52,
     "metadata": {},
     "output_type": "execute_result"
    }
   ],
   "source": [
    "df_log.shape"
   ]
  },
  {
   "cell_type": "code",
   "execution_count": 53,
   "id": "0acde092",
   "metadata": {},
   "outputs": [
    {
     "name": "stdout",
     "output_type": "stream",
     "text": [
      "<class 'pandas.core.frame.DataFrame'>\n",
      "RangeIndex: 2954 entries, 0 to 2953\n",
      "Data columns (total 3 columns):\n",
      " #   Column   Non-Null Count  Dtype\n",
      "---  ------   --------------  -----\n",
      " 0   client   2954 non-null   int64\n",
      " 1   premium  2954 non-null   bool \n",
      " 2   age      2954 non-null   int64\n",
      "dtypes: bool(1), int64(2)\n",
      "memory usage: 49.2 KB\n"
     ]
    }
   ],
   "source": [
    "df_users.info()"
   ]
  },
  {
   "cell_type": "code",
   "execution_count": 54,
   "id": "a3c83a5b",
   "metadata": {},
   "outputs": [
    {
     "name": "stdout",
     "output_type": "stream",
     "text": [
      "<class 'pandas.core.frame.DataFrame'>\n",
      "RangeIndex: 4500 entries, 0 to 4499\n",
      "Data columns (total 4 columns):\n",
      " #   Column    Non-Null Count  Dtype \n",
      "---  ------    --------------  ----- \n",
      " 0   client    4500 non-null   int64 \n",
      " 1   success   4500 non-null   bool  \n",
      " 2   platform  4500 non-null   object\n",
      " 3   time      4500 non-null   int64 \n",
      "dtypes: bool(1), int64(2), object(1)\n",
      "memory usage: 110.0+ KB\n"
     ]
    }
   ],
   "source": [
    "df_log.info()"
   ]
  },
  {
   "cell_type": "code",
   "execution_count": 55,
   "id": "7d519dc0",
   "metadata": {},
   "outputs": [
    {
     "data": {
      "text/html": [
       "<div>\n",
       "<style scoped>\n",
       "    .dataframe tbody tr th:only-of-type {\n",
       "        vertical-align: middle;\n",
       "    }\n",
       "\n",
       "    .dataframe tbody tr th {\n",
       "        vertical-align: top;\n",
       "    }\n",
       "\n",
       "    .dataframe thead th {\n",
       "        text-align: right;\n",
       "    }\n",
       "</style>\n",
       "<table border=\"1\" class=\"dataframe\">\n",
       "  <thead>\n",
       "    <tr style=\"text-align: right;\">\n",
       "      <th></th>\n",
       "      <th>client</th>\n",
       "      <th>time</th>\n",
       "    </tr>\n",
       "  </thead>\n",
       "  <tbody>\n",
       "    <tr>\n",
       "      <th>count</th>\n",
       "      <td>4500.000000</td>\n",
       "      <td>4.500000e+03</td>\n",
       "    </tr>\n",
       "    <tr>\n",
       "      <th>mean</th>\n",
       "      <td>50998.758000</td>\n",
       "      <td>1.585440e+09</td>\n",
       "    </tr>\n",
       "    <tr>\n",
       "      <th>std</th>\n",
       "      <td>28374.472495</td>\n",
       "      <td>2.314866e+04</td>\n",
       "    </tr>\n",
       "    <tr>\n",
       "      <th>min</th>\n",
       "      <td>40.000000</td>\n",
       "      <td>1.585400e+09</td>\n",
       "    </tr>\n",
       "    <tr>\n",
       "      <th>25%</th>\n",
       "      <td>27056.500000</td>\n",
       "      <td>1.585420e+09</td>\n",
       "    </tr>\n",
       "    <tr>\n",
       "      <th>50%</th>\n",
       "      <td>52659.000000</td>\n",
       "      <td>1.585440e+09</td>\n",
       "    </tr>\n",
       "    <tr>\n",
       "      <th>75%</th>\n",
       "      <td>76001.250000</td>\n",
       "      <td>1.585461e+09</td>\n",
       "    </tr>\n",
       "    <tr>\n",
       "      <th>max</th>\n",
       "      <td>99993.000000</td>\n",
       "      <td>1.585480e+09</td>\n",
       "    </tr>\n",
       "  </tbody>\n",
       "</table>\n",
       "</div>"
      ],
      "text/plain": [
       "             client          time\n",
       "count   4500.000000  4.500000e+03\n",
       "mean   50998.758000  1.585440e+09\n",
       "std    28374.472495  2.314866e+04\n",
       "min       40.000000  1.585400e+09\n",
       "25%    27056.500000  1.585420e+09\n",
       "50%    52659.000000  1.585440e+09\n",
       "75%    76001.250000  1.585461e+09\n",
       "max    99993.000000  1.585480e+09"
      ]
     },
     "execution_count": 55,
     "metadata": {},
     "output_type": "execute_result"
    }
   ],
   "source": [
    "# descriptive statistics\n",
    "\n",
    "df_log.describe()"
   ]
  },
  {
   "cell_type": "code",
   "execution_count": 56,
   "id": "8c47441f",
   "metadata": {},
   "outputs": [
    {
     "data": {
      "text/html": [
       "<div>\n",
       "<style scoped>\n",
       "    .dataframe tbody tr th:only-of-type {\n",
       "        vertical-align: middle;\n",
       "    }\n",
       "\n",
       "    .dataframe tbody tr th {\n",
       "        vertical-align: top;\n",
       "    }\n",
       "\n",
       "    .dataframe thead th {\n",
       "        text-align: right;\n",
       "    }\n",
       "</style>\n",
       "<table border=\"1\" class=\"dataframe\">\n",
       "  <thead>\n",
       "    <tr style=\"text-align: right;\">\n",
       "      <th></th>\n",
       "      <th>client</th>\n",
       "      <th>age</th>\n",
       "    </tr>\n",
       "  </thead>\n",
       "  <tbody>\n",
       "    <tr>\n",
       "      <th>count</th>\n",
       "      <td>2954.000000</td>\n",
       "      <td>2954.000000</td>\n",
       "    </tr>\n",
       "    <tr>\n",
       "      <th>mean</th>\n",
       "      <td>50767.886594</td>\n",
       "      <td>44.196005</td>\n",
       "    </tr>\n",
       "    <tr>\n",
       "      <th>std</th>\n",
       "      <td>28800.505847</td>\n",
       "      <td>14.248336</td>\n",
       "    </tr>\n",
       "    <tr>\n",
       "      <th>min</th>\n",
       "      <td>40.000000</td>\n",
       "      <td>20.000000</td>\n",
       "    </tr>\n",
       "    <tr>\n",
       "      <th>25%</th>\n",
       "      <td>25639.500000</td>\n",
       "      <td>32.000000</td>\n",
       "    </tr>\n",
       "    <tr>\n",
       "      <th>50%</th>\n",
       "      <td>51569.500000</td>\n",
       "      <td>44.000000</td>\n",
       "    </tr>\n",
       "    <tr>\n",
       "      <th>75%</th>\n",
       "      <td>75963.250000</td>\n",
       "      <td>56.000000</td>\n",
       "    </tr>\n",
       "    <tr>\n",
       "      <th>max</th>\n",
       "      <td>99973.000000</td>\n",
       "      <td>69.000000</td>\n",
       "    </tr>\n",
       "  </tbody>\n",
       "</table>\n",
       "</div>"
      ],
      "text/plain": [
       "             client          age\n",
       "count   2954.000000  2954.000000\n",
       "mean   50767.886594    44.196005\n",
       "std    28800.505847    14.248336\n",
       "min       40.000000    20.000000\n",
       "25%    25639.500000    32.000000\n",
       "50%    51569.500000    44.000000\n",
       "75%    75963.250000    56.000000\n",
       "max    99973.000000    69.000000"
      ]
     },
     "execution_count": 56,
     "metadata": {},
     "output_type": "execute_result"
    }
   ],
   "source": [
    "df_users.describe()"
   ]
  },
  {
   "cell_type": "code",
   "execution_count": 57,
   "id": "931a2391",
   "metadata": {},
   "outputs": [
    {
     "data": {
      "text/plain": [
       "array(['phone', 'computer', 'tablet'], dtype=object)"
      ]
     },
     "execution_count": 57,
     "metadata": {},
     "output_type": "execute_result"
    }
   ],
   "source": [
    "df_log['platform'].unique()"
   ]
  },
  {
   "cell_type": "code",
   "execution_count": 58,
   "id": "ee1205c3",
   "metadata": {},
   "outputs": [
    {
     "data": {
      "text/plain": [
       "3"
      ]
     },
     "execution_count": 58,
     "metadata": {},
     "output_type": "execute_result"
    }
   ],
   "source": [
    "# How many unique values ​​does the platform variable take?\n",
    "df_log['platform'].nunique()"
   ]
  },
  {
   "attachments": {},
   "cell_type": "markdown",
   "id": "9fd8fc23",
   "metadata": {},
   "source": [
    "# Task 2\n",
    "\n",
    "\n",
    "Which client has made the most successful transactions?\n",
    "\n",
    "If several users have completed the same number of successful actions,\n",
    "list their identifiers (client) separated by commas and spaces in ascending order."
   ]
  },
  {
   "cell_type": "code",
   "execution_count": 59,
   "id": "2f05b9ea",
   "metadata": {},
   "outputs": [],
   "source": [
    "success_count = df_log.loc[df_log.success == True].client.value_counts()"
   ]
  },
  {
   "cell_type": "code",
   "execution_count": 60,
   "id": "15925e63",
   "metadata": {},
   "outputs": [
    {
     "data": {
      "text/plain": [
       "28719    41\n",
       "52870    41\n",
       "61468    41\n",
       "61473    41\n",
       "12179    41\n",
       "         ..\n",
       "70028     1\n",
       "37123     1\n",
       "73522     1\n",
       "38359     1\n",
       "40921     1\n",
       "Name: client, Length: 2845, dtype: int64"
      ]
     },
     "execution_count": 60,
     "metadata": {},
     "output_type": "execute_result"
    }
   ],
   "source": [
    "success_count"
   ]
  },
  {
   "cell_type": "code",
   "execution_count": 61,
   "id": "17be12dc",
   "metadata": {},
   "outputs": [],
   "source": [
    "max_success = success_count.max()"
   ]
  },
  {
   "cell_type": "code",
   "execution_count": 62,
   "id": "7065935c",
   "metadata": {},
   "outputs": [
    {
     "data": {
      "text/plain": [
       "28719    41\n",
       "52870    41\n",
       "61468    41\n",
       "61473    41\n",
       "12179    41\n",
       "82563    41\n",
       "36165    41\n",
       "92584    41\n",
       "78349    41\n",
       "Name: client, dtype: int64"
      ]
     },
     "execution_count": 62,
     "metadata": {},
     "output_type": "execute_result"
    }
   ],
   "source": [
    "max_success_users = success_count.loc[success_count == max_success]\n",
    "max_success_users"
   ]
  },
  {
   "cell_type": "code",
   "execution_count": 63,
   "id": "2da056ff",
   "metadata": {},
   "outputs": [
    {
     "data": {
      "text/plain": [
       "Int64Index([12179, 28719, 36165, 52870, 61468, 61473, 78349, 82563, 92584], dtype='int64')"
      ]
     },
     "execution_count": 63,
     "metadata": {},
     "output_type": "execute_result"
    }
   ],
   "source": [
    "#list ids\n",
    "max_success_users.index.sort_values()"
   ]
  },
  {
   "attachments": {},
   "cell_type": "markdown",
   "id": "a55b51c0",
   "metadata": {},
   "source": [
    "# Task 3\n",
    "Which platform has the highest number of successful transactions?\n"
   ]
  },
  {
   "cell_type": "code",
   "execution_count": 64,
   "id": "b1801e74",
   "metadata": {},
   "outputs": [
    {
     "data": {
      "text/plain": [
       "'phone'"
      ]
     },
     "execution_count": 64,
     "metadata": {},
     "output_type": "execute_result"
    }
   ],
   "source": [
    "df_log.loc[df_log.success == True].platform.value_counts().idxmax()"
   ]
  },
  {
   "cell_type": "code",
   "execution_count": 65,
   "id": "22c3ce61",
   "metadata": {},
   "outputs": [
    {
     "data": {
      "text/plain": [
       "2019"
      ]
     },
     "execution_count": 65,
     "metadata": {},
     "output_type": "execute_result"
    }
   ],
   "source": [
    "df_log.loc[df_log.success == True].platform.value_counts().max()"
   ]
  },
  {
   "attachments": {},
   "cell_type": "markdown",
   "id": "e32fb1b0",
   "metadata": {},
   "source": [
    "# Task 4\n",
    "Which platform is most popular among premium customers?\n"
   ]
  },
  {
   "cell_type": "code",
   "execution_count": 66,
   "id": "ff602c24",
   "metadata": {},
   "outputs": [
    {
     "data": {
      "text/html": [
       "<div>\n",
       "<style scoped>\n",
       "    .dataframe tbody tr th:only-of-type {\n",
       "        vertical-align: middle;\n",
       "    }\n",
       "\n",
       "    .dataframe tbody tr th {\n",
       "        vertical-align: top;\n",
       "    }\n",
       "\n",
       "    .dataframe thead th {\n",
       "        text-align: right;\n",
       "    }\n",
       "</style>\n",
       "<table border=\"1\" class=\"dataframe\">\n",
       "  <thead>\n",
       "    <tr style=\"text-align: right;\">\n",
       "      <th></th>\n",
       "      <th>client</th>\n",
       "      <th>success</th>\n",
       "      <th>platform</th>\n",
       "      <th>time</th>\n",
       "      <th>premium</th>\n",
       "      <th>age</th>\n",
       "    </tr>\n",
       "  </thead>\n",
       "  <tbody>\n",
       "    <tr>\n",
       "      <th>0</th>\n",
       "      <td>61468</td>\n",
       "      <td>True</td>\n",
       "      <td>phone</td>\n",
       "      <td>1585425658</td>\n",
       "      <td>False</td>\n",
       "      <td>25</td>\n",
       "    </tr>\n",
       "    <tr>\n",
       "      <th>1</th>\n",
       "      <td>61468</td>\n",
       "      <td>True</td>\n",
       "      <td>computer</td>\n",
       "      <td>1585460504</td>\n",
       "      <td>False</td>\n",
       "      <td>25</td>\n",
       "    </tr>\n",
       "    <tr>\n",
       "      <th>2</th>\n",
       "      <td>61468</td>\n",
       "      <td>True</td>\n",
       "      <td>computer</td>\n",
       "      <td>1585430291</td>\n",
       "      <td>False</td>\n",
       "      <td>25</td>\n",
       "    </tr>\n",
       "    <tr>\n",
       "      <th>3</th>\n",
       "      <td>61468</td>\n",
       "      <td>True</td>\n",
       "      <td>computer</td>\n",
       "      <td>1585444317</td>\n",
       "      <td>False</td>\n",
       "      <td>25</td>\n",
       "    </tr>\n",
       "    <tr>\n",
       "      <th>4</th>\n",
       "      <td>61468</td>\n",
       "      <td>True</td>\n",
       "      <td>phone</td>\n",
       "      <td>1585441266</td>\n",
       "      <td>False</td>\n",
       "      <td>25</td>\n",
       "    </tr>\n",
       "  </tbody>\n",
       "</table>\n",
       "</div>"
      ],
      "text/plain": [
       "   client  success  platform        time  premium  age\n",
       "0   61468     True     phone  1585425658    False   25\n",
       "1   61468     True  computer  1585460504    False   25\n",
       "2   61468     True  computer  1585430291    False   25\n",
       "3   61468     True  computer  1585444317    False   25\n",
       "4   61468     True     phone  1585441266    False   25"
      ]
     },
     "execution_count": 66,
     "metadata": {},
     "output_type": "execute_result"
    }
   ],
   "source": [
    "general_df = df_log.merge(df_users, on='client')\n",
    "general_df.head(5)"
   ]
  },
  {
   "cell_type": "code",
   "execution_count": 67,
   "id": "5a972471",
   "metadata": {},
   "outputs": [
    {
     "data": {
      "text/plain": [
       "'phone'"
      ]
     },
     "execution_count": 67,
     "metadata": {},
     "output_type": "execute_result"
    }
   ],
   "source": [
    "general_df.loc[general_df.premium == True].platform.value_counts().idxmax()"
   ]
  },
  {
   "attachments": {},
   "cell_type": "markdown",
   "id": "d2a56348",
   "metadata": {},
   "source": [
    "# Task 5\n",
    "\n",
    "Visualize the age distribution of customers depending on the type of customer (regular or premium),\n",
    "using the seaborn library with default color options."
   ]
  },
  {
   "cell_type": "code",
   "execution_count": 68,
   "id": "e67c7130",
   "metadata": {},
   "outputs": [
    {
     "name": "stderr",
     "output_type": "stream",
     "text": [
      "C:\\Users\\Ann Zalivatskaya\\AppData\\Local\\Temp\\ipykernel_34236\\33737216.py:1: UserWarning: \n",
      "\n",
      "`distplot` is a deprecated function and will be removed in seaborn v0.14.0.\n",
      "\n",
      "Please adapt your code to use either `displot` (a figure-level function with\n",
      "similar flexibility) or `histplot` (an axes-level function for histograms).\n",
      "\n",
      "For a guide to updating your code to use the new functions, please see\n",
      "https://gist.github.com/mwaskom/de44147ed2974457ad6372750bbe5751\n",
      "\n",
      "  sns.distplot(general_df.query('premium == False').age)\n",
      "C:\\Users\\Ann Zalivatskaya\\AppData\\Local\\Temp\\ipykernel_34236\\33737216.py:2: UserWarning: \n",
      "\n",
      "`distplot` is a deprecated function and will be removed in seaborn v0.14.0.\n",
      "\n",
      "Please adapt your code to use either `displot` (a figure-level function with\n",
      "similar flexibility) or `histplot` (an axes-level function for histograms).\n",
      "\n",
      "For a guide to updating your code to use the new functions, please see\n",
      "https://gist.github.com/mwaskom/de44147ed2974457ad6372750bbe5751\n",
      "\n",
      "  sns.distplot(general_df.query('premium == True').age)\n"
     ]
    },
    {
     "data": {
      "text/plain": [
       "<Axes: xlabel='age', ylabel='Density'>"
      ]
     },
     "execution_count": 68,
     "metadata": {},
     "output_type": "execute_result"
    },
    {
     "data": {
      "image/png": "[encoded data removed]",
      "text/plain": [
       "<Figure size 640x480 with 1 Axes>"
      ]
     },
     "metadata": {},
     "output_type": "display_data"
    }
   ],
   "source": [
    "sns.distplot(general_df.query('premium == False').age)\n",
    "sns.distplot(general_df.query('premium == True').age)"
   ]
  },
  {
   "cell_type": "code",
   "execution_count": 69,
   "id": "c540408b",
   "metadata": {},
   "outputs": [
    {
     "data": {
      "text/plain": [
       "<seaborn.axisgrid.FacetGrid at 0x2846e296090>"
      ]
     },
     "execution_count": 69,
     "metadata": {},
     "output_type": "execute_result"
    },
    {
     "data": {
      "image/png": "[encoded data removed]",
      "text/plain": [
       "<Figure size 584.875x500 with 1 Axes>"
      ]
     },
     "metadata": {},
     "output_type": "display_data"
    }
   ],
   "source": [
    "sns.displot(data=general_df, x='age', hue='premium', kde=True, kind='hist', stat='density', common_norm=False)"
   ]
  },
  {
   "attachments": {},
   "cell_type": "markdown",
   "id": "ae0435c5",
   "metadata": {},
   "source": [
    "# Task 6\n",
    "Plot the distribution of the number of successful operations:\n",
    "\n",
    "- x – number of successful operations\n",
    "- y - the number of clients who have made so many successful transactions"
   ]
  },
  {
   "cell_type": "code",
   "execution_count": 70,
   "id": "d2f2f9b8",
   "metadata": {},
   "outputs": [],
   "source": [
    "success_count = df_log.loc[df_log.success == True].client.value_counts()"
   ]
  },
  {
   "cell_type": "code",
   "execution_count": 71,
   "id": "d776bff6",
   "metadata": {},
   "outputs": [],
   "source": [
    "success_count = success_count.rename('successes')"
   ]
  },
  {
   "cell_type": "code",
   "execution_count": 72,
   "id": "dba58e2a",
   "metadata": {},
   "outputs": [
    {
     "data": {
      "text/plain": [
       "<Axes: xlabel='successes', ylabel='count'>"
      ]
     },
     "execution_count": 72,
     "metadata": {},
     "output_type": "execute_result"
    },
    {
     "data": {
      "image/png": "[encoded data removed]",
      "text/plain": [
       "<Figure size 640x480 with 1 Axes>"
      ]
     },
     "metadata": {},
     "output_type": "display_data"
    }
   ],
   "source": [
    "sns.countplot(x=success_count)"
   ]
  },
  {
   "attachments": {},
   "cell_type": "markdown",
   "id": "9bd895cb",
   "metadata": {},
   "source": [
    "# Task 7\n",
    "Visualize the number of successful operations done on the computer platform as a function of age using sns.countplot. On the x-axis - age, y - the number of successful operations."
   ]
  },
  {
   "cell_type": "code",
   "execution_count": 73,
   "id": "aa742402",
   "metadata": {},
   "outputs": [
    {
     "data": {
      "image/png": "[encoded data removed]",
      "text/plain": [
       "<Figure size 1200x800 with 1 Axes>"
      ]
     },
     "metadata": {},
     "output_type": "display_data"
    }
   ],
   "source": [
    "import matplotlib.pyplot as plt\n",
    "plt.figure(figsize=(12,8))\n",
    "sns.countplot(data=general_df.loc[(general_df.platform == 'computer')\n",
    "                                   & (general_df.success == True)], \n",
    "             x='age')\n",
    "sns.despine()"
   ]
  },
  {
   "cell_type": "code",
   "execution_count": null,
   "id": "90f52ef1",
   "metadata": {},
   "outputs": [],
   "source": []
  }
 ],
 "metadata": {
  "kernelspec": {
   "display_name": "Python 3 (ipykernel)",
   "language": "python",
   "name": "python3"
  },
  "language_info": {
   "codemirror_mode": {
    "name": "ipython",
    "version": 3
   },
   "file_extension": ".py",
   "mimetype": "text/x-python",
   "name": "python",
   "nbconvert_exporter": "python",
   "pygments_lexer": "ipython3",
   "version": "3.11.1"
  }
 },
 "nbformat": 4,
 "nbformat_minor": 5
}
