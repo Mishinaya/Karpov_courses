{
 "cells": [
  {
   "attachments": {},
   "cell_type": "markdown",
   "id": "dfd97929",
   "metadata": {},
   "source": [
    "# Final project\n",
    "## Task 1. A/B testing\n",
    "### Condition\n",
    "\n",
    "One of the main tasks of the analyst in our team is the correct conduct of experiments. To do this, we use the A/B testing method. During testing of one hypothesis, the target group was offered a new mechanism for paying for services on the site, while the control group retained the basic mechanics. As a task, you need to analyze the results of the experiment and decide whether it is worth launching a new payment mechanism for all users.\n",
    "\n",
    "###  Input data\n",
    "\n",
    "You have 4 csv files as input:\n",
    "\n",
    "\n",
    "- **groups.csv** - file with information about the user's belonging to the control or experimental group (A - control, B - target group)\n",
    "- **groups_add.csv** - an additional file with users that was sent to you 2 days after the data transfer\n",
    "- **active_studs.csv** - a file with information about users who logged into the platform on the days of the experiment.\n",
    "- **checks.csv** - file with information about user payments on the days of the experiment.\n",
    "### Questions\n",
    "\n",
    "We invite you to answer the following questions:\n",
    "\n",
    "- What metrics do you look at during the analysis and why?\n",
    "- Are there differences in performance and what might they be related to?\n",
    "- Are these differences statistically significant?\n",
    "- Is it worth launching new mechanics for all users?\n",
    "\n",
    "# Task 2. SQL\n",
    "## 2.1 Very diligent students.\n",
    "\n",
    "### 2.1.1. Condition\n",
    "\n",
    "Educational courses consist of various lessons, each of which consists of several small tasks. Each such small task is called a \"pea\".\n",
    "\n",
    "Let's call a very diligent student a user who correctly solved 20 peas at least once during the current month.\n",
    "### 2.1.2 Task\n",
    "Given a **default.peas** table:\n",
    "\n",
    "| Attribute name | Attribute type | Semantic meaning |\n",
    "| ------ | ------ | ------ |\n",
    "| st_id | int | Student ID |\n",
    "| timest | timestamp | Time decision card |\n",
    "| correct| bool | Is the pea solved correctly? |\n",
    "| subject | text | The discipline in which the pea is located |\n",
    "\n",
    "It is necessary to write an optimal query that will give information about the number of very diligent students.\n",
    "\n",
    "NB! By a very diligent student, we mean a student who correctly solved 20 problems in the current month.\n",
    "\n",
    "## 2.2 Funnel optimization\n",
    "\n",
    "### 2.2.1 Condition\n",
    "\n",
    "The educational platform offers students to take courses according to the trial model: a student can solve only 30 peas a day for free. For an unlimited number of tasks in a particular discipline, the student must purchase full access. The team ran an experiment where they tested the new payment screen.\n",
    "\n",
    "### 2.2.2 Task\n",
    "\n",
    "Table given: **default.peas** (see above), **default.studs**:\n",
    "\n",
    "| Attribute name | Attribute type | Semantic meaning |\n",
    "| ------ | ------ | ------ |\n",
    "| st_id | int | Student ID |\n",
    "| test_grp | text | Student label in this experiment |\n",
    "\n",
    "and **default.final_project_check**:\n",
    "\n",
    "| Attribute name | Attribute type | Semantic meaning |\n",
    "| ------ | ------ | ------ |\n",
    "| st_id | int | Student ID |\n",
    "| sale_time | timestamp | Shopping time |\n",
    "| money | int | The price at which this course was purchased |\n",
    "| subject | text | Discipline purchased with full access |\n",
    "\n",
    "It is necessary to upload the following information about user groups in one request:\n",
    "\n",
    "-ARPU\n",
    "- ARPAU\n",
    "- CR in purchase\n",
    "- CR of an active user in a purchase\n",
    "- User CR from math activity (subject = 'math') to math course purchase\n",
    "\n",
    "ARPU is calculated relative to all users in groups.\n",
    "\n",
    "**Active** is a user who has solved more than 10 problems correctly in all disciplines.\n",
    "\n",
    "**Active in math** is a user who has solved 2 or more problems correctly in math for the entire time.\n",
    "NB: All data is tabular in Clickhouse\n",
    "\n",
    "# Task 3. Python\n",
    "## 3.1 Task\n",
    "\n",
    "Implement a function that will automatically load information from an additional file **groups_add.csv** (headers may differ) and recalculate metrics based on additional parameters.\n",
    "Implement a function that will build graphs based on the received metrics."
   ]
  },
  {
   "cell_type": "code",
   "execution_count": 27,
   "id": "b3fba5ac",
   "metadata": {},
   "outputs": [],
   "source": [
    "import pandas as pd\n",
    "import numpy as np\n",
    "import matplotlib.pyplot as plt\n",
    "import seaborn as sns\n",
    "import plotly.express as px\n",
    "from datetime import timedelta\n",
    "import datetime as dt\n",
    "%matplotlib inline \n",
    "import calendar\n",
    "from tqdm.auto import tqdm\n",
    "from scipy.stats import norm \n",
    "from scipy.stats import norm, mannwhitneyu, ttest_ind, shapiro, levene, chi2_contingency\n",
    "import statsmodels.api as sm\n",
    "from datetime import datetime\n",
    "import pandahouse as ph\n",
    "import numpy as np\n",
    "import warnings\n",
    "warnings.filterwarnings('ignore')\n",
    "import pingouin as pg\n",
    "\n",
    "from scipy import stats\n",
    "from scipy.stats import norm\n",
    "import pingouin as pg"
   ]
  },
  {
   "attachments": {},
   "cell_type": "markdown",
   "id": "debec3b0",
   "metadata": {},
   "source": [
    "# Task 1. A/B testing"
   ]
  },
  {
   "cell_type": "code",
   "execution_count": 2,
   "id": "88a7860e",
   "metadata": {},
   "outputs": [],
   "source": [
    "# file with information about the user's belonging to the control or experimental group (A - control, B - target group) \n",
    "groups = pd.read_csv('groups.csv', sep=';')\n",
    "# additional file with users that was sent to you 2 days after the data transfer\n",
    "group_add = pd.read_csv('group_add.csv')\n",
    "# file with information about users who logged into the platform on the days of the experiment\n",
    "active_studs = pd.read_csv('active_studs.csv', sep=';')\n",
    "# file with information about user payments on the days of the experiment\n",
    "checks = pd.read_csv('checks.csv', sep=';')"
   ]
  },
  {
   "cell_type": "code",
   "execution_count": 3,
   "id": "467ee8e5",
   "metadata": {},
   "outputs": [],
   "source": [
    "active_studs.rename(columns={'student_id': 'id'}, inplace=True)\n",
    "\n",
    "checks.rename(columns={'student_id': 'id'}, inplace=True)"
   ]
  },
  {
   "attachments": {},
   "cell_type": "markdown",
   "id": "df10e310",
   "metadata": {},
   "source": [
    "### table: groups"
   ]
  },
  {
   "cell_type": "code",
   "execution_count": 5,
   "id": "6e0b3bd6",
   "metadata": {},
   "outputs": [
    {
     "name": "stdout",
     "output_type": "stream",
     "text": [
      "Number of lines: 74484 \n",
      "\n",
      "Number of null id values: 0 \n",
      "\n",
      "Number of null values ​​grp: 0 \n",
      "\n",
      "Unique id in dataset: 74484 \n",
      "\n",
      "Note: All id values ​​are unique\n"
     ]
    }
   ],
   "source": [
    "print('Number of lines:', groups.shape[0],'\\n')\n",
    "print('Number of null id values:', groups.id.isna().sum(),'\\n')\n",
    "print('Number of null values ​​grp:', groups.grp.isna().sum(),'\\n')\n",
    "print('Unique id in dataset:', groups.id.nunique(),'\\n')\n",
    "\n",
    "if groups.shape[0] == groups.id.nunique():\n",
    "    print('Note: All id values ​​are unique')\n",
    "else:\n",
    "    print('Note: Beware of duplicates')"
   ]
  },
  {
   "attachments": {},
   "cell_type": "markdown",
   "id": "2c9c1282",
   "metadata": {},
   "source": [
    "### table: group_add"
   ]
  },
  {
   "cell_type": "code",
   "execution_count": 6,
   "id": "396f082a",
   "metadata": {},
   "outputs": [
    {
     "name": "stdout",
     "output_type": "stream",
     "text": [
      "Number of rows: 92 \n",
      "\n",
      "Number of null id values: 0 \n",
      "\n",
      "Number of null values ​​grp: 0 \n",
      "\n",
      "Unique id in dataset: 92 \n",
      "\n",
      "Note: All id values ​​are unique\n"
     ]
    }
   ],
   "source": [
    "print('Number of rows:', group_add.shape[0],'\\n')\n",
    "print('Number of null id values:', group_add.id.isna().sum(),'\\n')\n",
    "print('Number of null values ​​grp:', group_add.grp.isna().sum(), '\\n')\n",
    "print('Unique id in dataset:', group_add.id.nunique(),'\\n')\n",
    "\n",
    "if group_add.shape[0] == group_add.id.nunique():\n",
    "    print('Note: All id values ​​are unique')\n",
    "else:\n",
    "    print('Note: Beware of duplicates')"
   ]
  },
  {
   "attachments": {},
   "cell_type": "markdown",
   "id": "4e96c746",
   "metadata": {},
   "source": [
    "\n",
    "#### Join tables groups, group_add"
   ]
  },
  {
   "cell_type": "code",
   "execution_count": 7,
   "id": "5b3159a8",
   "metadata": {},
   "outputs": [],
   "source": [
    "general = pd.concat([groups, group_add])"
   ]
  },
  {
   "cell_type": "code",
   "execution_count": 8,
   "id": "b6cab2f4",
   "metadata": {},
   "outputs": [
    {
     "name": "stdout",
     "output_type": "stream",
     "text": [
      "Number of lines: 74576 \n",
      "\n",
      "Number of null id values: 0 \n",
      "\n",
      "Number of null values ​​grp: 0 \n",
      "\n",
      "Unique id in dataset: 74576 \n",
      "\n",
      "Note: All id values ​​are unique\n"
     ]
    }
   ],
   "source": [
    "print('Number of lines:', general.shape[0],'\\n')\n",
    "print('Number of null id values:', general.id.isna().sum(),'\\n')\n",
    "print('Number of null values ​​grp:', general.grp.isna().sum(),'\\n')\n",
    "print('Unique id in dataset:', general.id.nunique(),'\\n')\n",
    "\n",
    "if general.shape[0] == general.id.nunique():\n",
    "    print('Note: All id values ​​are unique')\n",
    "else:\n",
    "    print('Note: Beware of duplicates')"
   ]
  },
  {
   "cell_type": "code",
   "execution_count": 9,
   "id": "0f035398",
   "metadata": {},
   "outputs": [
    {
     "name": "stdout",
     "output_type": "stream",
     "text": [
      "The number of rows was: 74576 \n",
      "Number of rows after join: 74576\n",
      "Correct\n"
     ]
    }
   ],
   "source": [
    "print('The number of rows was:', group_add.id.count() + groups.id.count(),\n",
    "      '\\nNumber of rows after join:', pd.concat([groups, group_add]).id.count())\n",
    "if (group_add.id.count() + groups.id.count()) == general.id.count():\n",
    "    print('Correct')\n",
    "else:\n",
    "    print('ERROR')"
   ]
  },
  {
   "cell_type": "code",
   "execution_count": 10,
   "id": "2f7ef0db",
   "metadata": {},
   "outputs": [
    {
     "data": {
      "image/png": "[encoded data removed]",
      "text/plain": [
       "<Figure size 640x480 with 1 Axes>"
      ]
     },
     "metadata": {},
     "output_type": "display_data"
    }
   ],
   "source": [
    "ax = sns.countplot(x = general['grp'].sort_values())\n",
    "ax.set_title('Quantity of users\\n')\n",
    "ax.set_xlabel('Group')\n",
    "\n",
    "for container in ax.containers:\n",
    "    ax.bar_label(container)"
   ]
  },
  {
   "cell_type": "code",
   "execution_count": 11,
   "id": "3214fc3c",
   "metadata": {},
   "outputs": [
    {
     "data": {
      "text/plain": [
       "B    80.3\n",
       "A    19.7\n",
       "Name: grp, dtype: float64"
      ]
     },
     "execution_count": 11,
     "metadata": {},
     "output_type": "execute_result"
    }
   ],
   "source": [
    "# Calculate the percentage of people in groups.\n",
    "general.grp.value_counts(normalize=True).mul(100).round(2)"
   ]
  },
  {
   "attachments": {},
   "cell_type": "markdown",
   "id": "397c2a13",
   "metadata": {},
   "source": [
    "In the control group (A) 14693 people ~ **19.7%**, in the test group (B) - 59883 people ~ **80.3%**.\n",
    "\n",
    " The resulting group distribution looks a little strange"
   ]
  },
  {
   "attachments": {},
   "cell_type": "markdown",
   "id": "9cdf657b",
   "metadata": {},
   "source": [
    "#### table: active_studs"
   ]
  },
  {
   "cell_type": "code",
   "execution_count": 83,
   "id": "b4d6a210",
   "metadata": {},
   "outputs": [
    {
     "data": {
      "text/html": [
       "<div>\n",
       "<style scoped>\n",
       "    .dataframe tbody tr th:only-of-type {\n",
       "        vertical-align: middle;\n",
       "    }\n",
       "\n",
       "    .dataframe tbody tr th {\n",
       "        vertical-align: top;\n",
       "    }\n",
       "\n",
       "    .dataframe thead th {\n",
       "        text-align: right;\n",
       "    }\n",
       "</style>\n",
       "<table border=\"1\" class=\"dataframe\">\n",
       "  <thead>\n",
       "    <tr style=\"text-align: right;\">\n",
       "      <th></th>\n",
       "      <th>id</th>\n",
       "    </tr>\n",
       "  </thead>\n",
       "  <tbody>\n",
       "    <tr>\n",
       "      <th>0</th>\n",
       "      <td>581585</td>\n",
       "    </tr>\n",
       "    <tr>\n",
       "      <th>1</th>\n",
       "      <td>5723133</td>\n",
       "    </tr>\n",
       "    <tr>\n",
       "      <th>2</th>\n",
       "      <td>3276743</td>\n",
       "    </tr>\n",
       "    <tr>\n",
       "      <th>3</th>\n",
       "      <td>4238589</td>\n",
       "    </tr>\n",
       "    <tr>\n",
       "      <th>4</th>\n",
       "      <td>4475369</td>\n",
       "    </tr>\n",
       "  </tbody>\n",
       "</table>\n",
       "</div>"
      ],
      "text/plain": [
       "        id\n",
       "0   581585\n",
       "1  5723133\n",
       "2  3276743\n",
       "3  4238589\n",
       "4  4475369"
      ]
     },
     "execution_count": 83,
     "metadata": {},
     "output_type": "execute_result"
    }
   ],
   "source": [
    "active_studs.head()"
   ]
  },
  {
   "cell_type": "code",
   "execution_count": 13,
   "id": "1c1bba60",
   "metadata": {},
   "outputs": [
    {
     "name": "stdout",
     "output_type": "stream",
     "text": [
      "Number of lines: 8341 \n",
      "\n",
      "Unique ids in the dataset: 8341 \n",
      "\n"
     ]
    }
   ],
   "source": [
    "print('Number of lines:', active_studs.shape[0],'\\n')\n",
    "print('Unique ids in the dataset:', active_studs.id.nunique(),'\\n')"
   ]
  },
  {
   "attachments": {},
   "cell_type": "markdown",
   "id": "343c506b",
   "metadata": {},
   "source": [
    "do all id from active_studs appear in general"
   ]
  },
  {
   "cell_type": "code",
   "execution_count": 14,
   "id": "c5d26f3e",
   "metadata": {},
   "outputs": [
    {
     "data": {
      "text/plain": [
       "True    8341\n",
       "Name: id, dtype: int64"
      ]
     },
     "execution_count": 14,
     "metadata": {},
     "output_type": "execute_result"
    }
   ],
   "source": [
    "active_studs.id.isin(general.id).value_counts()"
   ]
  },
  {
   "attachments": {},
   "cell_type": "markdown",
   "id": "fb48e6f6",
   "metadata": {},
   "source": [
    "#### table: checks"
   ]
  },
  {
   "cell_type": "code",
   "execution_count": 15,
   "id": "ea1c1cc5",
   "metadata": {},
   "outputs": [
    {
     "data": {
      "text/html": [
       "<div>\n",
       "<style scoped>\n",
       "    .dataframe tbody tr th:only-of-type {\n",
       "        vertical-align: middle;\n",
       "    }\n",
       "\n",
       "    .dataframe tbody tr th {\n",
       "        vertical-align: top;\n",
       "    }\n",
       "\n",
       "    .dataframe thead th {\n",
       "        text-align: right;\n",
       "    }\n",
       "</style>\n",
       "<table border=\"1\" class=\"dataframe\">\n",
       "  <thead>\n",
       "    <tr style=\"text-align: right;\">\n",
       "      <th></th>\n",
       "      <th>id</th>\n",
       "      <th>rev</th>\n",
       "    </tr>\n",
       "  </thead>\n",
       "  <tbody>\n",
       "    <tr>\n",
       "      <th>0</th>\n",
       "      <td>1627</td>\n",
       "      <td>990.0</td>\n",
       "    </tr>\n",
       "    <tr>\n",
       "      <th>1</th>\n",
       "      <td>3185</td>\n",
       "      <td>690.0</td>\n",
       "    </tr>\n",
       "    <tr>\n",
       "      <th>2</th>\n",
       "      <td>25973</td>\n",
       "      <td>690.0</td>\n",
       "    </tr>\n",
       "    <tr>\n",
       "      <th>3</th>\n",
       "      <td>26280</td>\n",
       "      <td>690.0</td>\n",
       "    </tr>\n",
       "    <tr>\n",
       "      <th>4</th>\n",
       "      <td>100300</td>\n",
       "      <td>990.0</td>\n",
       "    </tr>\n",
       "  </tbody>\n",
       "</table>\n",
       "</div>"
      ],
      "text/plain": [
       "       id    rev\n",
       "0    1627  990.0\n",
       "1    3185  690.0\n",
       "2   25973  690.0\n",
       "3   26280  690.0\n",
       "4  100300  990.0"
      ]
     },
     "execution_count": 15,
     "metadata": {},
     "output_type": "execute_result"
    }
   ],
   "source": [
    "checks.head()"
   ]
  },
  {
   "cell_type": "code",
   "execution_count": 16,
   "id": "6bb219b4",
   "metadata": {},
   "outputs": [
    {
     "name": "stdout",
     "output_type": "stream",
     "text": [
      "Number of lines: 541 \n",
      "\n",
      "Number of missing id values: 0 \n",
      "\n",
      "Number of missing values ​​rev: 0 \n",
      "\n",
      "Unique id in dataset: 541 \n",
      "\n",
      "Unique id duplicates in dataset: 0 \n",
      "\n"
     ]
    }
   ],
   "source": [
    "print('Number of lines:', checks.shape[0],'\\n')\n",
    "print('Number of missing id values:', checks.id.isna().sum(),'\\n')\n",
    "print('Number of missing values ​​rev:', checks.rev.isna().sum(),'\\n')\n",
    "print('Unique id in dataset:', checks.id.nunique(),'\\n')\n",
    "print('Unique id duplicates in dataset:', checks.id.duplicated().sum(),'\\n')"
   ]
  },
  {
   "attachments": {},
   "cell_type": "markdown",
   "id": "baf5d948",
   "metadata": {},
   "source": [
    "\n",
    "There are no null values ​​or duplicates. A total of 541 payments, each user made one purchase.\n",
    "Let's check whether all users who made the payment logged into the platform on the days of the experiment."
   ]
  },
  {
   "cell_type": "code",
   "execution_count": 88,
   "id": "76299960",
   "metadata": {},
   "outputs": [
    {
     "data": {
      "text/plain": [
       "True     392\n",
       "False    149\n",
       "Name: id, dtype: int64"
      ]
     },
     "execution_count": 88,
     "metadata": {},
     "output_type": "execute_result"
    }
   ],
   "source": [
    "checks.id.isin(active_studs.id).value_counts()"
   ]
  },
  {
   "attachments": {},
   "cell_type": "markdown",
   "id": "e7356cbe",
   "metadata": {},
   "source": [
    "149 users made a payment, but did not enter the platform. Perhaps this is connected to auto payments, there was an automatic write-off of money and the user did not visit the site. I will not take into account user data in the future."
   ]
  },
  {
   "cell_type": "code",
   "execution_count": 17,
   "id": "9cabfe80",
   "metadata": {},
   "outputs": [
    {
     "data": {
      "text/plain": [
       "True    541\n",
       "Name: id, dtype: int64"
      ]
     },
     "execution_count": 17,
     "metadata": {},
     "output_type": "execute_result"
    }
   ],
   "source": [
    "checks.id.isin(general.id).value_counts()"
   ]
  },
  {
   "attachments": {},
   "cell_type": "markdown",
   "id": "9163ff5e",
   "metadata": {},
   "source": [
    "Let's merge the tables, excluding users who paid, but did not enter the platform on the days of the experiment"
   ]
  },
  {
   "cell_type": "code",
   "execution_count": 18,
   "id": "826022a7",
   "metadata": {},
   "outputs": [
    {
     "data": {
      "text/html": [
       "<div>\n",
       "<style scoped>\n",
       "    .dataframe tbody tr th:only-of-type {\n",
       "        vertical-align: middle;\n",
       "    }\n",
       "\n",
       "    .dataframe tbody tr th {\n",
       "        vertical-align: top;\n",
       "    }\n",
       "\n",
       "    .dataframe thead th {\n",
       "        text-align: right;\n",
       "    }\n",
       "</style>\n",
       "<table border=\"1\" class=\"dataframe\">\n",
       "  <thead>\n",
       "    <tr style=\"text-align: right;\">\n",
       "      <th></th>\n",
       "      <th>id</th>\n",
       "      <th>grp</th>\n",
       "      <th>rev</th>\n",
       "    </tr>\n",
       "  </thead>\n",
       "  <tbody>\n",
       "    <tr>\n",
       "      <th>0</th>\n",
       "      <td>1489</td>\n",
       "      <td>B</td>\n",
       "      <td>0.0</td>\n",
       "    </tr>\n",
       "    <tr>\n",
       "      <th>1</th>\n",
       "      <td>1627</td>\n",
       "      <td>A</td>\n",
       "      <td>990.0</td>\n",
       "    </tr>\n",
       "  </tbody>\n",
       "</table>\n",
       "</div>"
      ],
      "text/plain": [
       "     id grp    rev\n",
       "0  1489   B    0.0\n",
       "1  1627   A  990.0"
      ]
     },
     "execution_count": 18,
     "metadata": {},
     "output_type": "execute_result"
    }
   ],
   "source": [
    "df = general.merge(checks, on='id', how='left').fillna(0)\n",
    "df.head(2)"
   ]
  },
  {
   "cell_type": "code",
   "execution_count": 19,
   "id": "ab81db43",
   "metadata": {},
   "outputs": [
    {
     "data": {
      "text/html": [
       "<div>\n",
       "<style scoped>\n",
       "    .dataframe tbody tr th:only-of-type {\n",
       "        vertical-align: middle;\n",
       "    }\n",
       "\n",
       "    .dataframe tbody tr th {\n",
       "        vertical-align: top;\n",
       "    }\n",
       "\n",
       "    .dataframe thead th {\n",
       "        text-align: right;\n",
       "    }\n",
       "</style>\n",
       "<table border=\"1\" class=\"dataframe\">\n",
       "  <thead>\n",
       "    <tr style=\"text-align: right;\">\n",
       "      <th></th>\n",
       "      <th>id</th>\n",
       "      <th>grp</th>\n",
       "      <th>rev</th>\n",
       "      <th>is_active</th>\n",
       "    </tr>\n",
       "  </thead>\n",
       "  <tbody>\n",
       "    <tr>\n",
       "      <th>0</th>\n",
       "      <td>1489</td>\n",
       "      <td>B</td>\n",
       "      <td>0.0</td>\n",
       "      <td>False</td>\n",
       "    </tr>\n",
       "    <tr>\n",
       "      <th>1</th>\n",
       "      <td>1627</td>\n",
       "      <td>A</td>\n",
       "      <td>990.0</td>\n",
       "      <td>True</td>\n",
       "    </tr>\n",
       "    <tr>\n",
       "      <th>2</th>\n",
       "      <td>1768</td>\n",
       "      <td>B</td>\n",
       "      <td>0.0</td>\n",
       "      <td>False</td>\n",
       "    </tr>\n",
       "  </tbody>\n",
       "</table>\n",
       "</div>"
      ],
      "text/plain": [
       "     id grp    rev  is_active\n",
       "0  1489   B    0.0      False\n",
       "1  1627   A  990.0       True\n",
       "2  1768   B    0.0      False"
      ]
     },
     "execution_count": 19,
     "metadata": {},
     "output_type": "execute_result"
    }
   ],
   "source": [
    "df['is_active'] = df.id.isin(active_studs.id)\n",
    "df.head(3)"
   ]
  },
  {
   "cell_type": "code",
   "execution_count": 20,
   "id": "d215a90a",
   "metadata": {},
   "outputs": [],
   "source": [
    "df_active = df[(df.is_active)]"
   ]
  },
  {
   "cell_type": "code",
   "execution_count": 21,
   "id": "76c4a642",
   "metadata": {},
   "outputs": [],
   "source": [
    "df_active['paid'] = (df_active.rev != 0) * 1"
   ]
  },
  {
   "cell_type": "code",
   "execution_count": 22,
   "id": "330beb29",
   "metadata": {},
   "outputs": [
    {
     "data": {
      "text/html": [
       "<div>\n",
       "<style scoped>\n",
       "    .dataframe tbody tr th:only-of-type {\n",
       "        vertical-align: middle;\n",
       "    }\n",
       "\n",
       "    .dataframe tbody tr th {\n",
       "        vertical-align: top;\n",
       "    }\n",
       "\n",
       "    .dataframe thead th {\n",
       "        text-align: right;\n",
       "    }\n",
       "</style>\n",
       "<table border=\"1\" class=\"dataframe\">\n",
       "  <thead>\n",
       "    <tr style=\"text-align: right;\">\n",
       "      <th></th>\n",
       "      <th>id</th>\n",
       "      <th>grp</th>\n",
       "      <th>rev</th>\n",
       "      <th>is_active</th>\n",
       "      <th>paid</th>\n",
       "    </tr>\n",
       "  </thead>\n",
       "  <tbody>\n",
       "    <tr>\n",
       "      <th>1</th>\n",
       "      <td>1627</td>\n",
       "      <td>A</td>\n",
       "      <td>990.0</td>\n",
       "      <td>True</td>\n",
       "      <td>1</td>\n",
       "    </tr>\n",
       "    <tr>\n",
       "      <th>10</th>\n",
       "      <td>2085</td>\n",
       "      <td>B</td>\n",
       "      <td>0.0</td>\n",
       "      <td>True</td>\n",
       "      <td>0</td>\n",
       "    </tr>\n",
       "    <tr>\n",
       "      <th>12</th>\n",
       "      <td>2215</td>\n",
       "      <td>B</td>\n",
       "      <td>0.0</td>\n",
       "      <td>True</td>\n",
       "      <td>0</td>\n",
       "    </tr>\n",
       "    <tr>\n",
       "      <th>43</th>\n",
       "      <td>3391</td>\n",
       "      <td>A</td>\n",
       "      <td>0.0</td>\n",
       "      <td>True</td>\n",
       "      <td>0</td>\n",
       "    </tr>\n",
       "    <tr>\n",
       "      <th>45</th>\n",
       "      <td>3401</td>\n",
       "      <td>B</td>\n",
       "      <td>0.0</td>\n",
       "      <td>True</td>\n",
       "      <td>0</td>\n",
       "    </tr>\n",
       "    <tr>\n",
       "      <th>...</th>\n",
       "      <td>...</td>\n",
       "      <td>...</td>\n",
       "      <td>...</td>\n",
       "      <td>...</td>\n",
       "      <td>...</td>\n",
       "    </tr>\n",
       "    <tr>\n",
       "      <th>74543</th>\n",
       "      <td>5760471</td>\n",
       "      <td>B</td>\n",
       "      <td>0.0</td>\n",
       "      <td>True</td>\n",
       "      <td>0</td>\n",
       "    </tr>\n",
       "    <tr>\n",
       "      <th>74545</th>\n",
       "      <td>5777081</td>\n",
       "      <td>B</td>\n",
       "      <td>0.0</td>\n",
       "      <td>True</td>\n",
       "      <td>0</td>\n",
       "    </tr>\n",
       "    <tr>\n",
       "      <th>74558</th>\n",
       "      <td>5870856</td>\n",
       "      <td>A</td>\n",
       "      <td>0.0</td>\n",
       "      <td>True</td>\n",
       "      <td>0</td>\n",
       "    </tr>\n",
       "    <tr>\n",
       "      <th>74561</th>\n",
       "      <td>5945085</td>\n",
       "      <td>B</td>\n",
       "      <td>0.0</td>\n",
       "      <td>True</td>\n",
       "      <td>0</td>\n",
       "    </tr>\n",
       "    <tr>\n",
       "      <th>74562</th>\n",
       "      <td>5951797</td>\n",
       "      <td>B</td>\n",
       "      <td>0.0</td>\n",
       "      <td>True</td>\n",
       "      <td>0</td>\n",
       "    </tr>\n",
       "  </tbody>\n",
       "</table>\n",
       "<p>8341 rows × 5 columns</p>\n",
       "</div>"
      ],
      "text/plain": [
       "            id grp    rev  is_active  paid\n",
       "1         1627   A  990.0       True     1\n",
       "10        2085   B    0.0       True     0\n",
       "12        2215   B    0.0       True     0\n",
       "43        3391   A    0.0       True     0\n",
       "45        3401   B    0.0       True     0\n",
       "...        ...  ..    ...        ...   ...\n",
       "74543  5760471   B    0.0       True     0\n",
       "74545  5777081   B    0.0       True     0\n",
       "74558  5870856   A    0.0       True     0\n",
       "74561  5945085   B    0.0       True     0\n",
       "74562  5951797   B    0.0       True     0\n",
       "\n",
       "[8341 rows x 5 columns]"
      ]
     },
     "execution_count": 22,
     "metadata": {},
     "output_type": "execute_result"
    }
   ],
   "source": [
    "df_active"
   ]
  },
  {
   "cell_type": "code",
   "execution_count": 23,
   "id": "3c1d6f76",
   "metadata": {},
   "outputs": [
    {
     "data": {
      "text/html": [
       "<div>\n",
       "<style scoped>\n",
       "    .dataframe tbody tr th:only-of-type {\n",
       "        vertical-align: middle;\n",
       "    }\n",
       "\n",
       "    .dataframe tbody tr th {\n",
       "        vertical-align: top;\n",
       "    }\n",
       "\n",
       "    .dataframe thead th {\n",
       "        text-align: right;\n",
       "    }\n",
       "</style>\n",
       "<table border=\"1\" class=\"dataframe\">\n",
       "  <thead>\n",
       "    <tr style=\"text-align: right;\">\n",
       "      <th></th>\n",
       "      <th>id</th>\n",
       "      <th>grp</th>\n",
       "      <th>rev</th>\n",
       "      <th>paid</th>\n",
       "    </tr>\n",
       "  </thead>\n",
       "  <tbody>\n",
       "    <tr>\n",
       "      <th>1</th>\n",
       "      <td>1627</td>\n",
       "      <td>A</td>\n",
       "      <td>990.0</td>\n",
       "      <td>1</td>\n",
       "    </tr>\n",
       "    <tr>\n",
       "      <th>10</th>\n",
       "      <td>2085</td>\n",
       "      <td>B</td>\n",
       "      <td>0.0</td>\n",
       "      <td>0</td>\n",
       "    </tr>\n",
       "    <tr>\n",
       "      <th>12</th>\n",
       "      <td>2215</td>\n",
       "      <td>B</td>\n",
       "      <td>0.0</td>\n",
       "      <td>0</td>\n",
       "    </tr>\n",
       "    <tr>\n",
       "      <th>43</th>\n",
       "      <td>3391</td>\n",
       "      <td>A</td>\n",
       "      <td>0.0</td>\n",
       "      <td>0</td>\n",
       "    </tr>\n",
       "    <tr>\n",
       "      <th>45</th>\n",
       "      <td>3401</td>\n",
       "      <td>B</td>\n",
       "      <td>0.0</td>\n",
       "      <td>0</td>\n",
       "    </tr>\n",
       "  </tbody>\n",
       "</table>\n",
       "</div>"
      ],
      "text/plain": [
       "      id grp    rev  paid\n",
       "1   1627   A  990.0     1\n",
       "10  2085   B    0.0     0\n",
       "12  2215   B    0.0     0\n",
       "43  3391   A    0.0     0\n",
       "45  3401   B    0.0     0"
      ]
     },
     "execution_count": 23,
     "metadata": {},
     "output_type": "execute_result"
    }
   ],
   "source": [
    "df_active.drop('is_active', inplace=True, axis=1)\n",
    "df_active.head()"
   ]
  },
  {
   "cell_type": "code",
   "execution_count": 24,
   "id": "04102479",
   "metadata": {},
   "outputs": [
    {
     "data": {
      "text/html": [
       "<div>\n",
       "<style scoped>\n",
       "    .dataframe tbody tr th:only-of-type {\n",
       "        vertical-align: middle;\n",
       "    }\n",
       "\n",
       "    .dataframe tbody tr th {\n",
       "        vertical-align: top;\n",
       "    }\n",
       "\n",
       "    .dataframe thead th {\n",
       "        text-align: right;\n",
       "    }\n",
       "</style>\n",
       "<table border=\"1\" class=\"dataframe\">\n",
       "  <thead>\n",
       "    <tr style=\"text-align: right;\">\n",
       "      <th></th>\n",
       "      <th>grp</th>\n",
       "      <th>avg_rev</th>\n",
       "      <th>avg_paid</th>\n",
       "      <th>count_id</th>\n",
       "    </tr>\n",
       "  </thead>\n",
       "  <tbody>\n",
       "    <tr>\n",
       "      <th>0</th>\n",
       "      <td>A</td>\n",
       "      <td>47.347204</td>\n",
       "      <td>0.050715</td>\n",
       "      <td>1538</td>\n",
       "    </tr>\n",
       "    <tr>\n",
       "      <th>1</th>\n",
       "      <td>B</td>\n",
       "      <td>58.058798</td>\n",
       "      <td>0.046156</td>\n",
       "      <td>6803</td>\n",
       "    </tr>\n",
       "  </tbody>\n",
       "</table>\n",
       "</div>"
      ],
      "text/plain": [
       "  grp    avg_rev  avg_paid  count_id\n",
       "0   A  47.347204  0.050715      1538\n",
       "1   B  58.058798  0.046156      6803"
      ]
     },
     "execution_count": 24,
     "metadata": {},
     "output_type": "execute_result"
    }
   ],
   "source": [
    "df_1 = df_active \\\n",
    "    .groupby('grp', as_index = False)\\\n",
    "    .agg({'rev':'mean', \n",
    "          'paid':'mean', \n",
    "          'id':'count'})\\\n",
    "    .rename(columns={'rev': 'avg_rev',\n",
    "                     'paid':'avg_paid',\n",
    "                     'id':'count_id'})\n",
    "df_1.head(2)"
   ]
  },
  {
   "attachments": {},
   "cell_type": "markdown",
   "id": "90b7118b",
   "metadata": {},
   "source": [
    "## Metrics\n",
    "\n",
    "**CR** - the ratio of the number of paid customers to the number of those who visited the application.\n",
    "will help to understand where it is easier and more comfortable for the client to make a payment\n",
    "\n",
    "**ARPU** - the ratio of the total amount of payments to the number of users who entered the application.\n",
    "\n",
    "**ARPPU** - the ratio of the total amount of payments to the number of active paying users.\n"
   ]
  },
  {
   "attachments": {},
   "cell_type": "markdown",
   "id": "78c8653e",
   "metadata": {},
   "source": [
    "### Conversion (CR)"
   ]
  },
  {
   "cell_type": "code",
   "execution_count": 25,
   "id": "227ef621",
   "metadata": {},
   "outputs": [
    {
     "data": {
      "text/html": [
       "<div>\n",
       "<style scoped>\n",
       "    .dataframe tbody tr th:only-of-type {\n",
       "        vertical-align: middle;\n",
       "    }\n",
       "\n",
       "    .dataframe tbody tr th {\n",
       "        vertical-align: top;\n",
       "    }\n",
       "\n",
       "    .dataframe thead th {\n",
       "        text-align: right;\n",
       "    }\n",
       "</style>\n",
       "<table border=\"1\" class=\"dataframe\">\n",
       "  <thead>\n",
       "    <tr style=\"text-align: right;\">\n",
       "      <th></th>\n",
       "      <th>grp</th>\n",
       "      <th>cr</th>\n",
       "    </tr>\n",
       "  </thead>\n",
       "  <tbody>\n",
       "    <tr>\n",
       "      <th>0</th>\n",
       "      <td>A</td>\n",
       "      <td>0.050715</td>\n",
       "    </tr>\n",
       "    <tr>\n",
       "      <th>1</th>\n",
       "      <td>B</td>\n",
       "      <td>0.046156</td>\n",
       "    </tr>\n",
       "  </tbody>\n",
       "</table>\n",
       "</div>"
      ],
      "text/plain": [
       "  grp        cr\n",
       "0   A  0.050715\n",
       "1   B  0.046156"
      ]
     },
     "execution_count": 25,
     "metadata": {},
     "output_type": "execute_result"
    }
   ],
   "source": [
    "# Calculate the conversion for two groups\n",
    "df_active\\\n",
    "    .groupby('grp', as_index=False) \\\n",
    "    .paid.mean() \\\n",
    "    .rename(columns={'paid': 'cr'})\n",
    "# We see deterioration in the test group, compared with the control."
   ]
  },
  {
   "cell_type": "code",
   "execution_count": 26,
   "id": "a583b466",
   "metadata": {},
   "outputs": [
    {
     "data": {
      "text/plain": [
       "<Axes: xlabel='paid', ylabel='Count'>"
      ]
     },
     "execution_count": 26,
     "metadata": {},
     "output_type": "execute_result"
    },
    {
     "data": {
      "image/png": "[encoded data removed]",
      "text/plain": [
       "<Figure size 640x480 with 1 Axes>"
      ]
     },
     "metadata": {},
     "output_type": "display_data"
    }
   ],
   "source": [
    "# We also visualize the distribution of conversions in groups\n",
    "sns.histplot(x='paid',\n",
    "             data=df_active[['grp','paid']],\n",
    "             hue='grp')\n"
   ]
  },
  {
   "cell_type": "code",
   "execution_count": 28,
   "id": "6c5b3276",
   "metadata": {},
   "outputs": [
    {
     "data": {
      "text/html": [
       "<div>\n",
       "<style scoped>\n",
       "    .dataframe tbody tr th:only-of-type {\n",
       "        vertical-align: middle;\n",
       "    }\n",
       "\n",
       "    .dataframe tbody tr th {\n",
       "        vertical-align: top;\n",
       "    }\n",
       "\n",
       "    .dataframe thead th {\n",
       "        text-align: right;\n",
       "    }\n",
       "</style>\n",
       "<table border=\"1\" class=\"dataframe\">\n",
       "  <thead>\n",
       "    <tr style=\"text-align: right;\">\n",
       "      <th></th>\n",
       "      <th>W</th>\n",
       "      <th>pval</th>\n",
       "      <th>normal</th>\n",
       "    </tr>\n",
       "    <tr>\n",
       "      <th>grp</th>\n",
       "      <th></th>\n",
       "      <th></th>\n",
       "      <th></th>\n",
       "    </tr>\n",
       "  </thead>\n",
       "  <tbody>\n",
       "    <tr>\n",
       "      <th>A</th>\n",
       "      <td>1275.124182</td>\n",
       "      <td>1.289146e-277</td>\n",
       "      <td>False</td>\n",
       "    </tr>\n",
       "    <tr>\n",
       "      <th>B</th>\n",
       "      <td>5805.498194</td>\n",
       "      <td>0.000000e+00</td>\n",
       "      <td>False</td>\n",
       "    </tr>\n",
       "  </tbody>\n",
       "</table>\n",
       "</div>"
      ],
      "text/plain": [
       "               W           pval  normal\n",
       "grp                                    \n",
       "A    1275.124182  1.289146e-277   False\n",
       "B    5805.498194   0.000000e+00   False"
      ]
     },
     "execution_count": 28,
     "metadata": {},
     "output_type": "execute_result"
    }
   ],
   "source": [
    "\n",
    "# Abnormal distribution in groups A and B\n",
    "pg.normality(data=df_active, dv='paid', group='grp', method='normaltest')"
   ]
  },
  {
   "attachments": {},
   "cell_type": "markdown",
   "id": "01bc38d4",
   "metadata": {},
   "source": [
    "### ARPU"
   ]
  },
  {
   "cell_type": "code",
   "execution_count": 29,
   "id": "23888e5d",
   "metadata": {},
   "outputs": [],
   "source": [
    "a_group = df_active.query('grp == \"A\"')\n",
    "b_group = df_active.query('grp == \"B\"')"
   ]
  },
  {
   "cell_type": "code",
   "execution_count": 30,
   "id": "9930813f",
   "metadata": {},
   "outputs": [
    {
     "data": {
      "text/html": [
       "<div>\n",
       "<style scoped>\n",
       "    .dataframe tbody tr th:only-of-type {\n",
       "        vertical-align: middle;\n",
       "    }\n",
       "\n",
       "    .dataframe tbody tr th {\n",
       "        vertical-align: top;\n",
       "    }\n",
       "\n",
       "    .dataframe thead th {\n",
       "        text-align: right;\n",
       "    }\n",
       "</style>\n",
       "<table border=\"1\" class=\"dataframe\">\n",
       "  <thead>\n",
       "    <tr style=\"text-align: right;\">\n",
       "      <th></th>\n",
       "      <th>Group A</th>\n",
       "      <th>Group B</th>\n",
       "    </tr>\n",
       "  </thead>\n",
       "  <tbody>\n",
       "    <tr>\n",
       "      <th>count</th>\n",
       "      <td>1538.000000</td>\n",
       "      <td>6803.000000</td>\n",
       "    </tr>\n",
       "    <tr>\n",
       "      <th>mean</th>\n",
       "      <td>47.347204</td>\n",
       "      <td>58.058798</td>\n",
       "    </tr>\n",
       "    <tr>\n",
       "      <th>std</th>\n",
       "      <td>290.490632</td>\n",
       "      <td>313.770201</td>\n",
       "    </tr>\n",
       "    <tr>\n",
       "      <th>min</th>\n",
       "      <td>0.000000</td>\n",
       "      <td>0.000000</td>\n",
       "    </tr>\n",
       "    <tr>\n",
       "      <th>25%</th>\n",
       "      <td>0.000000</td>\n",
       "      <td>0.000000</td>\n",
       "    </tr>\n",
       "    <tr>\n",
       "      <th>50%</th>\n",
       "      <td>0.000000</td>\n",
       "      <td>0.000000</td>\n",
       "    </tr>\n",
       "    <tr>\n",
       "      <th>75%</th>\n",
       "      <td>0.000000</td>\n",
       "      <td>0.000000</td>\n",
       "    </tr>\n",
       "    <tr>\n",
       "      <th>max</th>\n",
       "      <td>3660.000000</td>\n",
       "      <td>4650.000000</td>\n",
       "    </tr>\n",
       "  </tbody>\n",
       "</table>\n",
       "</div>"
      ],
      "text/plain": [
       "           Group A      Group B\n",
       "count  1538.000000  6803.000000\n",
       "mean     47.347204    58.058798\n",
       "std     290.490632   313.770201\n",
       "min       0.000000     0.000000\n",
       "25%       0.000000     0.000000\n",
       "50%       0.000000     0.000000\n",
       "75%       0.000000     0.000000\n",
       "max    3660.000000  4650.000000"
      ]
     },
     "execution_count": 30,
     "metadata": {},
     "output_type": "execute_result"
    }
   ],
   "source": [
    "a_descr = a_group.rev.describe().to_frame().rename(columns={'rev': 'Group A'})\n",
    "b_descr = b_group.rev.describe().to_frame().rename(columns={'rev': 'Group B'})\n",
    "pd.concat([a_descr, b_descr], axis=1)"
   ]
  },
  {
   "cell_type": "code",
   "execution_count": 31,
   "id": "9a0e02cb",
   "metadata": {},
   "outputs": [
    {
     "data": {
      "text/html": [
       "<div>\n",
       "<style scoped>\n",
       "    .dataframe tbody tr th:only-of-type {\n",
       "        vertical-align: middle;\n",
       "    }\n",
       "\n",
       "    .dataframe tbody tr th {\n",
       "        vertical-align: top;\n",
       "    }\n",
       "\n",
       "    .dataframe thead th {\n",
       "        text-align: right;\n",
       "    }\n",
       "</style>\n",
       "<table border=\"1\" class=\"dataframe\">\n",
       "  <thead>\n",
       "    <tr style=\"text-align: right;\">\n",
       "      <th></th>\n",
       "      <th>grp</th>\n",
       "      <th>ARPU</th>\n",
       "    </tr>\n",
       "  </thead>\n",
       "  <tbody>\n",
       "    <tr>\n",
       "      <th>0</th>\n",
       "      <td>A</td>\n",
       "      <td>47.347204</td>\n",
       "    </tr>\n",
       "    <tr>\n",
       "      <th>1</th>\n",
       "      <td>B</td>\n",
       "      <td>58.058798</td>\n",
       "    </tr>\n",
       "  </tbody>\n",
       "</table>\n",
       "</div>"
      ],
      "text/plain": [
       "  grp       ARPU\n",
       "0   A  47.347204\n",
       "1   B  58.058798"
      ]
     },
     "execution_count": 31,
     "metadata": {},
     "output_type": "execute_result"
    }
   ],
   "source": [
    "# Calculate ARPU for two groups. There is an improvement in the test group\n",
    "df_active.groupby('grp', as_index=False).rev.mean().rename(columns={'rev': 'ARPU'})"
   ]
  },
  {
   "cell_type": "code",
   "execution_count": 32,
   "id": "223d2e18",
   "metadata": {},
   "outputs": [
    {
     "data": {
      "text/html": [
       "<div>\n",
       "<style scoped>\n",
       "    .dataframe tbody tr th:only-of-type {\n",
       "        vertical-align: middle;\n",
       "    }\n",
       "\n",
       "    .dataframe tbody tr th {\n",
       "        vertical-align: top;\n",
       "    }\n",
       "\n",
       "    .dataframe thead th {\n",
       "        text-align: right;\n",
       "    }\n",
       "</style>\n",
       "<table border=\"1\" class=\"dataframe\">\n",
       "  <thead>\n",
       "    <tr style=\"text-align: right;\">\n",
       "      <th></th>\n",
       "      <th>W</th>\n",
       "      <th>pval</th>\n",
       "      <th>normal</th>\n",
       "    </tr>\n",
       "    <tr>\n",
       "      <th>grp</th>\n",
       "      <th></th>\n",
       "      <th></th>\n",
       "      <th></th>\n",
       "    </tr>\n",
       "  </thead>\n",
       "  <tbody>\n",
       "    <tr>\n",
       "      <th>A</th>\n",
       "      <td>2240.595797</td>\n",
       "      <td>0.0</td>\n",
       "      <td>False</td>\n",
       "    </tr>\n",
       "    <tr>\n",
       "      <th>B</th>\n",
       "      <td>7797.399212</td>\n",
       "      <td>0.0</td>\n",
       "      <td>False</td>\n",
       "    </tr>\n",
       "  </tbody>\n",
       "</table>\n",
       "</div>"
      ],
      "text/plain": [
       "               W  pval  normal\n",
       "grp                           \n",
       "A    2240.595797   0.0   False\n",
       "B    7797.399212   0.0   False"
      ]
     },
     "execution_count": 32,
     "metadata": {},
     "output_type": "execute_result"
    }
   ],
   "source": [
    "# Abnormal distribution in groups A and B\n",
    "pg.normality(data=df_active, dv='rev', group='grp', method='normaltest')"
   ]
  },
  {
   "attachments": {},
   "cell_type": "markdown",
   "id": "8a73c460",
   "metadata": {},
   "source": [
    "### ARPPU"
   ]
  },
  {
   "cell_type": "code",
   "execution_count": 33,
   "id": "abdbec9a",
   "metadata": {},
   "outputs": [
    {
     "data": {
      "text/html": [
       "<div>\n",
       "<style scoped>\n",
       "    .dataframe tbody tr th:only-of-type {\n",
       "        vertical-align: middle;\n",
       "    }\n",
       "\n",
       "    .dataframe tbody tr th {\n",
       "        vertical-align: top;\n",
       "    }\n",
       "\n",
       "    .dataframe thead th {\n",
       "        text-align: right;\n",
       "    }\n",
       "</style>\n",
       "<table border=\"1\" class=\"dataframe\">\n",
       "  <thead>\n",
       "    <tr style=\"text-align: right;\">\n",
       "      <th></th>\n",
       "      <th>id</th>\n",
       "      <th>grp</th>\n",
       "      <th>rev</th>\n",
       "      <th>paid</th>\n",
       "    </tr>\n",
       "  </thead>\n",
       "  <tbody>\n",
       "    <tr>\n",
       "      <th>1</th>\n",
       "      <td>1627</td>\n",
       "      <td>A</td>\n",
       "      <td>990.0000</td>\n",
       "      <td>1</td>\n",
       "    </tr>\n",
       "    <tr>\n",
       "      <th>220</th>\n",
       "      <td>100300</td>\n",
       "      <td>B</td>\n",
       "      <td>990.0000</td>\n",
       "      <td>1</td>\n",
       "    </tr>\n",
       "    <tr>\n",
       "      <th>320</th>\n",
       "      <td>108270</td>\n",
       "      <td>B</td>\n",
       "      <td>290.0000</td>\n",
       "      <td>1</td>\n",
       "    </tr>\n",
       "    <tr>\n",
       "      <th>3779</th>\n",
       "      <td>264473</td>\n",
       "      <td>B</td>\n",
       "      <td>1900.0001</td>\n",
       "      <td>1</td>\n",
       "    </tr>\n",
       "    <tr>\n",
       "      <th>4187</th>\n",
       "      <td>274352</td>\n",
       "      <td>B</td>\n",
       "      <td>690.0000</td>\n",
       "      <td>1</td>\n",
       "    </tr>\n",
       "  </tbody>\n",
       "</table>\n",
       "</div>"
      ],
      "text/plain": [
       "          id grp        rev  paid\n",
       "1       1627   A   990.0000     1\n",
       "220   100300   B   990.0000     1\n",
       "320   108270   B   290.0000     1\n",
       "3779  264473   B  1900.0001     1\n",
       "4187  274352   B   690.0000     1"
      ]
     },
     "execution_count": 33,
     "metadata": {},
     "output_type": "execute_result"
    }
   ],
   "source": [
    "active_paid = df_active.query('rev > 0')\n",
    "active_paid.head()"
   ]
  },
  {
   "cell_type": "code",
   "execution_count": 34,
   "id": "55f47b8d",
   "metadata": {},
   "outputs": [],
   "source": [
    "a_group_paid = active_paid.query('grp == \"A\"')\n",
    "b_group_paid = active_paid.query('grp == \"B\"')"
   ]
  },
  {
   "cell_type": "code",
   "execution_count": 35,
   "id": "ed106551",
   "metadata": {},
   "outputs": [
    {
     "data": {
      "text/html": [
       "<div>\n",
       "<style scoped>\n",
       "    .dataframe tbody tr th:only-of-type {\n",
       "        vertical-align: middle;\n",
       "    }\n",
       "\n",
       "    .dataframe tbody tr th {\n",
       "        vertical-align: top;\n",
       "    }\n",
       "\n",
       "    .dataframe thead th {\n",
       "        text-align: right;\n",
       "    }\n",
       "</style>\n",
       "<table border=\"1\" class=\"dataframe\">\n",
       "  <thead>\n",
       "    <tr style=\"text-align: right;\">\n",
       "      <th></th>\n",
       "      <th>Group A</th>\n",
       "      <th>Group B</th>\n",
       "    </tr>\n",
       "  </thead>\n",
       "  <tbody>\n",
       "    <tr>\n",
       "      <th>count</th>\n",
       "      <td>78.000000</td>\n",
       "      <td>314.000000</td>\n",
       "    </tr>\n",
       "    <tr>\n",
       "      <th>mean</th>\n",
       "      <td>933.589744</td>\n",
       "      <td>1257.878992</td>\n",
       "    </tr>\n",
       "    <tr>\n",
       "      <th>std</th>\n",
       "      <td>919.932711</td>\n",
       "      <td>790.864254</td>\n",
       "    </tr>\n",
       "    <tr>\n",
       "      <th>min</th>\n",
       "      <td>199.000000</td>\n",
       "      <td>199.000000</td>\n",
       "    </tr>\n",
       "    <tr>\n",
       "      <th>25%</th>\n",
       "      <td>290.000000</td>\n",
       "      <td>511.750000</td>\n",
       "    </tr>\n",
       "    <tr>\n",
       "      <th>50%</th>\n",
       "      <td>585.000000</td>\n",
       "      <td>1140.000000</td>\n",
       "    </tr>\n",
       "    <tr>\n",
       "      <th>75%</th>\n",
       "      <td>1114.750000</td>\n",
       "      <td>1900.000000</td>\n",
       "    </tr>\n",
       "    <tr>\n",
       "      <th>max</th>\n",
       "      <td>3660.000000</td>\n",
       "      <td>4650.000000</td>\n",
       "    </tr>\n",
       "  </tbody>\n",
       "</table>\n",
       "</div>"
      ],
      "text/plain": [
       "           Group A      Group B\n",
       "count    78.000000   314.000000\n",
       "mean    933.589744  1257.878992\n",
       "std     919.932711   790.864254\n",
       "min     199.000000   199.000000\n",
       "25%     290.000000   511.750000\n",
       "50%     585.000000  1140.000000\n",
       "75%    1114.750000  1900.000000\n",
       "max    3660.000000  4650.000000"
      ]
     },
     "execution_count": 35,
     "metadata": {},
     "output_type": "execute_result"
    }
   ],
   "source": [
    "a_paid_desc = a_group_paid.rev.describe().to_frame().rename(columns={'rev': 'Group A'})\n",
    "b_paid_desc = b_group_paid.rev.describe().to_frame().rename(columns={'rev': 'Group B'})\n",
    "pd.concat([a_paid_desc, b_paid_desc], axis=1)"
   ]
  },
  {
   "cell_type": "code",
   "execution_count": 36,
   "id": "113da96d",
   "metadata": {},
   "outputs": [
    {
     "data": {
      "image/png": "[encoded data removed]",
      "text/plain": [
       "<Figure size 640x480 with 1 Axes>"
      ]
     },
     "metadata": {},
     "output_type": "display_data"
    }
   ],
   "source": [
    "sns.boxplot(data=active_paid, y='rev', x='grp')\n",
    "sns.despine()"
   ]
  },
  {
   "cell_type": "code",
   "execution_count": 37,
   "id": "cbe75f60",
   "metadata": {},
   "outputs": [
    {
     "data": {
      "text/plain": [
       "Text(0.5, 0, 'Revenue')"
      ]
     },
     "execution_count": 37,
     "metadata": {},
     "output_type": "execute_result"
    },
    {
     "data": {
      "image/png": "[encoded data removed]",
      "text/plain": [
       "<Figure size 640x480 with 1 Axes>"
      ]
     },
     "metadata": {},
     "output_type": "display_data"
    }
   ],
   "source": [
    "ax = sns.histplot(data = active_paid, x = 'rev', hue = 'grp')\n",
    "ax.set_title('Distribution of checks\\n')\n",
    "ax.set_xlabel('Revenue')"
   ]
  },
  {
   "cell_type": "code",
   "execution_count": 38,
   "id": "7e66a1a7",
   "metadata": {},
   "outputs": [
    {
     "data": {
      "text/html": [
       "<div>\n",
       "<style scoped>\n",
       "    .dataframe tbody tr th:only-of-type {\n",
       "        vertical-align: middle;\n",
       "    }\n",
       "\n",
       "    .dataframe tbody tr th {\n",
       "        vertical-align: top;\n",
       "    }\n",
       "\n",
       "    .dataframe thead th {\n",
       "        text-align: right;\n",
       "    }\n",
       "</style>\n",
       "<table border=\"1\" class=\"dataframe\">\n",
       "  <thead>\n",
       "    <tr style=\"text-align: right;\">\n",
       "      <th></th>\n",
       "      <th>W</th>\n",
       "      <th>pval</th>\n",
       "      <th>normal</th>\n",
       "    </tr>\n",
       "    <tr>\n",
       "      <th>grp</th>\n",
       "      <th></th>\n",
       "      <th></th>\n",
       "      <th></th>\n",
       "    </tr>\n",
       "  </thead>\n",
       "  <tbody>\n",
       "    <tr>\n",
       "      <th>A</th>\n",
       "      <td>30.378420</td>\n",
       "      <td>2.531687e-07</td>\n",
       "      <td>False</td>\n",
       "    </tr>\n",
       "    <tr>\n",
       "      <th>B</th>\n",
       "      <td>6.795663</td>\n",
       "      <td>3.344572e-02</td>\n",
       "      <td>False</td>\n",
       "    </tr>\n",
       "  </tbody>\n",
       "</table>\n",
       "</div>"
      ],
      "text/plain": [
       "             W          pval  normal\n",
       "grp                                 \n",
       "A    30.378420  2.531687e-07   False\n",
       "B     6.795663  3.344572e-02   False"
      ]
     },
     "execution_count": 38,
     "metadata": {},
     "output_type": "execute_result"
    }
   ],
   "source": [
    "# Abnormal distribution in groups A and B\n",
    "pg.normality(data=active_paid, dv='rev', group='grp', method='normaltest')"
   ]
  },
  {
   "attachments": {},
   "cell_type": "markdown",
   "id": "f9cf3bf0",
   "metadata": {},
   "source": [
    "\n",
    "### Overview of metrics\n",
    "\n",
    "Let's answer the question: Are there differences in the indicators and what can they be connected with?"
   ]
  },
  {
   "cell_type": "code",
   "execution_count": 39,
   "id": "bc08444c",
   "metadata": {},
   "outputs": [
    {
     "data": {
      "text/html": [
       "<div>\n",
       "<style scoped>\n",
       "    .dataframe tbody tr th:only-of-type {\n",
       "        vertical-align: middle;\n",
       "    }\n",
       "\n",
       "    .dataframe tbody tr th {\n",
       "        vertical-align: top;\n",
       "    }\n",
       "\n",
       "    .dataframe thead th {\n",
       "        text-align: right;\n",
       "    }\n",
       "</style>\n",
       "<table border=\"1\" class=\"dataframe\">\n",
       "  <thead>\n",
       "    <tr style=\"text-align: right;\">\n",
       "      <th></th>\n",
       "      <th>grp</th>\n",
       "      <th>users</th>\n",
       "      <th>pay_users</th>\n",
       "      <th>rev</th>\n",
       "      <th>not_pay_users</th>\n",
       "      <th>arpu</th>\n",
       "      <th>arppu</th>\n",
       "      <th>cr</th>\n",
       "    </tr>\n",
       "  </thead>\n",
       "  <tbody>\n",
       "    <tr>\n",
       "      <th>0</th>\n",
       "      <td>A</td>\n",
       "      <td>1538</td>\n",
       "      <td>78</td>\n",
       "      <td>72820.0000</td>\n",
       "      <td>1460</td>\n",
       "      <td>47.35</td>\n",
       "      <td>933.59</td>\n",
       "      <td>5.07</td>\n",
       "    </tr>\n",
       "    <tr>\n",
       "      <th>1</th>\n",
       "      <td>B</td>\n",
       "      <td>6803</td>\n",
       "      <td>314</td>\n",
       "      <td>394974.0035</td>\n",
       "      <td>6489</td>\n",
       "      <td>58.06</td>\n",
       "      <td>1257.88</td>\n",
       "      <td>4.62</td>\n",
       "    </tr>\n",
       "  </tbody>\n",
       "</table>\n",
       "</div>"
      ],
      "text/plain": [
       "  grp  users  pay_users          rev  not_pay_users   arpu    arppu    cr\n",
       "0   A   1538         78   72820.0000           1460  47.35   933.59  5.07\n",
       "1   B   6803        314  394974.0035           6489  58.06  1257.88  4.62"
      ]
     },
     "execution_count": 39,
     "metadata": {},
     "output_type": "execute_result"
    }
   ],
   "source": [
    "metrics = df_active.groupby('grp', as_index = False)\\\n",
    "                    .agg({'id': 'count', 'paid': 'sum','rev': 'sum'})\\\n",
    "                    .rename(columns = {'id': 'users', 'paid': 'pay_users'})\\\n",
    "                    .assign(not_pay_users = lambda x: x.users - x.pay_users, \\\n",
    "                            arpu = lambda x:round((x.rev / x.users),2), \\\n",
    "                            arppu = lambda x: round((x.rev / x.pay_users),2),\\\n",
    "                            cr = lambda x: round((x.pay_users / x.users) * 100,2))\n",
    "metrics\n",
    "# in the third task, for convenience, we will use this fragment of code"
   ]
  },
  {
   "cell_type": "code",
   "execution_count": 40,
   "id": "ce1299a8",
   "metadata": {},
   "outputs": [
    {
     "data": {
      "text/html": [
       "<div>\n",
       "<style scoped>\n",
       "    .dataframe tbody tr th:only-of-type {\n",
       "        vertical-align: middle;\n",
       "    }\n",
       "\n",
       "    .dataframe tbody tr th {\n",
       "        vertical-align: top;\n",
       "    }\n",
       "\n",
       "    .dataframe thead th {\n",
       "        text-align: right;\n",
       "    }\n",
       "</style>\n",
       "<table border=\"1\" class=\"dataframe\">\n",
       "  <thead>\n",
       "    <tr style=\"text-align: right;\">\n",
       "      <th></th>\n",
       "      <th>arpu</th>\n",
       "      <th>arppu</th>\n",
       "      <th>cr</th>\n",
       "    </tr>\n",
       "  </thead>\n",
       "  <tbody>\n",
       "    <tr>\n",
       "      <th>0</th>\n",
       "      <td>47.35</td>\n",
       "      <td>933.59</td>\n",
       "      <td>5.07</td>\n",
       "    </tr>\n",
       "    <tr>\n",
       "      <th>1</th>\n",
       "      <td>58.06</td>\n",
       "      <td>1257.88</td>\n",
       "      <td>4.62</td>\n",
       "    </tr>\n",
       "  </tbody>\n",
       "</table>\n",
       "</div>"
      ],
      "text/plain": [
       "    arpu    arppu    cr\n",
       "0  47.35   933.59  5.07\n",
       "1  58.06  1257.88  4.62"
      ]
     },
     "execution_count": 40,
     "metadata": {},
     "output_type": "execute_result"
    }
   ],
   "source": [
    "\n",
    "df = metrics[['arpu', 'arppu', 'cr']] # for further calculations, I will take only necessary columns\n",
    "df\n",
    "# 0 is A, 1 is B"
   ]
  },
  {
   "cell_type": "code",
   "execution_count": 41,
   "id": "3c823a55",
   "metadata": {},
   "outputs": [
    {
     "data": {
      "text/html": [
       "<div>\n",
       "<style scoped>\n",
       "    .dataframe tbody tr th:only-of-type {\n",
       "        vertical-align: middle;\n",
       "    }\n",
       "\n",
       "    .dataframe tbody tr th {\n",
       "        vertical-align: top;\n",
       "    }\n",
       "\n",
       "    .dataframe thead th {\n",
       "        text-align: right;\n",
       "    }\n",
       "</style>\n",
       "<table border=\"1\" class=\"dataframe\">\n",
       "  <thead>\n",
       "    <tr style=\"text-align: right;\">\n",
       "      <th></th>\n",
       "      <th>arpu</th>\n",
       "      <th>arppu</th>\n",
       "      <th>cr</th>\n",
       "    </tr>\n",
       "  </thead>\n",
       "  <tbody>\n",
       "    <tr>\n",
       "      <th>0</th>\n",
       "      <td>22.62</td>\n",
       "      <td>34.74</td>\n",
       "      <td>-8.88</td>\n",
       "    </tr>\n",
       "  </tbody>\n",
       "</table>\n",
       "</div>"
      ],
      "text/plain": [
       "    arpu  arppu    cr\n",
       "0  22.62  34.74 -8.88"
      ]
     },
     "execution_count": 41,
     "metadata": {},
     "output_type": "execute_result"
    }
   ],
   "source": [
    "\n",
    "# answer the question is there a difference between group A and B\n",
    "# difference of each metric, convert to percentage\n",
    "# overwrite in a new table to make it look nice\n",
    "diff_metrics = pd.DataFrame(round((-df.iloc[0] + df.iloc[1])/df.iloc[0]*100, 2)).T\n",
    "diff_metrics"
   ]
  },
  {
   "attachments": {},
   "cell_type": "markdown",
   "id": "419bfccb",
   "metadata": {},
   "source": [
    "1. conversion rate change(CR) -8.88%\n",
    "2. change in revenue per user (ARPU) 22.62%\n",
    "3. change in revenue per buyer (ARPU) 34.74%\n",
    "\n",
    "Conversion drops, but revenue per user/buyer grows"
   ]
  },
  {
   "attachments": {},
   "cell_type": "markdown",
   "id": "26679cca",
   "metadata": {},
   "source": [
    "### Tests"
   ]
  },
  {
   "attachments": {},
   "cell_type": "markdown",
   "id": "897a3aed",
   "metadata": {},
   "source": [
    "#### Note\n",
    "\n",
    "Group sizes vary greatly. Plus the distributions in groups A and B are not normal (normality tests were done). I will use bootstrap.\n",
    "\n",
    "1. bootstrap distribution for groups A and B.\n",
    "2. Determination of their difference.\n",
    "3. In the resulting distribution of the difference, we determine the confidence interval.\n",
    "4. Whether the confidence interval falls into 0.\n"
   ]
  },
  {
   "cell_type": "code",
   "execution_count": 42,
   "id": "bc2ad879",
   "metadata": {},
   "outputs": [],
   "source": [
    "# bootstrap\n",
    "def get_bootstrap(\n",
    "    data_col_1, # numeric values ​​of the first sample\n",
    "    data_col_2, # numeric values ​​of the second sample\n",
    "    boot_iter = 2000, # number of bootstrap fetches\n",
    "    statistic = np.mean, # statistics of interest\n",
    "    bootstrap_conf_level = 0.95 # significance level\n",
    "):\n",
    "    boot_len = max(len(data_col_1), len(data_col_2))\n",
    "    boot_data = []\n",
    "    for i in range(boot_iter): # extract subsamples\n",
    "        samples_1 = data_col_1.sample(\n",
    "            boot_len,\n",
    "            replace=True # return parameter\n",
    "        ).values\n",
    "        \n",
    "        samples_2 = data_col_2.sample(\n",
    "            boot_len,\n",
    "            replace=True\n",
    "        ).values\n",
    "        \n",
    "        boot_data.append(statistic(samples_1 - samples_2))\n",
    "        \n",
    "    pd_boot_data = pd.DataFrame(boot_data)\n",
    "    \n",
    "    left_quant = (1 - bootstrap_conf_level) / 2\n",
    "    right_quant = 1 - (1 - bootstrap_conf_level) / 2\n",
    "    ci = pd_boot_data.quantile([left_quant, right_quant])\n",
    "    \n",
    "    p_1 = norm.cdf(\n",
    "        x = 0,\n",
    "        loc = np.mean(boot_data),\n",
    "        scale = np.std(boot_data))\n",
    "    p_2 = norm.cdf(\n",
    "        x = 0,\n",
    "        loc = -np.mean(boot_data),\n",
    "        scale = np.std(boot_data))\n",
    "    \n",
    "    p_value = min(p_1, p_2) * 2\n",
    "    \n",
    "    # Визуализация\n",
    "    plt.hist(pd_boot_data[0], bins=50)\n",
    "    \n",
    "    plt.style.use('ggplot')\n",
    "    plt.vlines(ci, ymin=0, ymax=50, linestyle='--')\n",
    "    plt.xlabel('boot_data')\n",
    "    plt.ylabel('frequency')\n",
    "    plt.title('Histogram of boot_data')\n",
    "    plt.show()\n",
    "    \n",
    "    return {'boot_data': boot_data,\n",
    "            'ci': ci,\n",
    "            'p_value': p_value}"
   ]
  },
  {
   "attachments": {},
   "cell_type": "markdown",
   "id": "fa8d3a54",
   "metadata": {},
   "source": [
    "### ARPU\n",
    "(use bootstrap)"
   ]
  },
  {
   "attachments": {},
   "cell_type": "markdown",
   "id": "2420c209",
   "metadata": {},
   "source": [
    "\n",
    "**Let's formulate the null and alternative hypotheses:**\n",
    "\n",
    " - **H0:** ARPUs in the two groups are the same.\n",
    " - **H1:** ARPU in the two groups are different."
   ]
  },
  {
   "cell_type": "code",
   "execution_count": 43,
   "id": "217349f2",
   "metadata": {},
   "outputs": [
    {
     "data": {
      "image/png": "[encoded data removed]",
      "text/plain": [
       "<Figure size 640x480 with 1 Axes>"
      ]
     },
     "metadata": {},
     "output_type": "display_data"
    }
   ],
   "source": [
    "bootstrap_test_1 = get_bootstrap(a_group.rev, b_group.rev, boot_iter=2000)"
   ]
  },
  {
   "cell_type": "code",
   "execution_count": 44,
   "id": "c472ebce",
   "metadata": {},
   "outputs": [
    {
     "data": {
      "text/html": [
       "<div>\n",
       "<style scoped>\n",
       "    .dataframe tbody tr th:only-of-type {\n",
       "        vertical-align: middle;\n",
       "    }\n",
       "\n",
       "    .dataframe tbody tr th {\n",
       "        vertical-align: top;\n",
       "    }\n",
       "\n",
       "    .dataframe thead th {\n",
       "        text-align: right;\n",
       "    }\n",
       "</style>\n",
       "<table border=\"1\" class=\"dataframe\">\n",
       "  <thead>\n",
       "    <tr style=\"text-align: right;\">\n",
       "      <th></th>\n",
       "      <th>0</th>\n",
       "    </tr>\n",
       "  </thead>\n",
       "  <tbody>\n",
       "    <tr>\n",
       "      <th>0.025</th>\n",
       "      <td>-21.055098</td>\n",
       "    </tr>\n",
       "    <tr>\n",
       "      <th>0.975</th>\n",
       "      <td>-0.348512</td>\n",
       "    </tr>\n",
       "  </tbody>\n",
       "</table>\n",
       "</div>"
      ],
      "text/plain": [
       "               0\n",
       "0.025 -21.055098\n",
       "0.975  -0.348512"
      ]
     },
     "execution_count": 44,
     "metadata": {},
     "output_type": "execute_result"
    }
   ],
   "source": [
    "bootstrap_test_1['ci']"
   ]
  },
  {
   "attachments": {},
   "cell_type": "markdown",
   "id": "05fd40b8",
   "metadata": {},
   "source": [
    "Zero is not included in the confidence interval - the differences are statistically significant"
   ]
  },
  {
   "cell_type": "code",
   "execution_count": 45,
   "id": "b2c57287",
   "metadata": {},
   "outputs": [
    {
     "data": {
      "text/plain": [
       "0.038164807441046215"
      ]
     },
     "execution_count": 45,
     "metadata": {},
     "output_type": "execute_result"
    }
   ],
   "source": [
    "bootstrap_test_1['p_value']"
   ]
  },
  {
   "attachments": {},
   "cell_type": "markdown",
   "id": "61cd9c27",
   "metadata": {},
   "source": [
    "p-value < 0.05\n",
    "\n",
    "- We reject the null hypothesis.\n",
    "\n",
    "##### ARPU bootstrap output:\n",
    "The mean values ​​in the test and control groups differ at the given level of significance, since the zero value of the difference between the two means does not fall within the 95 percent confidence interval.\n",
    "\n",
    "p-value < 0.05: we have reason to reject the null hypothesis in favor of the alternative one.\n",
    "\n",
    "ARPU in the two groups differ"
   ]
  },
  {
   "attachments": {},
   "cell_type": "markdown",
   "id": "8fdf3973",
   "metadata": {},
   "source": [
    "### ARPPU\n",
    "\n",
    "**Let's formulate the null and alternative hypotheses:**\n",
    "\n",
    " - **H0:** ARPPUs in the two groups are the same.\n",
    " - **H1:** ARPPU in the two groups are different."
   ]
  },
  {
   "cell_type": "code",
   "execution_count": 46,
   "id": "3e84b489",
   "metadata": {},
   "outputs": [
    {
     "data": {
      "image/png": "[encoded data removed]",
      "text/plain": [
       "<Figure size 640x480 with 1 Axes>"
      ]
     },
     "metadata": {},
     "output_type": "display_data"
    }
   ],
   "source": [
    "bootstrap_test_2 = get_bootstrap(a_group_paid.rev, b_group_paid.rev, boot_iter=2000)"
   ]
  },
  {
   "cell_type": "code",
   "execution_count": 47,
   "id": "bf87c9af",
   "metadata": {},
   "outputs": [
    {
     "data": {
      "text/html": [
       "<div>\n",
       "<style scoped>\n",
       "    .dataframe tbody tr th:only-of-type {\n",
       "        vertical-align: middle;\n",
       "    }\n",
       "\n",
       "    .dataframe tbody tr th {\n",
       "        vertical-align: top;\n",
       "    }\n",
       "\n",
       "    .dataframe thead th {\n",
       "        text-align: right;\n",
       "    }\n",
       "</style>\n",
       "<table border=\"1\" class=\"dataframe\">\n",
       "  <thead>\n",
       "    <tr style=\"text-align: right;\">\n",
       "      <th></th>\n",
       "      <th>0</th>\n",
       "    </tr>\n",
       "  </thead>\n",
       "  <tbody>\n",
       "    <tr>\n",
       "      <th>0.025</th>\n",
       "      <td>-457.062986</td>\n",
       "    </tr>\n",
       "    <tr>\n",
       "      <th>0.975</th>\n",
       "      <td>-193.610759</td>\n",
       "    </tr>\n",
       "  </tbody>\n",
       "</table>\n",
       "</div>"
      ],
      "text/plain": [
       "                0\n",
       "0.025 -457.062986\n",
       "0.975 -193.610759"
      ]
     },
     "execution_count": 47,
     "metadata": {},
     "output_type": "execute_result"
    }
   ],
   "source": [
    "bootstrap_test_2['ci']"
   ]
  },
  {
   "attachments": {},
   "cell_type": "markdown",
   "id": "f3eb19a1",
   "metadata": {},
   "source": [
    "Zero is not included in the confidence interval - the differences are statistically significant"
   ]
  },
  {
   "cell_type": "code",
   "execution_count": 48,
   "id": "21d8f00b",
   "metadata": {},
   "outputs": [
    {
     "data": {
      "text/plain": [
       "1.8633225695433374e-06"
      ]
     },
     "execution_count": 48,
     "metadata": {},
     "output_type": "execute_result"
    }
   ],
   "source": [
    "bootstrap_test_2['p_value']"
   ]
  },
  {
   "attachments": {},
   "cell_type": "markdown",
   "id": "8567b325",
   "metadata": {},
   "source": [
    "p-value < 0.05\n",
    "- We reject the null hypothesis.\n",
    "\n",
    "##### Output (ARPPU):\n",
    "ARPPUs in the test and control groups differ at a given level of significance because the zero difference between the two means does not fall within the 95% confidence interval.\n",
    "\n",
    "p-value < 0.05 : allows us to state that the means in the two groups differ statistically significantly"
   ]
  },
  {
   "attachments": {},
   "cell_type": "markdown",
   "id": "04709f00",
   "metadata": {},
   "source": [
    "### CR"
   ]
  },
  {
   "attachments": {},
   "cell_type": "markdown",
   "id": "79f239e4",
   "metadata": {},
   "source": [
    "Calculating conversion from site entry to purchase seems like a pretty reasonable metric to compare.\n",
    "\n",
    "Of the previously obtained results in group B, the conversion was lower. Let's check the values ​​for statistical significance.\n",
    "We use the chi-square test, since our variables are categorical.\n",
    "\n",
    " - **H0**: no relationship between variables\n",
    "- **H1**: there is a relationship"
   ]
  },
  {
   "cell_type": "code",
   "execution_count": 49,
   "id": "d598cb8c",
   "metadata": {},
   "outputs": [
    {
     "data": {
      "text/plain": [
       "grp  paid\n",
       "A    0       1460\n",
       "     1         78\n",
       "B    0       6489\n",
       "     1        314\n",
       "Name: paid, dtype: int64"
      ]
     },
     "execution_count": 49,
     "metadata": {},
     "output_type": "execute_result"
    }
   ],
   "source": [
    "# Let's look at the distribution of users who bought / did not buy in two groups A / B\n",
    "df_active.groupby('grp').paid.value_counts()"
   ]
  },
  {
   "cell_type": "code",
   "execution_count": 50,
   "id": "45d606ec",
   "metadata": {},
   "outputs": [],
   "source": [
    "grp_a = df_active[df_active['grp'] == 'A']\n",
    "grp_b = df_active[df_active['grp'] == 'B']"
   ]
  },
  {
   "cell_type": "code",
   "execution_count": 51,
   "id": "100ba136",
   "metadata": {},
   "outputs": [],
   "source": [
    "a_pay = grp_a.paid.sum()\n",
    "a_no_pay = grp_a.paid.size - grp_a.paid.sum()\n",
    "b_pay = grp_b.paid.sum()\n",
    "b_no_pay = grp_b.paid.size - grp_b.paid.sum()"
   ]
  },
  {
   "cell_type": "code",
   "execution_count": 52,
   "id": "6f3a64f8",
   "metadata": {},
   "outputs": [],
   "source": [
    "cr_matrix = np.array([[a_pay, a_no_pay],\n",
    "                        [b_pay, b_no_pay]])"
   ]
  },
  {
   "cell_type": "code",
   "execution_count": 53,
   "id": "66d3accb",
   "metadata": {},
   "outputs": [
    {
     "data": {
      "text/plain": [
       "array([[  78, 1460],\n",
       "       [ 314, 6489]], dtype=int64)"
      ]
     },
     "execution_count": 53,
     "metadata": {},
     "output_type": "execute_result"
    }
   ],
   "source": [
    "cr_matrix"
   ]
  },
  {
   "cell_type": "code",
   "execution_count": 54,
   "id": "8f28f7df",
   "metadata": {},
   "outputs": [
    {
     "data": {
      "text/html": [
       "<div>\n",
       "<style scoped>\n",
       "    .dataframe tbody tr th:only-of-type {\n",
       "        vertical-align: middle;\n",
       "    }\n",
       "\n",
       "    .dataframe tbody tr th {\n",
       "        vertical-align: top;\n",
       "    }\n",
       "\n",
       "    .dataframe thead th {\n",
       "        text-align: right;\n",
       "    }\n",
       "</style>\n",
       "<table border=\"1\" class=\"dataframe\">\n",
       "  <thead>\n",
       "    <tr style=\"text-align: right;\">\n",
       "      <th></th>\n",
       "      <th>W</th>\n",
       "      <th>pval</th>\n",
       "      <th>equal_var</th>\n",
       "    </tr>\n",
       "  </thead>\n",
       "  <tbody>\n",
       "    <tr>\n",
       "      <th>levene</th>\n",
       "      <td>0.582052</td>\n",
       "      <td>0.445531</td>\n",
       "      <td>True</td>\n",
       "    </tr>\n",
       "  </tbody>\n",
       "</table>\n",
       "</div>"
      ],
      "text/plain": [
       "               W      pval  equal_var\n",
       "levene  0.582052  0.445531       True"
      ]
     },
     "execution_count": 54,
     "metadata": {},
     "output_type": "execute_result"
    }
   ],
   "source": [
    "# checking variances\n",
    "pg.homoscedasticity(data=df_active, dv='paid', group='grp')"
   ]
  },
  {
   "attachments": {},
   "cell_type": "markdown",
   "id": "1376e624",
   "metadata": {},
   "source": [
    "conversion data are essentially categorical values ​​(0 or 1), the best choice would be the Chi-squared test:\n",
    "- observations are independent\n",
    "- The number of observations in each cell is greater than 5"
   ]
  },
  {
   "cell_type": "code",
   "execution_count": 55,
   "id": "d2b634e0",
   "metadata": {},
   "outputs": [
    {
     "name": "stdout",
     "output_type": "stream",
     "text": [
      "Chi2ContingencyResult(statistic=0.5821513741106591, pvalue=0.44547028437158964, dof=1, expected_freq=array([[  72.28102146, 1465.71897854],\n",
      "       [ 319.71897854, 6483.28102146]]))\n"
     ]
    }
   ],
   "source": [
    "print(chi2_contingency(cr_matrix, correction=False))"
   ]
  },
  {
   "attachments": {},
   "cell_type": "markdown",
   "id": "af658878",
   "metadata": {},
   "source": [
    "**Conclusion:** p_value>0.05, do not reject the null hypothesis (the new mechanics does not affect the purchase decision)\n",
    "(there is no known difference in conversions between the two groups)"
   ]
  },
  {
   "attachments": {},
   "cell_type": "markdown",
   "id": "29b96605",
   "metadata": {},
   "source": [
    "### Bootstrap"
   ]
  },
  {
   "cell_type": "code",
   "execution_count": 56,
   "id": "3f377f69",
   "metadata": {},
   "outputs": [
    {
     "data": {
      "image/png": "[encoded data removed]",
      "text/plain": [
       "<Figure size 640x480 with 1 Axes>"
      ]
     },
     "metadata": {},
     "output_type": "display_data"
    }
   ],
   "source": [
    "booted_data_cr = get_bootstrap(a_group.paid, b_group.paid, boot_iter=2000)"
   ]
  },
  {
   "cell_type": "code",
   "execution_count": 57,
   "id": "b3758472",
   "metadata": {},
   "outputs": [
    {
     "data": {
      "text/plain": [
       "0.20766436050720039"
      ]
     },
     "execution_count": 57,
     "metadata": {},
     "output_type": "execute_result"
    }
   ],
   "source": [
    "booted_data_cr['p_value']"
   ]
  },
  {
   "cell_type": "code",
   "execution_count": 58,
   "id": "20f5e2b5",
   "metadata": {},
   "outputs": [
    {
     "data": {
      "text/html": [
       "<div>\n",
       "<style scoped>\n",
       "    .dataframe tbody tr th:only-of-type {\n",
       "        vertical-align: middle;\n",
       "    }\n",
       "\n",
       "    .dataframe tbody tr th {\n",
       "        vertical-align: top;\n",
       "    }\n",
       "\n",
       "    .dataframe thead th {\n",
       "        text-align: right;\n",
       "    }\n",
       "</style>\n",
       "<table border=\"1\" class=\"dataframe\">\n",
       "  <thead>\n",
       "    <tr style=\"text-align: right;\">\n",
       "      <th></th>\n",
       "      <th>0</th>\n",
       "    </tr>\n",
       "  </thead>\n",
       "  <tbody>\n",
       "    <tr>\n",
       "      <th>0.025</th>\n",
       "      <td>-0.002646</td>\n",
       "    </tr>\n",
       "    <tr>\n",
       "      <th>0.975</th>\n",
       "      <td>0.011616</td>\n",
       "    </tr>\n",
       "  </tbody>\n",
       "</table>\n",
       "</div>"
      ],
      "text/plain": [
       "              0\n",
       "0.025 -0.002646\n",
       "0.975  0.011616"
      ]
     },
     "execution_count": 58,
     "metadata": {},
     "output_type": "execute_result"
    }
   ],
   "source": [
    "booted_data_cr['ci']"
   ]
  },
  {
   "attachments": {},
   "cell_type": "markdown",
   "id": "e3ae2894",
   "metadata": {},
   "source": [
    "Дополнительно проведен бустрап.  0 - входит в ДИ. p-val > 0.05. Не отвергаем нулевую гипотезу. Различия между группами статистически незначимы"
   ]
  },
  {
   "attachments": {},
   "cell_type": "markdown",
   "id": "86e56bbb",
   "metadata": {},
   "source": [
    "### Conclusion\n",
    "\n",
    "\n",
    "Positive changes in ARPU and ARPPU, but negative changes in CR\n",
    "\n",
    "After conducting statistical tests, it turned out that the deterioration in CR is statistically **not significant**, a positive change in ARPU, ARPPU is statistically significant.\n",
    "\n",
    "As a result: we are rolling out a new payment mechanism for all users."
   ]
  },
  {
   "attachments": {},
   "cell_type": "markdown",
   "id": "4558a2a6",
   "metadata": {},
   "source": [
    "## Task 2. SQL"
   ]
  },
  {
   "attachments": {},
   "cell_type": "markdown",
   "id": "cc6cd0e3",
   "metadata": {},
   "source": [
    "### 2.1 Very diligent students.\n",
    "\n",
    "### 2.1.1. Condition\n",
    "\n",
    "Educational courses consist of various lessons, each of which consists of several small tasks. Each such small task is called a \"pea\".\n",
    "\n",
    "Let's call a very diligent student a user who correctly solved 20 peas at least once during the current month.\n",
    "### 2.1.2 Task\n",
    "Given a **default.peas** table:\n",
    "\n",
    "| Attribute name | Attribute type | Semantic meaning |\n",
    "| ------ | ------ | ------ |\n",
    "| st_id | int | Student ID |\n",
    "| timest | timestamp | Time decision card |\n",
    "| correct| bool | Is the pea solved correctly? |\n",
    "| subject | text | The discipline in which the pea is located |\n",
    "\n",
    "It is necessary to write an optimal query that will give information about the number of very diligent students.\n",
    "\n",
    "NB! By a very diligent student, we mean a student who correctly solved 20 problems in the current month."
   ]
  },
  {
   "cell_type": "code",
   "execution_count": 59,
   "id": "310ed80b",
   "metadata": {},
   "outputs": [],
   "source": [
    "connection_default = {'host': 'http://clickhouse.beslan.pro:8080',  # set database connection parameters\n",
    "                      'database': 'default',\n",
    "                      'user': 'student', \n",
    "                      'password': 'dpo_python_2020'\n",
    "                      }"
   ]
  },
  {
   "cell_type": "code",
   "execution_count": 60,
   "id": "d4b88ffd",
   "metadata": {},
   "outputs": [
    {
     "data": {
      "text/html": [
       "<div>\n",
       "<style scoped>\n",
       "    .dataframe tbody tr th:only-of-type {\n",
       "        vertical-align: middle;\n",
       "    }\n",
       "\n",
       "    .dataframe tbody tr th {\n",
       "        vertical-align: top;\n",
       "    }\n",
       "\n",
       "    .dataframe thead th {\n",
       "        text-align: right;\n",
       "    }\n",
       "</style>\n",
       "<table border=\"1\" class=\"dataframe\">\n",
       "  <thead>\n",
       "    <tr style=\"text-align: right;\">\n",
       "      <th></th>\n",
       "      <th>id</th>\n",
       "      <th>score</th>\n",
       "    </tr>\n",
       "  </thead>\n",
       "  <tbody>\n",
       "  </tbody>\n",
       "</table>\n",
       "</div>"
      ],
      "text/plain": [
       "Empty DataFrame\n",
       "Columns: [id, score]\n",
       "Index: []"
      ]
     },
     "execution_count": 60,
     "metadata": {},
     "output_type": "execute_result"
    }
   ],
   "source": [
    "q = '''\n",
    "SELECT st_id AS id,    \n",
    "       SUM(correct) AS score       \n",
    "    FROM default.peas  \n",
    "    WHERE  \n",
    "        toStartOfMonth(timest) == toStartOfMonth(now())  \n",
    "    GROUP BY  \n",
    "        st_id  \n",
    "    HAVING\n",
    "        SUM(correct) >= 20\n",
    "'''\n",
    "df = ph.read_clickhouse(query=q, connection=connection_default) \n",
    "df"
   ]
  },
  {
   "cell_type": "code",
   "execution_count": 61,
   "id": "1823a260",
   "metadata": {},
   "outputs": [],
   "source": [
    "q_1 = '''\n",
    "SELECT st_id, toDateTime(timest) as timest, correct, subject FROM default.peas\n",
    "'''"
   ]
  },
  {
   "cell_type": "code",
   "execution_count": 62,
   "id": "b88860dc",
   "metadata": {},
   "outputs": [
    {
     "data": {
      "text/html": [
       "<div>\n",
       "<style scoped>\n",
       "    .dataframe tbody tr th:only-of-type {\n",
       "        vertical-align: middle;\n",
       "    }\n",
       "\n",
       "    .dataframe tbody tr th {\n",
       "        vertical-align: top;\n",
       "    }\n",
       "\n",
       "    .dataframe thead th {\n",
       "        text-align: right;\n",
       "    }\n",
       "</style>\n",
       "<table border=\"1\" class=\"dataframe\">\n",
       "  <thead>\n",
       "    <tr style=\"text-align: right;\">\n",
       "      <th></th>\n",
       "      <th>st_id</th>\n",
       "      <th>timest</th>\n",
       "      <th>correct</th>\n",
       "      <th>subject</th>\n",
       "    </tr>\n",
       "  </thead>\n",
       "  <tbody>\n",
       "    <tr>\n",
       "      <th>0</th>\n",
       "      <td>100379</td>\n",
       "      <td>2021-10-30 13:32:29</td>\n",
       "      <td>1</td>\n",
       "      <td>Theory of probability</td>\n",
       "    </tr>\n",
       "    <tr>\n",
       "      <th>1</th>\n",
       "      <td>100379</td>\n",
       "      <td>2021-10-30 14:11:19</td>\n",
       "      <td>0</td>\n",
       "      <td>Vizualization</td>\n",
       "    </tr>\n",
       "    <tr>\n",
       "      <th>2</th>\n",
       "      <td>100379</td>\n",
       "      <td>2021-10-30 15:54:22</td>\n",
       "      <td>1</td>\n",
       "      <td>Theory of probability</td>\n",
       "    </tr>\n",
       "    <tr>\n",
       "      <th>3</th>\n",
       "      <td>100379</td>\n",
       "      <td>2021-10-30 16:44:50</td>\n",
       "      <td>1</td>\n",
       "      <td>Vizualization</td>\n",
       "    </tr>\n",
       "    <tr>\n",
       "      <th>4</th>\n",
       "      <td>100379</td>\n",
       "      <td>2021-10-30 17:15:05</td>\n",
       "      <td>1</td>\n",
       "      <td>Theory of probability</td>\n",
       "    </tr>\n",
       "  </tbody>\n",
       "</table>\n",
       "</div>"
      ],
      "text/plain": [
       "    st_id              timest  correct                subject\n",
       "0  100379 2021-10-30 13:32:29        1  Theory of probability\n",
       "1  100379 2021-10-30 14:11:19        0          Vizualization\n",
       "2  100379 2021-10-30 15:54:22        1  Theory of probability\n",
       "3  100379 2021-10-30 16:44:50        1          Vizualization\n",
       "4  100379 2021-10-30 17:15:05        1  Theory of probability"
      ]
     },
     "execution_count": 62,
     "metadata": {},
     "output_type": "execute_result"
    }
   ],
   "source": [
    "df_1 = ph.read_clickhouse(query = q_1, connection = connection_default)\n",
    "df_1.head()"
   ]
  },
  {
   "cell_type": "code",
   "execution_count": 63,
   "id": "ddff2a0b",
   "metadata": {},
   "outputs": [
    {
     "data": {
      "text/plain": [
       "Timestamp('2021-10-31 17:29:52')"
      ]
     },
     "execution_count": 63,
     "metadata": {},
     "output_type": "execute_result"
    }
   ],
   "source": [
    "df_1.timest.max()"
   ]
  },
  {
   "cell_type": "code",
   "execution_count": 64,
   "id": "26ee44b7",
   "metadata": {},
   "outputs": [
    {
     "data": {
      "text/plain": [
       "Timestamp('2021-10-30 13:00:00')"
      ]
     },
     "execution_count": 64,
     "metadata": {},
     "output_type": "execute_result"
    }
   ],
   "source": [
    "df_1.timest.min()"
   ]
  },
  {
   "cell_type": "code",
   "execution_count": 65,
   "id": "cf0b44b1",
   "metadata": {},
   "outputs": [
    {
     "data": {
      "text/plain": [
       "136"
      ]
     },
     "execution_count": 65,
     "metadata": {},
     "output_type": "execute_result"
    }
   ],
   "source": [
    "q_res = '''\n",
    "SELECT st_id AS id,    \n",
    "       SUM(correct) AS score       \n",
    "    FROM default.peas  \n",
    "    GROUP BY  \n",
    "        st_id  \n",
    "    HAVING\n",
    "        SUM(correct) >= 20\n",
    "'''\n",
    "df_res = ph.read_clickhouse(query=q_res, connection=connection_default) \n",
    "df_res.shape[0]"
   ]
  },
  {
   "attachments": {},
   "cell_type": "markdown",
   "id": "dae4e5c2",
   "metadata": {},
   "source": [
    "October 2021 data only Remove current month requirement"
   ]
  },
  {
   "cell_type": "code",
   "execution_count": 66,
   "id": "f50ff02d",
   "metadata": {},
   "outputs": [
    {
     "data": {
      "text/plain": [
       "136"
      ]
     },
     "execution_count": 66,
     "metadata": {},
     "output_type": "execute_result"
    }
   ],
   "source": [
    "# but it's better to do it like this\n",
    "q = '''\n",
    "SELECT st_id AS id,    \n",
    "       SUM(correct) AS score, toStartOfMonth(timest) AS month       \n",
    "    FROM default.peas  \n",
    "    WHERE  \n",
    "        toStartOfMonth(timest) = MAX(toStartOfMonth(timest))  \n",
    "    GROUP BY  \n",
    "        st_id, month  \n",
    "    HAVING\n",
    "        SUM(correct) >= 20\n",
    "'''\n",
    "df = ph.read_clickhouse(query=q, connection=connection_default) \n",
    "df.shape[0]"
   ]
  },
  {
   "attachments": {},
   "cell_type": "markdown",
   "id": "0474d894",
   "metadata": {},
   "source": [
    "## 2.2 Funnel optimization\n",
    "\n",
    "### 2.2.1 Condition\n",
    "\n",
    "The educational platform offers students to take courses according to the trial model: a student can solve only 30 peas a day for free. For an unlimited number of tasks in a particular discipline, the student must purchase full access. The team ran an experiment where they tested the new payment screen.\n",
    "\n",
    "### 2.2.2 Task\n",
    "\n",
    "Table given: **default.peas** (see above), **default.studs**:\n",
    "\n",
    "| Attribute name | Attribute type | Semantic meaning |\n",
    "| ------ | ------ | ------ |\n",
    "| st_id | int | Student ID |\n",
    "| test_grp | text | Student label in this experiment |\n",
    "\n",
    "and **default.final_project_check**:\n",
    "\n",
    "| Attribute name | Attribute type | Semantic meaning |\n",
    "| ------ | ------ | ------ |\n",
    "| st_id | int | Student ID |\n",
    "| sale_time | timestamp | Shopping time |\n",
    "| money | int | The price at which this course was purchased |\n",
    "| subject | text | Discipline purchased with full access |\n",
    "\n",
    "It is necessary to upload the following information about user groups in one request:\n",
    "\n",
    "-ARPU\n",
    "- ARPAU\n",
    "- CR in purchase\n",
    "- CR of an active user in a purchase\n",
    "- User CR from math activity (subject = 'math') to math course purchase\n",
    "\n",
    "ARPU is calculated relative to all users in groups.\n",
    "\n",
    "**Active** is a user who has solved more than 10 problems correctly in all disciplines.\n",
    "\n",
    "**Active in math** is a user who has solved 2 or more problems correctly in math for the entire time.\n",
    "NB: All data is tabular in Clickhouse"
   ]
  },
  {
   "cell_type": "code",
   "execution_count": 67,
   "id": "c3167a5a",
   "metadata": {},
   "outputs": [
    {
     "data": {
      "text/html": [
       "<div>\n",
       "<style scoped>\n",
       "    .dataframe tbody tr th:only-of-type {\n",
       "        vertical-align: middle;\n",
       "    }\n",
       "\n",
       "    .dataframe tbody tr th {\n",
       "        vertical-align: top;\n",
       "    }\n",
       "\n",
       "    .dataframe thead th {\n",
       "        text-align: right;\n",
       "    }\n",
       "</style>\n",
       "<table border=\"1\" class=\"dataframe\">\n",
       "  <thead>\n",
       "    <tr style=\"text-align: right;\">\n",
       "      <th></th>\n",
       "      <th>test_grp</th>\n",
       "      <th>arpu</th>\n",
       "      <th>arpau</th>\n",
       "      <th>cr</th>\n",
       "      <th>cr_active</th>\n",
       "      <th>cr_math</th>\n",
       "    </tr>\n",
       "  </thead>\n",
       "  <tbody>\n",
       "    <tr>\n",
       "      <th>0</th>\n",
       "      <td>control</td>\n",
       "      <td>4540.98</td>\n",
       "      <td>10393.70</td>\n",
       "      <td>0.05</td>\n",
       "      <td>0.11</td>\n",
       "      <td>0.07</td>\n",
       "    </tr>\n",
       "    <tr>\n",
       "      <th>1</th>\n",
       "      <td>pilot</td>\n",
       "      <td>11508.47</td>\n",
       "      <td>29739.58</td>\n",
       "      <td>0.11</td>\n",
       "      <td>0.26</td>\n",
       "      <td>0.11</td>\n",
       "    </tr>\n",
       "  </tbody>\n",
       "</table>\n",
       "</div>"
      ],
      "text/plain": [
       "  test_grp      arpu     arpau    cr  cr_active  cr_math\n",
       "0  control   4540.98  10393.70  0.05       0.11     0.07\n",
       "1    pilot  11508.47  29739.58  0.11       0.26     0.11"
      ]
     },
     "execution_count": 67,
     "metadata": {},
     "output_type": "execute_result"
    }
   ],
   "source": [
    "q_2 = '''\n",
    "with active_studs as (\n",
    "  SELECT st_id,\n",
    "           SUM(correct) AS active,\n",
    "           SUMIf(correct, subject = 'Math') AS math_active\n",
    "    FROM default.peas\n",
    "    GROUP BY st_id\n",
    ")\n",
    "\n",
    "SELECT \n",
    "       test_grp,\n",
    "       round(SUM(rev.money) / uniqExact(students.st_id), 2) as arpu,\n",
    "\n",
    "       round(SUMIf(rev.money, active_studs.active > 10) / uniqExactIf(students.st_id, active_studs.active > 10), 2) AS arpau,\n",
    "\n",
    "       round(uniqExactIf(students.st_id, rev.money > 0) / uniqExact(students.st_id), 2) AS cr,\n",
    "\n",
    "       round(uniqExactIf(students.st_id, active_studs.active > 10 and rev.money > 0) / uniqExactIf(students.st_id, active_studs.active > 10), 2) AS cr_active,\n",
    "\n",
    "       round(uniqExactIf(students.st_id, active_studs.math_active > 10 and rev.subject = 'Math' and rev.money > 0) / uniqExactIf(students.st_id, active_studs.math_active > 10), 2) AS cr_math\n",
    "\n",
    "FROM default.studs AS students\n",
    "\n",
    "FULL JOIN default.final_project_check AS rev\n",
    "ON students.st_id = rev.st_id\n",
    "\n",
    "FULL JOIN active_studs\n",
    "ON students.st_id = active_studs.st_id    \n",
    "    \n",
    "GROUP BY test_grp\n",
    "'''\n",
    "result = ph.read_clickhouse(query=q_2, connection=connection_default) \n",
    "result"
   ]
  },
  {
   "attachments": {},
   "cell_type": "markdown",
   "id": "da180ff5",
   "metadata": {},
   "source": [
    "# Task 3. Python\n",
    "## 3.1 Task\n",
    "\n",
    "Implement a function that will automatically load information from an additional file **groups_add.csv** (headers may differ) and recalculate metrics based on additional parameters.\n",
    "Implement a function that will build graphs based on the received metrics."
   ]
  },
  {
   "cell_type": "code",
   "execution_count": 68,
   "id": "0d108e17",
   "metadata": {},
   "outputs": [],
   "source": [
    "def metrics_update(groups, group_add, active_studs, checks): \n",
    "    \n",
    "    # rename columns\n",
    "    group_add.rename(columns = {group_add.columns[0]: 'id'}, inplace = True)\n",
    "    groups.rename(columns = {groups.columns[0]: 'id'}, inplace = True)\n",
    "    checks.rename(columns = {checks.columns[0]: 'id'}, inplace = True)\n",
    "    active_studs.rename(columns = {active_studs.columns[0]: 'id'}, inplace = True)\n",
    "    \n",
    "    # assembling a new df\n",
    "    general = pd.concat([groups, group_add])\n",
    "    df = general.merge(checks, on='id', how='left').fillna(0)\n",
    "    df['is_active'] = df.id.isin(active_studs.id)\n",
    "    \n",
    "    # interested in active users only\n",
    "    df_active = df[(df.is_active)]\n",
    "    # create new columns\n",
    "    df_active['paid'] = (df_active.rev != 0) * 1\n",
    "    df_active.drop('is_active', inplace=True, axis=1)\n",
    "    \n",
    "    metrics = df_active.groupby('grp', as_index = False)\\\n",
    "                    .agg({'id': 'count', 'paid': 'sum','rev': 'sum'})\\\n",
    "                    .rename(columns = {'id': 'users', 'paid': 'pay_users', 'rev': 'total_money'})\\\n",
    "                    .assign(not_pay_users = lambda x: x.users - x.pay_users, \\\n",
    "                            arpu = lambda x:round((x.total_money / x.users),2), \\\n",
    "                            arppu = lambda x: round((x.total_money / x.pay_users),2),\\\n",
    "                            cr = lambda x: round((x.pay_users / x.users) * 100,2))\n",
    "    metrics_1 = metrics[['grp', 'pay_users', 'not_pay_users', 'total_money', 'arpu', 'arppu', 'cr']]\n",
    "    return (metrics_1)"
   ]
  },
  {
   "cell_type": "code",
   "execution_count": 69,
   "id": "fee13e22",
   "metadata": {},
   "outputs": [
    {
     "data": {
      "text/html": [
       "<div>\n",
       "<style scoped>\n",
       "    .dataframe tbody tr th:only-of-type {\n",
       "        vertical-align: middle;\n",
       "    }\n",
       "\n",
       "    .dataframe tbody tr th {\n",
       "        vertical-align: top;\n",
       "    }\n",
       "\n",
       "    .dataframe thead th {\n",
       "        text-align: right;\n",
       "    }\n",
       "</style>\n",
       "<table border=\"1\" class=\"dataframe\">\n",
       "  <thead>\n",
       "    <tr style=\"text-align: right;\">\n",
       "      <th></th>\n",
       "      <th>grp</th>\n",
       "      <th>pay_users</th>\n",
       "      <th>not_pay_users</th>\n",
       "      <th>total_money</th>\n",
       "      <th>arpu</th>\n",
       "      <th>arppu</th>\n",
       "      <th>cr</th>\n",
       "    </tr>\n",
       "  </thead>\n",
       "  <tbody>\n",
       "    <tr>\n",
       "      <th>0</th>\n",
       "      <td>A</td>\n",
       "      <td>78</td>\n",
       "      <td>1460</td>\n",
       "      <td>72820.0000</td>\n",
       "      <td>47.35</td>\n",
       "      <td>933.59</td>\n",
       "      <td>5.07</td>\n",
       "    </tr>\n",
       "    <tr>\n",
       "      <th>1</th>\n",
       "      <td>B</td>\n",
       "      <td>314</td>\n",
       "      <td>6489</td>\n",
       "      <td>394974.0035</td>\n",
       "      <td>58.06</td>\n",
       "      <td>1257.88</td>\n",
       "      <td>4.62</td>\n",
       "    </tr>\n",
       "  </tbody>\n",
       "</table>\n",
       "</div>"
      ],
      "text/plain": [
       "  grp  pay_users  not_pay_users  total_money   arpu    arppu    cr\n",
       "0   A         78           1460   72820.0000  47.35   933.59  5.07\n",
       "1   B        314           6489  394974.0035  58.06  1257.88  4.62"
      ]
     },
     "execution_count": 69,
     "metadata": {},
     "output_type": "execute_result"
    }
   ],
   "source": [
    "result = metrics_update(groups, group_add, active_studs, checks)\n",
    "result"
   ]
  },
  {
   "cell_type": "code",
   "execution_count": 70,
   "id": "c3607a44",
   "metadata": {},
   "outputs": [],
   "source": [
    "def graphs(df):\n",
    "    \n",
    "    sns.set_theme(style = \"whitegrid\", )\n",
    "    fig, axs = plt.subplots(ncols = 3, figsize = (18, 6))\n",
    "    \n",
    "    sns.barplot(x = \"grp\", y = \"arpu\", data = result, ax = axs[0]).set_title('ARPU')\n",
    "    sns.barplot(x = \"grp\", y = \"arppu\", data = result, ax = axs[1]).set_title('ARPPU')\n",
    "    sns.barplot(x = \"grp\", y = \"cr\", data = result, ax = axs[2]).set_title('CR')\n",
    "    fig.show()"
   ]
  },
  {
   "cell_type": "code",
   "execution_count": 71,
   "id": "f15869d6",
   "metadata": {},
   "outputs": [
    {
     "data": {
      "image/png": "[encoded data removed]",
      "text/plain": [
       "<Figure size 1800x600 with 3 Axes>"
      ]
     },
     "metadata": {},
     "output_type": "display_data"
    }
   ],
   "source": [
    "graphs(result)"
   ]
  },
  {
   "cell_type": "code",
   "execution_count": null,
   "id": "d8b37d5e",
   "metadata": {},
   "outputs": [],
   "source": []
  }
 ],
 "metadata": {
  "kernelspec": {
   "display_name": "Python 3 (ipykernel)",
   "language": "python",
   "name": "python3"
  },
  "language_info": {
   "codemirror_mode": {
    "name": "ipython",
    "version": 3
   },
   "file_extension": ".py",
   "mimetype": "text/x-python",
   "name": "python",
   "nbconvert_exporter": "python",
   "pygments_lexer": "ipython3",
   "version": "3.11.1"
  }
 },
 "nbformat": 4,
 "nbformat_minor": 5
}
