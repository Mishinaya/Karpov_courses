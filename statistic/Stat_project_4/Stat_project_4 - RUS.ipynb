{
 "cells": [
  {
   "cell_type": "markdown",
   "id": "f0fe490c",
   "metadata": {},
   "source": [
    "# Stat project 4\n"
   ]
  },
  {
   "cell_type": "markdown",
   "id": "8b91e3f0",
   "metadata": {},
   "source": [
    "## Задание\n",
    "Представьте, что вы работаете аналитиком в очень крупной компании по доставке пиццы над приложением для курьеров (да, обычно в таких компаниях есть приложение для курьеров и отдельно приложение для потребителей).\n",
    "\n",
    "У вас есть несколько ресторанов в разных частях города и целый штат курьеров. Но есть одна проблема — к вечеру скорость доставки падает из-за того, что курьеры уходят домой после рабочего дня, а количество заказов лишь растет. Это приводит к тому, что в момент пересмены наша доставка очень сильно проседает в эффективности. \n",
    "\n",
    "Наши data scientist-ы придумали новый алгоритм, который позволяет курьерам запланировать свои последние заказы перед окончанием рабочего дня так, чтобы их маршрут доставки совпадал с маршрутом до дома. То есть, чтобы курьеры доставляли последние свои заказы за день как бы \"по пути\" домой. \n",
    "\n",
    "Вы вместе с командой решили раскатить A/B тест на две равные группы курьеров. Часть курьеров использует старый алгоритм без опции \"по пути\", другие видят в своем приложении эту опцию и могут ее выбрать. Ваша задача – проанализировать данные эксперимента и помочь бизнесу принять решение о раскатке новой фичи на всех курьеров.\n"
   ]
  },
  {
   "cell_type": "markdown",
   "id": "fa2ea670",
   "metadata": {},
   "source": [
    "## Описание данных\n",
    "- order_id - id заказа\n",
    "- delivery_time - время доставки в минутах\n",
    "- district - район доставки\n",
    "- experiment_group - экспериментальная группа"
   ]
  },
  {
   "cell_type": "markdown",
   "id": "8674c781",
   "metadata": {},
   "source": [
    "## Гипотезы\n",
    "\n",
    "1. Нулевая гипотеза (H0): Разницы между средним временем доставки в тестовой и контрольной группе нет\n",
    "2. Альтернативная гипотеза (H1): Разница между средним временем доставки в тестовой и контрольной группе есть"
   ]
  },
  {
   "cell_type": "code",
   "execution_count": 1,
   "id": "3de155f0",
   "metadata": {},
   "outputs": [],
   "source": [
    "import pandas as pd\n",
    "import numpy as np\n",
    "import scipy.stats as st\n",
    "import pingouin as pg\n",
    "import seaborn as sns \n",
    "import matplotlib.pyplot as plt\n",
    "import scipy\n",
    "from scipy import stats"
   ]
  },
  {
   "cell_type": "code",
   "execution_count": 2,
   "id": "734e3dff",
   "metadata": {},
   "outputs": [],
   "source": [
    "sns.set(rc={'figure.figsize': (12, 6)}, style=\"whitegrid\")"
   ]
  },
  {
   "cell_type": "code",
   "execution_count": 3,
   "id": "0671f370",
   "metadata": {},
   "outputs": [],
   "source": [
    "# таблица с уникальными идентификаторами пользователей\n",
    "df = pd.read_csv('./experiment_lesson_4.csv')"
   ]
  },
  {
   "cell_type": "code",
   "execution_count": 4,
   "id": "82c3b506",
   "metadata": {},
   "outputs": [
    {
     "data": {
      "text/html": [
       "<div>\n",
       "<style scoped>\n",
       "    .dataframe tbody tr th:only-of-type {\n",
       "        vertical-align: middle;\n",
       "    }\n",
       "\n",
       "    .dataframe tbody tr th {\n",
       "        vertical-align: top;\n",
       "    }\n",
       "\n",
       "    .dataframe thead th {\n",
       "        text-align: right;\n",
       "    }\n",
       "</style>\n",
       "<table border=\"1\" class=\"dataframe\">\n",
       "  <thead>\n",
       "    <tr style=\"text-align: right;\">\n",
       "      <th></th>\n",
       "      <th>order_id</th>\n",
       "      <th>delivery_time</th>\n",
       "      <th>district</th>\n",
       "      <th>experiment_group</th>\n",
       "    </tr>\n",
       "  </thead>\n",
       "  <tbody>\n",
       "    <tr>\n",
       "      <th>0</th>\n",
       "      <td>3159</td>\n",
       "      <td>44.0</td>\n",
       "      <td>Purlieus</td>\n",
       "      <td>control</td>\n",
       "    </tr>\n",
       "    <tr>\n",
       "      <th>1</th>\n",
       "      <td>10426</td>\n",
       "      <td>51.0</td>\n",
       "      <td>Purlieus</td>\n",
       "      <td>control</td>\n",
       "    </tr>\n",
       "    <tr>\n",
       "      <th>2</th>\n",
       "      <td>9155</td>\n",
       "      <td>46.0</td>\n",
       "      <td>Purlieus</td>\n",
       "      <td>control</td>\n",
       "    </tr>\n",
       "    <tr>\n",
       "      <th>3</th>\n",
       "      <td>10699</td>\n",
       "      <td>34.0</td>\n",
       "      <td>Purlieus</td>\n",
       "      <td>control</td>\n",
       "    </tr>\n",
       "    <tr>\n",
       "      <th>4</th>\n",
       "      <td>10061</td>\n",
       "      <td>43.0</td>\n",
       "      <td>Purlieus</td>\n",
       "      <td>control</td>\n",
       "    </tr>\n",
       "  </tbody>\n",
       "</table>\n",
       "</div>"
      ],
      "text/plain": [
       "   order_id  delivery_time  district experiment_group\n",
       "0      3159           44.0  Purlieus          control\n",
       "1     10426           51.0  Purlieus          control\n",
       "2      9155           46.0  Purlieus          control\n",
       "3     10699           34.0  Purlieus          control\n",
       "4     10061           43.0  Purlieus          control"
      ]
     },
     "execution_count": 4,
     "metadata": {},
     "output_type": "execute_result"
    }
   ],
   "source": [
    "df.head()"
   ]
  },
  {
   "cell_type": "code",
   "execution_count": 5,
   "id": "e5b26e81",
   "metadata": {},
   "outputs": [
    {
     "data": {
      "text/plain": [
       "array(['Purlieus', 'Central', 'Suburb'], dtype=object)"
      ]
     },
     "execution_count": 5,
     "metadata": {},
     "output_type": "execute_result"
    }
   ],
   "source": [
    "df.district.unique()"
   ]
  },
  {
   "cell_type": "code",
   "execution_count": 6,
   "id": "3af77043",
   "metadata": {},
   "outputs": [
    {
     "data": {
      "text/plain": [
       "array(['control', 'test'], dtype=object)"
      ]
     },
     "execution_count": 6,
     "metadata": {},
     "output_type": "execute_result"
    }
   ],
   "source": [
    "df.experiment_group.unique()"
   ]
  },
  {
   "cell_type": "markdown",
   "id": "31aad4e2",
   "metadata": {},
   "source": [
    "# Задание 1\n",
    "Сопоставьте графики распределения и  экспериментальные группы (нужны гистограммы)"
   ]
  },
  {
   "cell_type": "code",
   "execution_count": 7,
   "id": "a6545609",
   "metadata": {},
   "outputs": [
    {
     "data": {
      "image/png": "[encoded data removed]",
      "text/plain": [
       "<Figure size 1200x600 with 1 Axes>"
      ]
     },
     "metadata": {},
     "output_type": "display_data"
    }
   ],
   "source": [
    "df.query(\"experiment_group == 'control'\").groupby('district').delivery_time.hist()\n",
    "sns.despine()"
   ]
  },
  {
   "cell_type": "code",
   "execution_count": 8,
   "id": "990d3726",
   "metadata": {},
   "outputs": [
    {
     "data": {
      "image/png": "[encoded data removed]",
      "text/plain": [
       "<Figure size 1200x600 with 1 Axes>"
      ]
     },
     "metadata": {},
     "output_type": "display_data"
    }
   ],
   "source": [
    "df.query(\"experiment_group == 'test'\").groupby('district').delivery_time.hist()\n",
    "sns.despine()"
   ]
  },
  {
   "cell_type": "markdown",
   "id": "6f5ed435",
   "metadata": {},
   "source": [
    "# Задание 2\n",
    "Посчитайте количество наблюдений в тестовой и контрольной группе. \n",
    "На сколько по модулю отличается количество наблюдений в тесте и контроле?"
   ]
  },
  {
   "cell_type": "code",
   "execution_count": 9,
   "id": "ccb7aacd",
   "metadata": {},
   "outputs": [
    {
     "data": {
      "text/plain": [
       "10104"
      ]
     },
     "execution_count": 9,
     "metadata": {},
     "output_type": "execute_result"
    }
   ],
   "source": [
    "#test\n",
    "df.query(\"experiment_group == 'test'\").value_counts().sum()"
   ]
  },
  {
   "cell_type": "code",
   "execution_count": 10,
   "id": "936e587d",
   "metadata": {},
   "outputs": [
    {
     "data": {
      "text/plain": [
       "10092"
      ]
     },
     "execution_count": 10,
     "metadata": {},
     "output_type": "execute_result"
    }
   ],
   "source": [
    "#control\n",
    "df.query(\"experiment_group == 'control'\").value_counts().sum()"
   ]
  },
  {
   "cell_type": "markdown",
   "id": "a2467a66",
   "metadata": {},
   "source": [
    "**Ответ:** 12"
   ]
  },
  {
   "cell_type": "code",
   "execution_count": 11,
   "id": "7c565dac",
   "metadata": {},
   "outputs": [
    {
     "data": {
      "text/plain": [
       "experiment_group\n",
       "control    10092\n",
       "test       10104\n",
       "dtype: int64"
      ]
     },
     "execution_count": 11,
     "metadata": {},
     "output_type": "execute_result"
    }
   ],
   "source": [
    "#or\n",
    "df.groupby('experiment_group').size()"
   ]
  },
  {
   "cell_type": "markdown",
   "id": "6685ae38",
   "metadata": {},
   "source": [
    "# Задание 3\n",
    "Теперь давайте изучим наши распределения. Проверим выполнение условий на нормальность и посчитаем стандартное отклонение в тесте и в контроле.\n",
    "\n",
    "Вообще для выборок таких колоссальных размеров мы не обязаны это делать - в отсутствие слишком уж выраженной асимметрии и выбросов в данных t-тест и так работать будет нормально, но посмотреть лишний раз всё равно можно :)\n",
    "\n",
    "Обычно нормальность тестируют с помощью теста Шапиро-Уилка (scipy.stats.shapiro()), однако на больших выборках этот тест слишком рьяно находит отклонения от нормальности! Поэтому используйте функцию scipy.stats.normaltest() - она больше адаптирована к большим выборкам.\n",
    "\n",
    "Также можете сделать это через пакет pingouin - вот этой функцией. Не забудьте выбрать правильный аргумент!"
   ]
  },
  {
   "cell_type": "code",
   "execution_count": 12,
   "id": "32e923ae",
   "metadata": {},
   "outputs": [
    {
     "data": {
      "text/plain": [
       "ShapiroResult(statistic=0.9975473880767822, pvalue=0.14001426100730896)"
      ]
     },
     "execution_count": 12,
     "metadata": {},
     "output_type": "execute_result"
    }
   ],
   "source": [
    "scipy.stats.shapiro(df[df['experiment_group'] == 'test']['delivery_time'].sample(1000, random_state=17))"
   ]
  },
  {
   "cell_type": "code",
   "execution_count": 13,
   "id": "64c5777d",
   "metadata": {},
   "outputs": [
    {
     "data": {
      "text/plain": [
       "ShapiroResult(statistic=0.9974724054336548, pvalue=0.12408281117677689)"
      ]
     },
     "execution_count": 13,
     "metadata": {},
     "output_type": "execute_result"
    }
   ],
   "source": [
    "scipy.stats.shapiro(df[df['experiment_group'] == 'control']['delivery_time'].sample(1000, random_state=17))"
   ]
  },
  {
   "cell_type": "code",
   "execution_count": 14,
   "id": "0e15a9c8",
   "metadata": {},
   "outputs": [],
   "source": [
    "#второй вариант(!)"
   ]
  },
  {
   "cell_type": "code",
   "execution_count": 15,
   "id": "c5f0932a",
   "metadata": {},
   "outputs": [
    {
     "data": {
      "text/html": [
       "<div>\n",
       "<style scoped>\n",
       "    .dataframe tbody tr th:only-of-type {\n",
       "        vertical-align: middle;\n",
       "    }\n",
       "\n",
       "    .dataframe tbody tr th {\n",
       "        vertical-align: top;\n",
       "    }\n",
       "\n",
       "    .dataframe thead th {\n",
       "        text-align: right;\n",
       "    }\n",
       "</style>\n",
       "<table border=\"1\" class=\"dataframe\">\n",
       "  <thead>\n",
       "    <tr style=\"text-align: right;\">\n",
       "      <th></th>\n",
       "      <th>W</th>\n",
       "      <th>pval</th>\n",
       "      <th>normal</th>\n",
       "    </tr>\n",
       "    <tr>\n",
       "      <th>experiment_group</th>\n",
       "      <th></th>\n",
       "      <th></th>\n",
       "      <th></th>\n",
       "    </tr>\n",
       "  </thead>\n",
       "  <tbody>\n",
       "    <tr>\n",
       "      <th>control</th>\n",
       "      <td>0.253498</td>\n",
       "      <td>0.880955</td>\n",
       "      <td>True</td>\n",
       "    </tr>\n",
       "    <tr>\n",
       "      <th>test</th>\n",
       "      <td>7.024157</td>\n",
       "      <td>0.029835</td>\n",
       "      <td>False</td>\n",
       "    </tr>\n",
       "  </tbody>\n",
       "</table>\n",
       "</div>"
      ],
      "text/plain": [
       "                         W      pval  normal\n",
       "experiment_group                            \n",
       "control           0.253498  0.880955    True\n",
       "test              7.024157  0.029835   False"
      ]
     },
     "execution_count": 15,
     "metadata": {},
     "output_type": "execute_result"
    }
   ],
   "source": [
    "pg.normality(data=df, dv='delivery_time', group='experiment_group', method='normaltest')"
   ]
  },
  {
   "cell_type": "code",
   "execution_count": 16,
   "id": "924c4171",
   "metadata": {},
   "outputs": [
    {
     "data": {
      "text/plain": [
       "<Axes: xlabel='Theoretical quantiles', ylabel='Ordered quantiles'>"
      ]
     },
     "execution_count": 16,
     "metadata": {},
     "output_type": "execute_result"
    },
    {
     "data": {
      "image/png": "[encoded data removed]",
      "text/plain": [
       "<Figure size 1200x600 with 1 Axes>"
      ]
     },
     "metadata": {},
     "output_type": "display_data"
    }
   ],
   "source": [
    "pg.qqplot(df.query(\"experiment_group == 'control'\").delivery_time)"
   ]
  },
  {
   "cell_type": "code",
   "execution_count": 17,
   "id": "a71c881a",
   "metadata": {},
   "outputs": [
    {
     "data": {
      "text/plain": [
       "<Axes: xlabel='Theoretical quantiles', ylabel='Ordered quantiles'>"
      ]
     },
     "execution_count": 17,
     "metadata": {},
     "output_type": "execute_result"
    },
    {
     "data": {
      "image/png": "[encoded data removed]",
      "text/plain": [
       "<Figure size 1200x600 with 1 Axes>"
      ]
     },
     "metadata": {},
     "output_type": "display_data"
    }
   ],
   "source": [
    "pg.qqplot(df.query(\"experiment_group == 'test'\").delivery_time)"
   ]
  },
  {
   "cell_type": "markdown",
   "id": "dd8b7880",
   "metadata": {},
   "source": [
    "Для того, чтобы проверить нормальность распределения, я использую тест Агостино-Пирсона по функции scipy.stats.normaltest(). Этот тест показывает, что значения в тестовой группе распределены **ненормально**. В контрольной группе распределение является **нормальным**. Стандартное отклонение времени доставки в тесте равно (округлите до сотых) \n",
    "**9.88**. Стандартное отклонение времени доставки в контроле равно (округлите до сотых) **9.99**.\n"
   ]
  },
  {
   "cell_type": "markdown",
   "id": "1f853526",
   "metadata": {},
   "source": [
    "**Note**\n",
    "В прошлых версиях этого курса мы полагались на другой трюк - сэмплирование данных из каждой группы, чтобы обойти проблемы чувствительности теста. Метод не очень надёжный, поэтому мы от него в итоге отказались, но можете его попробовать по методу ниже! Впрочем, не интерпретируйте его результаты слишком серьёзно"
   ]
  },
  {
   "cell_type": "code",
   "execution_count": 18,
   "id": "4b7b3200",
   "metadata": {},
   "outputs": [
    {
     "data": {
      "text/plain": [
       "9.88"
      ]
     },
     "execution_count": 18,
     "metadata": {},
     "output_type": "execute_result"
    }
   ],
   "source": [
    "np.round(df.query(\"experiment_group == 'test'\").delivery_time.std(), 2)"
   ]
  },
  {
   "cell_type": "code",
   "execution_count": 19,
   "id": "18116d02",
   "metadata": {},
   "outputs": [
    {
     "data": {
      "text/plain": [
       "9.99"
      ]
     },
     "execution_count": 19,
     "metadata": {},
     "output_type": "execute_result"
    }
   ],
   "source": [
    "np.round(df.query(\"experiment_group == 'control'\").delivery_time.std(), 2)"
   ]
  },
  {
   "cell_type": "markdown",
   "id": "6ef3eef8",
   "metadata": {},
   "source": [
    "# Задание 4\n",
    "Теперь пришло время сравнить средние в тесте и контроле. "
   ]
  },
  {
   "cell_type": "code",
   "execution_count": 20,
   "id": "a15ed0b0",
   "metadata": {},
   "outputs": [
    {
     "data": {
      "text/plain": [
       "Ttest_indResult(statistic=-43.03582663183714, pvalue=0.0)"
      ]
     },
     "execution_count": 20,
     "metadata": {},
     "output_type": "execute_result"
    }
   ],
   "source": [
    "scipy.stats.ttest_ind(df.query(\"experiment_group == 'test'\").delivery_time, \n",
    "                      df.query(\"experiment_group == 'control'\").delivery_time )"
   ]
  },
  {
   "cell_type": "code",
   "execution_count": 21,
   "id": "ad622f15",
   "metadata": {},
   "outputs": [],
   "source": [
    "#тест и контроль различаются"
   ]
  },
  {
   "cell_type": "code",
   "execution_count": 22,
   "id": "af96bb2b",
   "metadata": {},
   "outputs": [
    {
     "name": "stderr",
     "output_type": "stream",
     "text": [
      "c:\\Users\\Ann Zalivatskaya\\AppData\\Local\\Programs\\Python\\Python311\\Lib\\site-packages\\pingouin\\bayesian.py:152: RuntimeWarning: divide by zero encountered in scalar divide\n",
      "  bf10 = 1 / ((1 + t**2 / df) ** (-(df + 1) / 2) / integr)\n"
     ]
    },
    {
     "data": {
      "text/html": [
       "<div>\n",
       "<style scoped>\n",
       "    .dataframe tbody tr th:only-of-type {\n",
       "        vertical-align: middle;\n",
       "    }\n",
       "\n",
       "    .dataframe tbody tr th {\n",
       "        vertical-align: top;\n",
       "    }\n",
       "\n",
       "    .dataframe thead th {\n",
       "        text-align: right;\n",
       "    }\n",
       "</style>\n",
       "<table border=\"1\" class=\"dataframe\">\n",
       "  <thead>\n",
       "    <tr style=\"text-align: right;\">\n",
       "      <th></th>\n",
       "      <th>T</th>\n",
       "      <th>dof</th>\n",
       "      <th>alternative</th>\n",
       "      <th>p-val</th>\n",
       "      <th>CI95%</th>\n",
       "      <th>cohen-d</th>\n",
       "      <th>BF10</th>\n",
       "      <th>power</th>\n",
       "    </tr>\n",
       "  </thead>\n",
       "  <tbody>\n",
       "    <tr>\n",
       "      <th>T-test</th>\n",
       "      <td>-43.035552</td>\n",
       "      <td>20191.127788</td>\n",
       "      <td>two-sided</td>\n",
       "      <td>0.0</td>\n",
       "      <td>[-6.29, -5.74]</td>\n",
       "      <td>0.605658</td>\n",
       "      <td>inf</td>\n",
       "      <td>1.0</td>\n",
       "    </tr>\n",
       "  </tbody>\n",
       "</table>\n",
       "</div>"
      ],
      "text/plain": [
       "                T           dof alternative  p-val           CI95%   cohen-d  \\\n",
       "T-test -43.035552  20191.127788   two-sided    0.0  [-6.29, -5.74]  0.605658   \n",
       "\n",
       "       BF10  power  \n",
       "T-test  inf    1.0  "
      ]
     },
     "execution_count": 22,
     "metadata": {},
     "output_type": "execute_result"
    }
   ],
   "source": [
    "#второй вариант\n",
    "pg.ttest(x=df.query(\"experiment_group == 'test'\").delivery_time,\n",
    "         y=df.query(\"experiment_group == 'control'\").delivery_time)"
   ]
  },
  {
   "cell_type": "markdown",
   "id": "c156daf5",
   "metadata": {},
   "source": [
    "**Вывод**\n",
    "Для сравнения средних в данных экспериментальных группах я использую **Student's T-test**. Статистика в тесте равна (округлите до целого) **-43**, p-value **<= 0.05**."
   ]
  },
  {
   "cell_type": "markdown",
   "id": "998c055e",
   "metadata": {},
   "source": [
    "# Задание 5\n",
    "На сколько процентов изменилось среднее время доставки в тестовой группе по сравнению с контрольной (округлите до сотых)? "
   ]
  },
  {
   "cell_type": "code",
   "execution_count": 23,
   "id": "91f6c1dd",
   "metadata": {},
   "outputs": [],
   "source": [
    "mean_test = df.query(\"experiment_group == 'test'\").delivery_time.mean()"
   ]
  },
  {
   "cell_type": "code",
   "execution_count": 24,
   "id": "84ad4954",
   "metadata": {},
   "outputs": [],
   "source": [
    "mean_control = df.query(\"experiment_group == 'control'\").delivery_time.mean()"
   ]
  },
  {
   "cell_type": "code",
   "execution_count": 25,
   "id": "bc50a1da",
   "metadata": {},
   "outputs": [
    {
     "data": {
      "text/plain": [
       "13.35"
      ]
     },
     "execution_count": 25,
     "metadata": {},
     "output_type": "execute_result"
    }
   ],
   "source": [
    "np.round((1 - (mean_test/mean_control))*100, 2)"
   ]
  },
  {
   "cell_type": "markdown",
   "id": "c4afb371",
   "metadata": {},
   "source": [
    "# Вывод\n",
    "Что в итоге? Катим? "
   ]
  },
  {
   "cell_type": "markdown",
   "id": "94e123c4",
   "metadata": {},
   "source": [
    "Да, раскатываем новый алгоритм на всех, так как среднее время доставки статистически значимо изменилось. \n",
    "Среднее время доставки в тесте меньше, чем в контроле."
   ]
  },
  {
   "cell_type": "code",
   "execution_count": null,
   "id": "aeb83db1",
   "metadata": {},
   "outputs": [],
   "source": []
  }
 ],
 "metadata": {
  "kernelspec": {
   "display_name": "Python 3 (ipykernel)",
   "language": "python",
   "name": "python3"
  },
  "language_info": {
   "codemirror_mode": {
    "name": "ipython",
    "version": 3
   },
   "file_extension": ".py",
   "mimetype": "text/x-python",
   "name": "python",
   "nbconvert_exporter": "python",
   "pygments_lexer": "ipython3",
   "version": "3.11.1"
  }
 },
 "nbformat": 4,
 "nbformat_minor": 5
}
